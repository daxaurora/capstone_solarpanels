{
 "cells": [
  {
   "cell_type": "markdown",
   "metadata": {},
   "source": [
    "# Predicting Solar Panel Adoption - Random Forest Two-Stage Model\n",
    "#### UC Berkeley MIDS\n",
    "`Team: Gabriel Hudson, Noah Levy, Laura Williams`"
   ]
  },
  {
   "cell_type": "markdown",
   "metadata": {},
   "source": [
    "Using the dataset defined in the Data Set Up notebook, train two Random Forest sequential models:\n",
    "* Random Forest Classifier to predict presence or absence of solar panels  \n",
    "* Random Forest Regressor to predict solar panel density and analyize most important predictive features."
   ]
  },
  {
   "cell_type": "code",
   "execution_count": 1,
   "metadata": {
    "collapsed": true
   },
   "outputs": [],
   "source": [
    "# imports\n",
    "import time\n",
    "import pandas as pd\n",
    "import numpy as np\n",
    "import seaborn as sns\n",
    "import matplotlib.pyplot as plt\n",
    "from sklearn.ensemble import RandomForestClassifier\n",
    "from sklearn.ensemble import RandomForestRegressor\n",
    "from sklearn.metrics import r2_score\n",
    "import rfpimp as rfp\n",
    "\n",
    "%matplotlib inline"
   ]
  },
  {
   "cell_type": "code",
   "execution_count": null,
   "metadata": {
    "collapsed": true
   },
   "outputs": [],
   "source": [
    "# if necessary, install package for calculating feature importances\n",
    "#!pip install rfpimp"
   ]
  },
  {
   "cell_type": "code",
   "execution_count": 152,
   "metadata": {
    "collapsed": true
   },
   "outputs": [],
   "source": [
    "# load curated dataset\n",
    "deepsolar = pd.read_csv('../Datasets/deepsolar_LW1_no_geo.csv', index_col=0)"
   ]
  },
  {
   "cell_type": "code",
   "execution_count": 153,
   "metadata": {},
   "outputs": [
    {
     "name": "stdout",
     "output_type": "stream",
     "text": [
      "Dataset rows and dimensions: (71305, 103)\n"
     ]
    }
   ],
   "source": [
    "print(\"Dataset rows and dimensions:\", deepsolar.shape)"
   ]
  },
  {
   "cell_type": "markdown",
   "metadata": {},
   "source": [
    "## Pre-process data\n",
    "\n",
    "* Define outcome variables\n",
    "* Split into test/train/dev"
   ]
  },
  {
   "cell_type": "code",
   "execution_count": 154,
   "metadata": {
    "collapsed": true
   },
   "outputs": [],
   "source": [
    "# create binary outcome variable for stage 1 RF classifier\n",
    "deepsolar['solar_flag']=deepsolar['number_of_solar_system_per_household'].apply(lambda x: int(x>0))"
   ]
  },
  {
   "cell_type": "code",
   "execution_count": 155,
   "metadata": {},
   "outputs": [
    {
     "name": "stdout",
     "output_type": "stream",
     "text": [
      "New binary outcome variable for Stage 1 random forest classifier 'solar_flag' has 2 values: 0 and 1\n"
     ]
    }
   ],
   "source": [
    "# Confirm values in new outcome variable\n",
    "print(\"New binary outcome variable for Stage 1 random forest classifier 'solar_flag' has\", \n",
    "      deepsolar['solar_flag'].nunique(), \"values:\", deepsolar[\"solar_flag\"].min(),\n",
    "      \"and\", deepsolar[\"solar_flag\"].max())"
   ]
  },
  {
   "cell_type": "markdown",
   "metadata": {},
   "source": [
    "Random shuffle and split data into test, training and development sets. Test data will not be used until model and dataset has been optimized on the training and development datasets."
   ]
  },
  {
   "cell_type": "code",
   "execution_count": 156,
   "metadata": {},
   "outputs": [
    {
     "name": "stdout",
     "output_type": "stream",
     "text": [
      "Full featureset shape is (71305, 102)\n",
      "Classifier outcome variable shape: (71305,)\n",
      "Regressor outcome variable shape: (71305,)\n"
     ]
    }
   ],
   "source": [
    "# separate outcome variables and features\n",
    "X = deepsolar.drop(labels=['solar_flag', 'number_of_solar_system_per_household'], axis=1).values\n",
    "Y_classifier = deepsolar['solar_flag'].values\n",
    "Y_regressor = deepsolar['number_of_solar_system_per_household'].values\n",
    "print(\"Full featureset shape is\", X.shape)\n",
    "print(\"Classifier outcome variable shape:\", Y_classifier.shape)\n",
    "print(\"Regressor outcome variable shape:\", Y_regressor.shape)"
   ]
  },
  {
   "cell_type": "code",
   "execution_count": 157,
   "metadata": {},
   "outputs": [
    {
     "name": "stdout",
     "output_type": "stream",
     "text": [
      "Training data shape:               \t(45635, 102)\n",
      "Training outcome variable - classifier:\t(45635,)\n",
      "Training outcome variable - regressor:\t(45635,)\n",
      "Dev data shape:                    \t(11409, 102)\n",
      "Dev outcome variable - classifier: \t(11409,)\n",
      "Dev outcome variable - regressor:  \t(11409,)\n",
      "Test data shape:                   \t(14261, 102)\n",
      "Test outcome variable - classifier:\t(14261,)\n",
      "Test outcome variable - regressor: \t(14261,)\n"
     ]
    }
   ],
   "source": [
    "# set a random seed to keep the split the same for development when testing different data sets\n",
    "np.random.seed(0)\n",
    "\n",
    "# shuffle data\n",
    "shuffle = np.random.permutation(np.arange(X.shape[0]))\n",
    "X = X[shuffle]\n",
    "Y_classifier = Y_classifier[shuffle]\n",
    "Y_regressor = Y_regressor[shuffle]\n",
    "\n",
    "# split data and labels into test set and 80% training set\n",
    "n_train = int(0.8*X.shape[0])\n",
    "X_train_80 = X[:n_train,:]\n",
    "X_test = X[n_train:,:]\n",
    "Y_classifier_train_80 = Y_classifier[:n_train]\n",
    "Y_classifier_test = Y_classifier[n_train:]\n",
    "Y_regressor_train_80 = Y_regressor[:n_train]\n",
    "Y_regressor_test = Y_regressor[n_train:]\n",
    "\n",
    "# split training data and labels into training and development sets\n",
    "n_dev = int(0.8*X_train_80.shape[0])\n",
    "X_train = X_train_80[:n_dev,:]\n",
    "X_dev = X_train_80[n_dev:,:]\n",
    "Y_classifier_train = Y_classifier_train_80[:n_dev]\n",
    "Y_classifier_dev = Y_classifier_train_80[n_dev:]\n",
    "Y_regressor_train = Y_regressor_train_80[:n_dev]\n",
    "Y_regressor_dev = Y_regressor_train_80[n_dev:]\n",
    "\n",
    "\n",
    "\n",
    "print(\"{:<35}\\t{}\".format(\"Training data shape:\", X_train.shape))\n",
    "print(\"{:<35}\\t{}\".format(\"Training outcome variable - classifier:\",Y_classifier_train.shape ))\n",
    "print(\"{:<35}\\t{}\".format(\"Training outcome variable - regressor:\",Y_regressor_train.shape ))\n",
    "print(\"{:<35}\\t{}\".format(\"Dev data shape:\", X_dev.shape))\n",
    "print(\"{:<35}\\t{}\".format(\"Dev outcome variable - classifier:\",Y_classifier_dev.shape ))\n",
    "print(\"{:<35}\\t{}\".format(\"Dev outcome variable - regressor:\",Y_regressor_dev.shape ))\n",
    "print(\"{:<35}\\t{}\".format(\"Test data shape:\", X_test.shape))\n",
    "print(\"{:<35}\\t{}\".format(\"Test outcome variable - classifier:\",Y_classifier_test.shape ))\n",
    "print(\"{:<35}\\t{}\".format(\"Test outcome variable - regressor:\",Y_regressor_test.shape ))\n",
    "\n"
   ]
  },
  {
   "cell_type": "markdown",
   "metadata": {},
   "source": [
    "## Train the model"
   ]
  },
  {
   "cell_type": "code",
   "execution_count": 158,
   "metadata": {
    "collapsed": true
   },
   "outputs": [],
   "source": [
    "def train_2stage_model(n, depth, features, \n",
    "                       n_R, depth_R, features_R,\n",
    "                       X_train, Y_classifier_train, Y_regressor_train,\n",
    "                       X_test, Y_classifier_test, Y_regressor_test):\n",
    "    \"\"\"Input: hyperparameters for Stage 1 classifier, hyperparameters for Stage 2 regressor,\n",
    "    training and test data, and training and test outcome variables for both the\n",
    "    classifier and regressor.\n",
    "    Output: classifer model and R squared score, regressor model and R squared score, \n",
    "    combined model R squared score\"\"\"\n",
    "    # define and fit classifier\n",
    "    classifier = RandomForestClassifier(n_estimators=n, max_depth=depth, max_features=features, n_jobs=1)\n",
    "    classifier.fit(X_train, Y_classifier_train)  \n",
    "    # define and fit regressor\n",
    "    regressor = RandomForestRegressor(n_estimators=n_R, max_depth=depth_R, max_features=features_R, n_jobs=1)\n",
    "    regressor.fit(X_train, Y_regressor_train)\n",
    "    # calculate individual scores\n",
    "    classifier_score = classifier.score(X_test,Y_classifier_test)\n",
    "    regressor_score = regressor.score(X_dev,Y_regressor_dev)\n",
    "    # calculate combined model scores\n",
    "    classifier_preds=classifier.predict(X_dev)\n",
    "    regressor_preds=regressor.predict(X_dev)\n",
    "    final_preds=regressor_preds*classifier_preds\n",
    "    combined_score = r2_score(Y_regressor_dev,final_preds)\n",
    "    \n",
    "    return classifier, regressor, classifier_score, regressor_score, combined_score\n",
    "    "
   ]
  },
  {
   "cell_type": "code",
   "execution_count": 160,
   "metadata": {
    "collapsed": true
   },
   "outputs": [],
   "source": [
    "# Classifier parameters - use best parameters from Noah's hyperparameter tuning\n",
    "n = 100\n",
    "depth = None\n",
    "features = 'auto'"
   ]
  },
  {
   "cell_type": "code",
   "execution_count": 161,
   "metadata": {
    "collapsed": true
   },
   "outputs": [],
   "source": [
    "# Regressor parameters\n",
    "n_R = 100\n",
    "depth_R = 15\n",
    "features_R = 'auto'"
   ]
  },
  {
   "cell_type": "code",
   "execution_count": 129,
   "metadata": {},
   "outputs": [
    {
     "name": "stdout",
     "output_type": "stream",
     "text": [
      "Processing time: 6.41 minutes\n"
     ]
    }
   ],
   "source": [
    "# train the full model and report scores using training set and development set\n",
    "start = time.time()\n",
    "classifier, \\\n",
    "regressor, \\\n",
    "classifier_score, \\\n",
    "regressor_score, \\\n",
    "combined_score = train_2stage_model(n, depth, features, \n",
    "                                    n_R, depth_R, features_R,\n",
    "                                    X_train, Y_classifier_train, Y_regressor_train,\n",
    "                                    X_dev, Y_classifier_dev, Y_regressor_dev)\n",
    "print(\"Processing time: {} minutes\".format(round((time.time() - start)/60, 2)))"
   ]
  },
  {
   "cell_type": "code",
   "execution_count": 162,
   "metadata": {},
   "outputs": [
    {
     "name": "stdout",
     "output_type": "stream",
     "text": [
      "Processing time: 6.04 minutes\n"
     ]
    }
   ],
   "source": [
    "# train the full model and report scores using training set and development set - no geographic features\n",
    "start = time.time()\n",
    "classifier_nogeo, \\\n",
    "regressor_nogeo, \\\n",
    "classifier_score_nogeo, \\\n",
    "regressor_score_nogeo, \\\n",
    "combined_score_nogeo = train_2stage_model(n, depth, features, \n",
    "                                    n_R, depth_R, features_R,\n",
    "                                    X_train, Y_classifier_train, Y_regressor_train,\n",
    "                                    X_dev, Y_classifier_dev, Y_regressor_dev)\n",
    "print(\"Processing time: {} minutes\".format(round((time.time() - start)/60, 2)))"
   ]
  },
  {
   "cell_type": "code",
   "execution_count": 130,
   "metadata": {},
   "outputs": [
    {
     "name": "stdout",
     "output_type": "stream",
     "text": [
      "Individual classifier R squared is: 0.809361030765\n",
      "Individual regressor R squared is: 0.747367652428\n",
      "Combined final model R squared is: 0.748542057252\n"
     ]
    }
   ],
   "source": [
    "# base dataset (see Data Set Up notebook)\n",
    "print(\"Individual classifier R squared is:\", classifier_score)\n",
    "print(\"Individual regressor R squared is:\", regressor_score)\n",
    "print(\"Combined final model R squared is:\", combined_score)"
   ]
  },
  {
   "cell_type": "code",
   "execution_count": 163,
   "metadata": {},
   "outputs": [
    {
     "name": "stdout",
     "output_type": "stream",
     "text": [
      "Individual classifier R squared is: 0.805679726532\n",
      "Individual regressor R squared is: 0.708251462293\n",
      "Combined final model R squared is: 0.708886626406\n"
     ]
    }
   ],
   "source": [
    "# geographic variables removed\n",
    "print(\"Individual classifier R squared is:\", classifier_score_nogeo)\n",
    "print(\"Individual regressor R squared is:\", regressor_score_nogeo)\n",
    "print(\"Combined final model R squared is:\", combined_score_nogeo)"
   ]
  },
  {
   "cell_type": "markdown",
   "metadata": {},
   "source": [
    "## Feature Importances"
   ]
  },
  {
   "cell_type": "markdown",
   "metadata": {},
   "source": [
    "### Classifier Feature Importances\n",
    "\n",
    "Permutation importances are expected to return more accurate feature importances due to its underlying calculations.  Standard sklearn feature importances are also calculated as a comparison"
   ]
  },
  {
   "cell_type": "markdown",
   "metadata": {},
   "source": [
    "Permutation importances for base dataset (see Data Set Up notebook)"
   ]
  },
  {
   "cell_type": "code",
   "execution_count": 131,
   "metadata": {
    "collapsed": true
   },
   "outputs": [],
   "source": [
    "feature_cols = deepsolar.drop(labels=[\"solar_flag\", 'number_of_solar_system_per_household'], axis=1).columns.values"
   ]
  },
  {
   "cell_type": "code",
   "execution_count": 132,
   "metadata": {
    "collapsed": true
   },
   "outputs": [],
   "source": [
    "classifier_importances_permutation = rfp.importances(classifier, \n",
    "                                                     pd.DataFrame(X_dev,columns=feature_cols), \n",
    "                                                     pd.DataFrame(Y_classifier_dev,columns=['solar_flag']))"
   ]
  },
  {
   "cell_type": "code",
   "execution_count": 133,
   "metadata": {},
   "outputs": [
    {
     "name": "stdout",
     "output_type": "stream",
     "text": [
      "Classifier features importances by permutation importance\n",
      "\n",
      "                                     Importance\n",
      "Feature                                        \n",
      "population_density                       0.0262\n",
      "heating_fuel_coal_coke_rate              0.0078\n",
      "daily_solar_radiation                    0.0062\n",
      "occupation_agriculture_rate              0.0046\n",
      "lat                                      0.0042\n",
      "elevation                                0.0030\n",
      "transportation_car_alone_rate            0.0030\n",
      "travel_time_average                      0.0028\n",
      "transportation_walk_rate                 0.0026\n",
      "race_asian_rate                          0.0026\n",
      "age_65_74_rate                           0.0024\n",
      "transportation_home_rate                 0.0024\n",
      "race_white_rate                          0.0024\n",
      "transportation_public_rate               0.0022\n",
      "travel_time_less_than_10_rate            0.0022\n",
      "age_25_34_rate                           0.0022\n",
      "education_high_school_graduate_rate      0.0022\n",
      "lon                                      0.0020\n",
      "per_capita_income                        0.0020\n",
      "water_percent                            0.0020\n"
     ]
    }
   ],
   "source": [
    "print(\"Classifier features importances by permutation importance\\n\")\n",
    "print(classifier_importances_permutation[:20])"
   ]
  },
  {
   "cell_type": "markdown",
   "metadata": {},
   "source": [
    "Standard gini importances for base dataset"
   ]
  },
  {
   "cell_type": "code",
   "execution_count": 134,
   "metadata": {
    "collapsed": true
   },
   "outputs": [],
   "source": [
    "classifier_importances_standard=pd.DataFrame(classifier.feature_importances_, \n",
    "                                             index=feature_cols, \n",
    "                                             columns=[\"Importance\"]) \\\n",
    "                                  .sort_values(\"Importance\", ascending=False)"
   ]
  },
  {
   "cell_type": "code",
   "execution_count": 135,
   "metadata": {},
   "outputs": [
    {
     "name": "stdout",
     "output_type": "stream",
     "text": [
      "Classifier feature importances by sklearn's gini importance\n",
      "\n",
      "                                     Importance\n",
      "population_density                     0.066378\n",
      "heating_fuel_coal_coke_rate            0.027931\n",
      "housing_unit_median_value              0.022737\n",
      "occupancy_vacant_rate                  0.019712\n",
      "race_asian_rate                        0.019130\n",
      "lon                                    0.018290\n",
      "daily_solar_radiation                  0.016063\n",
      "housing_unit_median_gross_rent         0.015277\n",
      "education_bachelor_rate                0.014862\n",
      "mortgage_with_rate                     0.014674\n",
      "race_white_rate                        0.014396\n",
      "travel_time_less_than_10_rate          0.014010\n",
      "transportation_public_rate             0.013524\n",
      "relative_humidity                      0.013319\n",
      "average_household_income               0.013198\n",
      "education_high_school_graduate_rate    0.013064\n",
      "occupation_agriculture_rate            0.012689\n",
      "race_black_africa_rate                 0.011609\n",
      "number_of_years_of_education           0.011504\n",
      "travel_time_average                    0.011452\n"
     ]
    }
   ],
   "source": [
    "print(\"Classifier feature importances by sklearn's gini importance\\n\")\n",
    "print(classifier_importances_standard[:20])"
   ]
  },
  {
   "cell_type": "markdown",
   "metadata": {},
   "source": [
    "### Regressor Feature Importances"
   ]
  },
  {
   "cell_type": "markdown",
   "metadata": {},
   "source": [
    "Permutation importances for base dataset"
   ]
  },
  {
   "cell_type": "code",
   "execution_count": 136,
   "metadata": {
    "collapsed": true
   },
   "outputs": [],
   "source": [
    "regressor_importances_permutation = rfp.importances(regressor, \n",
    "                                                    pd.DataFrame(X_dev,columns=feature_cols), \n",
    "                                                    pd.DataFrame(Y_regressor_dev,\n",
    "                                                                 columns=['number_of_solar_system_per_household']))"
   ]
  },
  {
   "cell_type": "code",
   "execution_count": 137,
   "metadata": {},
   "outputs": [
    {
     "name": "stdout",
     "output_type": "stream",
     "text": [
      "Regressor feature importances by permutation importance\n",
      "\n",
      "                                   Importance\n",
      "Feature                                      \n",
      "incentive_count_residential          1.130838\n",
      "lon                                  0.288621\n",
      "occupancy_owner_rate                 0.188843\n",
      "daily_solar_radiation                0.140990\n",
      "voting_2016_dem_percentage           0.091133\n",
      "median_household_income              0.057409\n",
      "occupation_manufacturing_rate        0.040190\n",
      "population_density                   0.037160\n",
      "lat                                  0.035206\n",
      "household_type_family_rate           0.028365\n",
      "relative_humidity                    0.020988\n",
      "housing_unit_median_gross_rent       0.019217\n",
      "incentive_residential_state_level    0.018352\n",
      "sales_tax                            0.017556\n",
      "heating_fuel_coal_coke_rate          0.016340\n",
      "housing_unit_median_value            0.014702\n",
      "elevation                            0.008141\n",
      "county                               0.007353\n",
      "electricity_consume_residential      0.007091\n",
      "average_household_income             0.006674\n"
     ]
    }
   ],
   "source": [
    "print(\"Regressor feature importances by permutation importance\\n\")\n",
    "print(regressor_importances_permutation[:20])"
   ]
  },
  {
   "cell_type": "markdown",
   "metadata": {},
   "source": [
    "Standard gini importances for base dataset"
   ]
  },
  {
   "cell_type": "code",
   "execution_count": 138,
   "metadata": {
    "collapsed": true
   },
   "outputs": [],
   "source": [
    "regressor_importances_standard=pd.DataFrame(regressor.feature_importances_, \n",
    "                                             index=feature_cols, \n",
    "                                             columns=[\"Importance\"]) \\\n",
    "                                  .sort_values(\"Importance\", ascending=False)"
   ]
  },
  {
   "cell_type": "code",
   "execution_count": 139,
   "metadata": {},
   "outputs": [
    {
     "name": "stdout",
     "output_type": "stream",
     "text": [
      "Regressor feature importances by sklearn's gini importance\n",
      "\n",
      "                                   Importance\n",
      "incentive_count_residential          0.191331\n",
      "occupancy_owner_rate                 0.130105\n",
      "daily_solar_radiation                0.082209\n",
      "median_household_income              0.048716\n",
      "lon                                  0.041797\n",
      "population_density                   0.028325\n",
      "education_college_rate               0.025307\n",
      "lat                                  0.022357\n",
      "housing_unit_median_gross_rent       0.020341\n",
      "household_type_family_rate           0.020286\n",
      "voting_2016_dem_percentage           0.019494\n",
      "occupation_manufacturing_rate        0.013862\n",
      "relative_humidity                    0.013595\n",
      "sales_tax                            0.010451\n",
      "heating_fuel_coal_coke_rate          0.010107\n",
      "health_insurance_public_rate         0.010081\n",
      "housing_unit_median_value            0.010066\n",
      "mortgage_with_rate                   0.009195\n",
      "heating_fuel_solar_rate              0.008705\n",
      "incentive_residential_state_level    0.007997\n"
     ]
    }
   ],
   "source": [
    "print(\"Regressor feature importances by sklearn's gini importance\\n\")\n",
    "print(regressor_importances_standard[:20])"
   ]
  },
  {
   "cell_type": "markdown",
   "metadata": {},
   "source": [
    "Permutation importances from regressor for base dataset with geographic features removed"
   ]
  },
  {
   "cell_type": "code",
   "execution_count": 164,
   "metadata": {
    "collapsed": true
   },
   "outputs": [],
   "source": [
    "features_cols_nogeo = deepsolar.drop(labels=[\"solar_flag\", 'number_of_solar_system_per_household'], axis=1) \\\n",
    "                               .columns.values"
   ]
  },
  {
   "cell_type": "code",
   "execution_count": 165,
   "metadata": {},
   "outputs": [],
   "source": [
    "regressor_importances_permutation_no_geo = rfp.importances(regressor_nogeo, \n",
    "                                                           pd.DataFrame(X_dev,columns=features_cols_nogeo), \n",
    "                                                           pd.DataFrame(Y_regressor_dev,\n",
    "                                                              columns=['number_of_solar_system_per_household']))"
   ]
  },
  {
   "cell_type": "code",
   "execution_count": 166,
   "metadata": {},
   "outputs": [
    {
     "name": "stdout",
     "output_type": "stream",
     "text": [
      "Regressor feature importances for dataset without geographic features by permutation importance\n",
      "\n",
      "                                     Importance\n",
      "Feature                                        \n",
      "incentive_count_residential            0.648438\n",
      "occupancy_owner_rate                   0.194816\n",
      "daily_solar_radiation                  0.150481\n",
      "population_density                     0.064929\n",
      "voting_2016_dem_percentage             0.056464\n",
      "median_household_income                0.034909\n",
      "incentive_residential_state_level      0.026979\n",
      "housing_unit_median_gross_rent         0.023820\n",
      "household_type_family_rate             0.023502\n",
      "sales_tax                              0.022533\n",
      "occupation_public_rate                 0.015693\n",
      "relative_humidity                      0.015121\n",
      "electricity_consume_residential        0.012916\n",
      "mortgage_with_rate                     0.009409\n",
      "housing_unit_median_value              0.007771\n",
      "air_temperature                        0.007046\n",
      "health_insurance_none_rate             0.006738\n",
      "wind_speed                             0.005439\n",
      "education_high_school_graduate_rate    0.005425\n",
      "heating_fuel_solar_rate                0.005376\n"
     ]
    }
   ],
   "source": [
    "print(\"Regressor feature importances for dataset without geographic features by permutation importance\\n\")\n",
    "print(regressor_importances_permutation_no_geo[:20])"
   ]
  },
  {
   "cell_type": "markdown",
   "metadata": {
    "collapsed": true
   },
   "source": [
    "### Plots of Important Features"
   ]
  },
  {
   "cell_type": "markdown",
   "metadata": {},
   "source": [
    "First plot is from the base dataset (see Data Set Up notebook)"
   ]
  },
  {
   "cell_type": "code",
   "execution_count": 140,
   "metadata": {
    "collapsed": true
   },
   "outputs": [],
   "source": [
    "# choose number of features to show in the plot\n",
    "feature_num = 9\n",
    "feature_index = np.arange(feature_num)"
   ]
  },
  {
   "cell_type": "code",
   "execution_count": 141,
   "metadata": {},
   "outputs": [],
   "source": [
    "# set up plot values\n",
    "feature_values = regressor_importances_permutation[:feature_num][\"Importance\"]\n",
    "feature_names = regressor_importances_permutation[:feature_num].index"
   ]
  },
  {
   "cell_type": "code",
   "execution_count": 142,
   "metadata": {},
   "outputs": [
    {
     "data": {
      "image/png": "[encoded data removed]",
      "text/plain": [
       "<matplotlib.figure.Figure at 0x12a64ac88>"
      ]
     },
     "metadata": {},
     "output_type": "display_data"
    }
   ],
   "source": [
    "fig,ax=plt.subplots(figsize=(20,6))\n",
    "ax.bar(feature_index, feature_values, color='darkorange')\n",
    "ax.set_facecolor('whitesmoke')\n",
    "ax.set_ylabel(\"Importance\")\n",
    "ax.set_title(\"Regressor Feature Importance Using Permutation Importance\")\n",
    "ax.set_xticks(feature_index)\n",
    "ax.set_xticklabels(feature_names, rotation=30)\n",
    "plt.show()"
   ]
  },
  {
   "cell_type": "markdown",
   "metadata": {},
   "source": [
    "Second plot is from the dataset without geographic features"
   ]
  },
  {
   "cell_type": "code",
   "execution_count": 167,
   "metadata": {},
   "outputs": [],
   "source": [
    "# set up plot values\n",
    "feature_values_nogeo = regressor_importances_permutation_no_geo[:feature_num][\"Importance\"]\n",
    "feature_names_nogeo = regressor_importances_permutation_no_geo[:feature_num].index"
   ]
  },
  {
   "cell_type": "code",
   "execution_count": 168,
   "metadata": {},
   "outputs": [
    {
     "data": {
      "image/png": "[encoded data removed]",
      "text/plain": [
       "<matplotlib.figure.Figure at 0x12b8d9400>"
      ]
     },
     "metadata": {},
     "output_type": "display_data"
    }
   ],
   "source": [
    "fig,ax=plt.subplots(figsize=(20,6))\n",
    "ax.bar(feature_index, feature_values_nogeo, color='darkorange')\n",
    "ax.set_facecolor('whitesmoke')\n",
    "ax.set_ylabel(\"Importance\")\n",
    "ax.set_title(\"Regressor Feature Importance Without Geographic Variables Using Permutation Importance\")\n",
    "ax.set_xticks(feature_index)\n",
    "ax.set_xticklabels(feature_names_nogeo, rotation=30)\n",
    "plt.show()"
   ]
  },
  {
   "cell_type": "markdown",
   "metadata": {},
   "source": [
    "For comparison, the standard gini importances from the regressor on the base dataset"
   ]
  },
  {
   "cell_type": "code",
   "execution_count": 143,
   "metadata": {
    "collapsed": true
   },
   "outputs": [],
   "source": [
    "# set up plot values\n",
    "feature_values_std = regressor_importances_standard[:feature_num][\"Importance\"]\n",
    "feature_names_std = regressor_importances_standard[:feature_num].index"
   ]
  },
  {
   "cell_type": "code",
   "execution_count": 144,
   "metadata": {},
   "outputs": [
    {
     "data": {
      "image/png": "[encoded data removed]",
      "text/plain": [
       "<matplotlib.figure.Figure at 0x12a940470>"
      ]
     },
     "metadata": {},
     "output_type": "display_data"
    }
   ],
   "source": [
    "fig,ax=plt.subplots(figsize=(20,6))\n",
    "ax.bar(feature_index, feature_values_std, color='darkorange')\n",
    "ax.set_facecolor('whitesmoke')\n",
    "ax.set_ylabel(\"Importance\")\n",
    "ax.set_title(\"Regressor Feature Importance Using Standard Gini Importance\")\n",
    "ax.set_xticks(feature_index)\n",
    "ax.set_xticklabels(feature_names_std, rotation=30)\n",
    "plt.show()"
   ]
  }
 ],
 "metadata": {
  "kernelspec": {
   "display_name": "Python 3",
   "language": "python",
   "name": "python3"
  },
  "language_info": {
   "codemirror_mode": {
    "name": "ipython",
    "version": 3
   },
   "file_extension": ".py",
   "mimetype": "text/x-python",
   "name": "python",
   "nbconvert_exporter": "python",
   "pygments_lexer": "ipython3",
   "version": "3.6.1"
  }
 },
 "nbformat": 4,
 "nbformat_minor": 2
}
