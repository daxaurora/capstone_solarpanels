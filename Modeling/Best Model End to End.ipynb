{
 "cells": [
  {
   "cell_type": "code",
   "execution_count": 85,
   "metadata": {
    "collapsed": true
   },
   "outputs": [],
   "source": [
    "import pandas as pd\n",
    "import numpy as np\n",
    "from sklearn.preprocessing import Imputer\n",
    "from sklearn import preprocessing\n",
    "from sklearn.model_selection import train_test_split\n",
    "from sklearn.ensemble import RandomForestClassifier\n",
    "from sklearn.ensemble import RandomForestRegressor\n",
    "from sklearn.metrics import r2_score\n",
    "import matplotlib.pyplot as plt"
   ]
  },
  {
   "cell_type": "code",
   "execution_count": 2,
   "metadata": {
    "collapsed": true
   },
   "outputs": [],
   "source": [
    "# load full dataset\n",
    "deepsolar_original = pd.read_csv('../deepsolar_tract.csv', index_col=0, encoding='ISO-8859-1')"
   ]
  },
  {
   "cell_type": "markdown",
   "metadata": {},
   "source": [
    "# Pre-Process the Dataset"
   ]
  },
  {
   "cell_type": "code",
   "execution_count": 86,
   "metadata": {
    "collapsed": true
   },
   "outputs": [],
   "source": [
    "deepsolar_curated = deepsolar_original[deepsolar_original['population'] != 0]\n",
    "deepsolar_curated = deepsolar_curated[deepsolar_curated['household_count'] != 0]\n",
    "deepsolar_curated = deepsolar_curated[deepsolar_curated['population'] >= 100]\n",
    "deepsolar_curated = deepsolar_curated[deepsolar_curated['household_count'] >= 100]\n",
    "deepsolar_curated['water_percent'] = deepsolar_curated['water_area']/deepsolar_curated['total_area']\n",
    "deepsolar_curated = deepsolar_curated[deepsolar_curated['water_percent'] < 0.75]\n",
    "#deepsolar_curated.drop(labels='water_percent', axis=1, inplace=True)"
   ]
  },
  {
   "cell_type": "code",
   "execution_count": 87,
   "metadata": {
    "collapsed": true
   },
   "outputs": [],
   "source": [
    "relevant_cols=['average_household_income','county','gini_index','land_area','per_capita_income','population_density','state','total_area','water_area','education_less_than_high_school_rate','education_high_school_graduate_rate','education_college_rate','education_bachelor_rate','education_master_rate','education_professional_school_rate','education_doctoral_rate','race_white_rate','race_black_africa_rate','race_indian_alaska_rate','race_asian_rate','race_islander_rate','race_other_rate','race_two_more_rate','employ_rate','poverty_family_below_poverty_level_rate','heating_fuel_gas_rate','heating_fuel_electricity_rate','heating_fuel_fuel_oil_kerosene_rate','heating_fuel_coal_coke_rate','heating_fuel_solar_rate','heating_fuel_other_rate','heating_fuel_none_rate','median_household_income','electricity_price_residential','electricity_consume_residential','average_household_size','housing_unit_median_value','housing_unit_median_gross_rent','lat','lon','elevation','cooling_design_temperature','earth_temperature_amplitude','frost_days','relative_humidity','daily_solar_radiation','atmospheric_pressure','wind_speed','age_18_24_rate','age_25_34_rate','age_more_than_85_rate','age_75_84_rate','age_35_44_rate','age_45_54_rate','age_65_74_rate','age_55_64_rate','age_10_14_rate','age_15_17_rate','age_5_9_rate','household_type_family_rate','dropout_16_19_inschool_rate','occupation_construction_rate','occupation_public_rate','occupation_information_rate','occupation_finance_rate','occupation_education_rate','occupation_administrative_rate','occupation_manufacturing_rate','occupation_wholesale_rate','occupation_retail_rate','occupation_transportation_rate','occupation_arts_rate','occupation_agriculture_rate','occupancy_vacant_rate','occupancy_owner_rate','mortgage_with_rate','transportation_home_rate','transportation_car_alone_rate','transportation_walk_rate','transportation_carpool_rate','transportation_motorcycle_rate','transportation_bicycle_rate','transportation_public_rate','travel_time_less_than_10_rate','travel_time_10_19_rate','travel_time_20_29_rate','travel_time_30_39_rate','travel_time_40_59_rate','travel_time_60_89_rate','health_insurance_public_rate','health_insurance_none_rate','age_median','travel_time_average','voting_2016_dem_percentage','voting_2016_dem_win','voting_2012_dem_win','number_of_years_of_education','diversity','number_of_solar_system_per_household','incentive_count_residential','incentive_residential_state_level','net_metering','feedin_tariff','cooperate_tax','property_tax','sales_tax','rebate','avg_electricity_retail_rate'\n",
    "]\n",
    "relevant_cols.remove('land_area')\n",
    "relevant_cols.remove('water_area')\n",
    "relevant_cols.remove('total_area')\n",
    "relevant_cols.append('water_percent')\n",
    "deepsolar_curated=deepsolar_curated[relevant_cols]"
   ]
  },
  {
   "cell_type": "code",
   "execution_count": 88,
   "metadata": {
    "collapsed": false
   },
   "outputs": [
    {
     "name": "stdout",
     "output_type": "stream",
     "text": [
      "average_household_income float64\n",
      "county object\n",
      "gini_index float64\n",
      "land_area float64\n",
      "per_capita_income float64\n",
      "population_density float64\n",
      "state object\n",
      "total_area float64\n",
      "water_area float64\n",
      "education_less_than_high_school_rate float64\n",
      "education_high_school_graduate_rate float64\n",
      "education_college_rate float64\n",
      "education_bachelor_rate float64\n",
      "education_master_rate float64\n",
      "education_professional_school_rate float64\n",
      "education_doctoral_rate float64\n",
      "race_white_rate float64\n",
      "race_black_africa_rate float64\n",
      "race_indian_alaska_rate float64\n",
      "race_asian_rate float64\n",
      "race_islander_rate float64\n",
      "race_other_rate float64\n",
      "race_two_more_rate float64\n",
      "employ_rate float64\n",
      "poverty_family_below_poverty_level_rate float64\n",
      "heating_fuel_gas_rate float64\n",
      "heating_fuel_electricity_rate float64\n",
      "heating_fuel_fuel_oil_kerosene_rate float64\n",
      "heating_fuel_coal_coke_rate float64\n",
      "heating_fuel_solar_rate float64\n",
      "heating_fuel_other_rate float64\n",
      "heating_fuel_none_rate float64\n",
      "median_household_income float64\n",
      "electricity_price_residential float64\n",
      "electricity_consume_residential int64\n",
      "average_household_size float64\n",
      "housing_unit_median_value float64\n",
      "housing_unit_median_gross_rent float64\n",
      "lat float64\n",
      "lon float64\n",
      "elevation float64\n",
      "cooling_design_temperature float64\n",
      "earth_temperature_amplitude float64\n",
      "frost_days float64\n",
      "relative_humidity float64\n",
      "daily_solar_radiation float64\n",
      "atmospheric_pressure float64\n",
      "wind_speed float64\n",
      "age_18_24_rate float64\n",
      "age_25_34_rate float64\n",
      "age_more_than_85_rate float64\n",
      "age_75_84_rate float64\n",
      "age_35_44_rate float64\n",
      "age_45_54_rate float64\n",
      "age_65_74_rate float64\n",
      "age_55_64_rate float64\n",
      "age_10_14_rate float64\n",
      "age_15_17_rate float64\n",
      "age_5_9_rate float64\n",
      "household_type_family_rate float64\n",
      "dropout_16_19_inschool_rate float64\n",
      "occupation_construction_rate float64\n",
      "occupation_public_rate float64\n",
      "occupation_information_rate float64\n",
      "occupation_finance_rate float64\n",
      "occupation_education_rate float64\n",
      "occupation_administrative_rate float64\n",
      "occupation_manufacturing_rate float64\n",
      "occupation_wholesale_rate float64\n",
      "occupation_retail_rate float64\n",
      "occupation_transportation_rate float64\n",
      "occupation_arts_rate float64\n",
      "occupation_agriculture_rate float64\n",
      "occupancy_vacant_rate float64\n",
      "occupancy_owner_rate float64\n",
      "mortgage_with_rate float64\n",
      "transportation_home_rate float64\n",
      "transportation_car_alone_rate float64\n",
      "transportation_walk_rate float64\n",
      "transportation_carpool_rate float64\n",
      "transportation_motorcycle_rate float64\n",
      "transportation_bicycle_rate float64\n",
      "transportation_public_rate float64\n",
      "travel_time_less_than_10_rate float64\n",
      "travel_time_10_19_rate float64\n",
      "travel_time_20_29_rate float64\n",
      "travel_time_30_39_rate float64\n",
      "travel_time_40_59_rate float64\n",
      "travel_time_60_89_rate float64\n",
      "health_insurance_public_rate float64\n",
      "health_insurance_none_rate float64\n",
      "age_median float64\n",
      "travel_time_average float64\n",
      "voting_2016_dem_percentage float64\n",
      "voting_2016_dem_win bool\n",
      "voting_2012_dem_win bool\n",
      "number_of_years_of_education float64\n",
      "diversity float64\n",
      "number_of_solar_system_per_household float64\n",
      "incentive_count_residential int64\n",
      "incentive_residential_state_level int64\n",
      "net_metering int64\n",
      "feedin_tariff int64\n",
      "cooperate_tax int64\n",
      "property_tax int64\n",
      "sales_tax int64\n",
      "rebate int64\n",
      "avg_electricity_retail_rate float64\n",
      "water_percent float64\n"
     ]
    }
   ],
   "source": [
    "for i in relevant_cols:\n",
    "    print(i,deepsolar_curated.dtypes[i])"
   ]
  },
  {
   "cell_type": "code",
   "execution_count": 86,
   "metadata": {
    "collapsed": true
   },
   "outputs": [],
   "source": [
    "deepsolar_curated['elevation']. \\\n",
    "    fillna(deepsolar_curated['elevation'].median(), inplace=True)\n",
    "deepsolar_curated['daily_solar_radiation']. \\\n",
    "    fillna(deepsolar_curated['daily_solar_radiation'].median(), inplace=True)\n",
    "deepsolar_curated['lat']. \\\n",
    "    fillna(deepsolar_curated['lat'].median(), inplace=True)\n",
    "deepsolar_curated['lon']. \\\n",
    "    fillna(deepsolar_curated['lon'].median(), inplace=True)\n",
    "deepsolar_curated['cooling_design_temperature']. \\\n",
    "    fillna(deepsolar_curated['cooling_design_temperature'].median(), inplace=True)\n",
    "deepsolar_curated['earth_temperature_amplitude']. \\\n",
    "    fillna(deepsolar_curated['earth_temperature_amplitude'].median(), inplace=True)\n",
    "deepsolar_curated['frost_days']. \\\n",
    "    fillna(deepsolar_curated['frost_days'].median(), inplace=True)\n",
    "deepsolar_curated['relative_humidity']. \\\n",
    "    fillna(deepsolar_curated['relative_humidity'].median(), inplace=True)\n",
    "deepsolar_curated['atmospheric_pressure']. \\\n",
    "    fillna(deepsolar_curated['atmospheric_pressure'].median(), inplace=True)\n",
    "deepsolar_curated['wind_speed']. \\\n",
    "    fillna(deepsolar_curated['wind_speed'].median(), inplace=True)\n",
    "    "
   ]
  },
  {
   "cell_type": "code",
   "execution_count": 87,
   "metadata": {
    "collapsed": true
   },
   "outputs": [],
   "source": [
    "deepsolar_curated['housing_unit_median_gross_rent']. \\\n",
    "    fillna(deepsolar_curated['housing_unit_median_gross_rent'].median(), inplace=True)\n",
    "deepsolar_curated['housing_unit_median_value']. \\\n",
    "    fillna(deepsolar_curated['housing_unit_median_value'].median(), inplace=True)\n",
    "deepsolar_curated['dropout_16_19_inschool_rate']. \\\n",
    "    fillna(deepsolar_curated['dropout_16_19_inschool_rate'].median(), inplace=True)\n",
    "deepsolar_curated['mortgage_with_rate']. \\\n",
    "    fillna(deepsolar_curated['mortgage_with_rate'].median(), inplace=True)\n",
    "deepsolar_curated['median_household_income']. \\\n",
    "    fillna(deepsolar_curated['median_household_income'].median(), inplace=True)\n",
    "deepsolar_curated['travel_time_average']. \\\n",
    "    fillna(deepsolar_curated['travel_time_average'].median(), inplace=True)"
   ]
  },
  {
   "cell_type": "code",
   "execution_count": 70,
   "metadata": {
    "collapsed": true
   },
   "outputs": [],
   "source": [
    "for i in range(len(deepsolar_curated.dtypes)):\n",
    "    if (deepsolar_curated.columns[i] == 'number_of_solar_system_per_household') | (deepsolar_curated.dtypes[i] not in ['float64','int64']):\n",
    "        continue\n",
    "    else:\n",
    "        deepsolar_curated[deepsolar_curated.columns[i]]. \\\n",
    "    fillna(deepsolar_curated[deepsolar_curated.columns[i]].median(), inplace=True)"
   ]
  },
  {
   "cell_type": "code",
   "execution_count": 71,
   "metadata": {
    "collapsed": true
   },
   "outputs": [],
   "source": [
    "# Confirm missing values have all been replaced\n",
    "missing_val_count = deepsolar_curated.isnull().sum().sort_values(ascending=False)\n",
    "for a,b, in missing_val_count.iteritems():\n",
    "    if b>0:\n",
    "        print(\"{:<30}\\t{}\".format(a,b))\n",
    "# No output means there is no missing data"
   ]
  },
  {
   "cell_type": "code",
   "execution_count": 92,
   "metadata": {
    "collapsed": false
   },
   "outputs": [
    {
     "data": {
      "image/png": "[encoded data removed]",
      "text/plain": [
       "<Figure size 432x288 with 4 Axes>"
      ]
     },
     "metadata": {},
     "output_type": "display_data"
    }
   ],
   "source": [
    "data=deepsolar_curated[['land_area','water_area','total_area','water_percent','number_of_solar_system_per_household']].replace(np.inf,np.nan).dropna()\n",
    "\n",
    "fig,ax=plt.subplots(2,2)\n",
    "ax[0,0].scatter(data['land_area'],data['number_of_solar_system_per_household'])\n",
    "ax[0,1].scatter(data['water_area'],data['number_of_solar_system_per_household'])\n",
    "ax[1,0].scatter(data['total_area'],data['number_of_solar_system_per_household'])\n",
    "ax[1,1].scatter(data['water_percent'],data['number_of_solar_system_per_household'])\n",
    "\n",
    "plt.show()"
   ]
  },
  {
   "cell_type": "markdown",
   "metadata": {},
   "source": [
    "# Build Model"
   ]
  },
  {
   "cell_type": "code",
   "execution_count": 72,
   "metadata": {
    "collapsed": true
   },
   "outputs": [],
   "source": [
    "deepsolar=deepsolar_curated.copy()"
   ]
  },
  {
   "cell_type": "code",
   "execution_count": 73,
   "metadata": {
    "collapsed": false
   },
   "outputs": [
    {
     "name": "stdout",
     "output_type": "stream",
     "text": [
      "Dataset rows and dimensions: (71305, 106)\n"
     ]
    }
   ],
   "source": [
    "# Encode string features (county and state) into numeric features\n",
    "LE = preprocessing.LabelEncoder()\n",
    "\n",
    "LE.fit(deepsolar['county'])\n",
    "deepsolar['county'] = LE.transform(deepsolar['county'])\n",
    "\n",
    "LE.fit(deepsolar['state'])\n",
    "deepsolar['state'] = LE.transform(deepsolar['state'])\n",
    "\n",
    "print(\"Dataset rows and dimensions:\", deepsolar.shape)"
   ]
  },
  {
   "cell_type": "code",
   "execution_count": 74,
   "metadata": {
    "collapsed": true
   },
   "outputs": [],
   "source": [
    "# create binary outcome variable for stage 1 RF classifier\n",
    "deepsolar['solar_flag']=deepsolar['number_of_solar_system_per_household'].apply(lambda x: int(x>0))"
   ]
  },
  {
   "cell_type": "code",
   "execution_count": 75,
   "metadata": {
    "collapsed": true
   },
   "outputs": [],
   "source": [
    "Y_classifier = deepsolar['solar_flag'].values\n",
    "Y_regressor = deepsolar['number_of_solar_system_per_household'].values"
   ]
  },
  {
   "cell_type": "code",
   "execution_count": 48,
   "metadata": {
    "collapsed": true
   },
   "outputs": [],
   "source": [
    "# Normalize\n",
    "#deepsolar = (deepsolar - deepsolar.mean())/(deepsolar.max() - deepsolar.min())"
   ]
  },
  {
   "cell_type": "code",
   "execution_count": 76,
   "metadata": {
    "collapsed": true
   },
   "outputs": [],
   "source": [
    "X = deepsolar.drop(labels=['solar_flag', 'number_of_solar_system_per_household'], axis=1).values"
   ]
  },
  {
   "cell_type": "code",
   "execution_count": 77,
   "metadata": {
    "collapsed": false
   },
   "outputs": [
    {
     "name": "stdout",
     "output_type": "stream",
     "text": [
      "Training data shape:               \t(45635, 105)\n",
      "Training outcome variable - classifier:\t(45635,)\n",
      "Training outcome variable - regressor:\t(45635,)\n",
      "Dev data shape:                    \t(11409, 105)\n",
      "Dev outcome variable - classifier: \t(11409,)\n",
      "Dev outcome variable - regressor:  \t(11409,)\n",
      "Test data shape:                   \t(14261, 105)\n",
      "Test outcome variable - classifier:\t(14261,)\n",
      "Test outcome variable - regressor: \t(14261,)\n"
     ]
    }
   ],
   "source": [
    "# set a random seed to keep the split the same \n",
    "np.random.seed(0)\n",
    "\n",
    "# shuffle data\n",
    "shuffle = np.random.permutation(np.arange(X.shape[0]))\n",
    "X = X[shuffle]\n",
    "Y_classifier = Y_classifier[shuffle]\n",
    "Y_regressor = Y_regressor[shuffle]\n",
    "\n",
    "# split data and labels into test set and initial training set\n",
    "n_train = int(0.8*X.shape[0])\n",
    "X_train1 = X[:n_train,:]\n",
    "X_test = X[n_train:,:]\n",
    "Y_classifier_train1 = Y_classifier[:n_train]\n",
    "Y_classifier_test = Y_classifier[n_train:]\n",
    "Y_regressor_train1 = Y_regressor[:n_train]\n",
    "Y_regressor_test = Y_regressor[n_train:]\n",
    "\n",
    "# split training data and labels into training and development sets\n",
    "n_train = int(0.8*X_train1.shape[0])\n",
    "X_train = X_train1[:n_train,:]\n",
    "X_dev = X_train1[n_train:,:]\n",
    "Y_classifier_train = Y_classifier_train1[:n_train]\n",
    "Y_classifier_dev = Y_classifier_train1[n_train:]\n",
    "Y_regressor_train = Y_regressor_train1[:n_train]\n",
    "Y_regressor_dev = Y_regressor_train1[n_train:]\n",
    "\n",
    "print(\"{:<35}\\t{}\".format(\"Training data shape:\", X_train.shape))\n",
    "print(\"{:<35}\\t{}\".format(\"Training outcome variable - classifier:\",Y_classifier_train.shape ))\n",
    "print(\"{:<35}\\t{}\".format(\"Training outcome variable - regressor:\",Y_regressor_train.shape ))\n",
    "print(\"{:<35}\\t{}\".format(\"Dev data shape:\", X_dev.shape))\n",
    "print(\"{:<35}\\t{}\".format(\"Dev outcome variable - classifier:\",Y_classifier_dev.shape ))\n",
    "print(\"{:<35}\\t{}\".format(\"Dev outcome variable - regressor:\",Y_regressor_dev.shape ))\n",
    "print(\"{:<35}\\t{}\".format(\"Test data shape:\", X_test.shape))\n",
    "print(\"{:<35}\\t{}\".format(\"Test outcome variable - classifier:\",Y_classifier_test.shape ))\n",
    "print(\"{:<35}\\t{}\".format(\"Test outcome variable - regressor:\",Y_regressor_test.shape ))"
   ]
  },
  {
   "cell_type": "markdown",
   "metadata": {},
   "source": [
    "## Train Classifier"
   ]
  },
  {
   "cell_type": "code",
   "execution_count": 78,
   "metadata": {
    "collapsed": false
   },
   "outputs": [
    {
     "data": {
      "text/plain": [
       "RandomForestClassifier(bootstrap=True, class_weight=None, criterion='gini',\n",
       "            max_depth=None, max_features='auto', max_leaf_nodes=None,\n",
       "            min_impurity_decrease=0.0, min_impurity_split=None,\n",
       "            min_samples_leaf=1, min_samples_split=2,\n",
       "            min_weight_fraction_leaf=0.0, n_estimators=100, n_jobs=-1,\n",
       "            oob_score=False, random_state=None, verbose=0,\n",
       "            warm_start=False)"
      ]
     },
     "execution_count": 78,
     "metadata": {},
     "output_type": "execute_result"
    }
   ],
   "source": [
    "RF1_Classifier = RandomForestClassifier(n_estimators=100, max_depth=None,n_jobs=-1)\n",
    "RF1_Classifier.fit(X_train, Y_classifier_train)"
   ]
  },
  {
   "cell_type": "code",
   "execution_count": 93,
   "metadata": {
    "collapsed": false
   },
   "outputs": [
    {
     "data": {
      "text/plain": [
       "0.8076956788500307"
      ]
     },
     "execution_count": 93,
     "metadata": {},
     "output_type": "execute_result"
    }
   ],
   "source": [
    "# Accuracy\n",
    "RF1_Classifier.score(X_dev,Y_classifier_dev)"
   ]
  },
  {
   "cell_type": "markdown",
   "metadata": {},
   "source": [
    "## Top Classifier Importances"
   ]
  },
  {
   "cell_type": "code",
   "execution_count": 96,
   "metadata": {
    "collapsed": true
   },
   "outputs": [],
   "source": [
    "cols=list(deepsolar.columns)\n",
    "cols.remove('solar_flag')\n",
    "cols.remove('number_of_solar_system_per_household')"
   ]
  },
  {
   "cell_type": "code",
   "execution_count": 97,
   "metadata": {
    "collapsed": false
   },
   "outputs": [
    {
     "name": "stdout",
     "output_type": "stream",
     "text": [
      "('population_density', 0.06190249909888175)\n",
      "('heating_fuel_coal_coke_rate', 0.03182116466300896)\n",
      "('housing_unit_median_value', 0.0241526932089114)\n",
      "('race_asian_rate', 0.019608250487351372)\n",
      "('occupancy_vacant_rate', 0.018789644594286493)\n",
      "('lon', 0.01758128785737821)\n",
      "('housing_unit_median_gross_rent', 0.016472991535916724)\n",
      "('mortgage_with_rate', 0.015757233084241533)\n",
      "('education_high_school_graduate_rate', 0.015576878037888002)\n",
      "('race_white_rate', 0.014270609837956241)\n",
      "('daily_solar_radiation', 0.013644806913864478)\n",
      "('travel_time_less_than_10_rate', 0.0135877375911445)\n",
      "('transportation_car_alone_rate', 0.012959656150640287)\n",
      "('average_household_income', 0.012358621081170564)\n",
      "('relative_humidity', 0.012103154690272604)\n",
      "('number_of_years_of_education', 0.012068535663310507)\n",
      "('education_bachelor_rate', 0.012022999031559088)\n",
      "('travel_time_10_19_rate', 0.011986457120653927)\n",
      "('occupation_agriculture_rate', 0.011696722449995936)\n",
      "('median_household_income', 0.011532289011478564)\n"
     ]
    }
   ],
   "source": [
    "feature_importances=RF1_Classifier.feature_importances_\n",
    "features=cols\n",
    "feature_tuples=[(features[i],feature_importances[i]) for i in range(len(features))]\n",
    "sorted_features=sorted(feature_tuples,reverse=True,key=lambda k: k[1])\n",
    "for i in range(0,20):\n",
    "    print(sorted_features[i])"
   ]
  },
  {
   "cell_type": "markdown",
   "metadata": {},
   "source": [
    "## Train the Regressor"
   ]
  },
  {
   "cell_type": "code",
   "execution_count": 80,
   "metadata": {
    "collapsed": false
   },
   "outputs": [
    {
     "data": {
      "text/plain": [
       "RandomForestRegressor(bootstrap=True, criterion='mse', max_depth=None,\n",
       "           max_features='auto', max_leaf_nodes=None,\n",
       "           min_impurity_decrease=0.0, min_impurity_split=None,\n",
       "           min_samples_leaf=1, min_samples_split=2,\n",
       "           min_weight_fraction_leaf=0.0, n_estimators=200, n_jobs=-1,\n",
       "           oob_score=False, random_state=None, verbose=0, warm_start=False)"
      ]
     },
     "execution_count": 80,
     "metadata": {},
     "output_type": "execute_result"
    }
   ],
   "source": [
    "RF1_Regressor = RandomForestRegressor(n_estimators=200, max_depth=None,n_jobs=-1)\n",
    "RF1_Regressor.fit(X_train, Y_regressor_train)"
   ]
  },
  {
   "cell_type": "code",
   "execution_count": 81,
   "metadata": {
    "collapsed": true
   },
   "outputs": [],
   "source": [
    "dev_preds=RF1_Regressor.predict(X_dev)"
   ]
  },
  {
   "cell_type": "code",
   "execution_count": 82,
   "metadata": {
    "collapsed": false
   },
   "outputs": [
    {
     "data": {
      "text/plain": [
       "0.7440247842064003"
      ]
     },
     "execution_count": 82,
     "metadata": {},
     "output_type": "execute_result"
    }
   ],
   "source": [
    "r2_score(Y_regressor_dev,dev_preds)"
   ]
  },
  {
   "cell_type": "markdown",
   "metadata": {},
   "source": [
    "## Regressor Feature Importances"
   ]
  },
  {
   "cell_type": "code",
   "execution_count": 99,
   "metadata": {
    "collapsed": false,
    "scrolled": true
   },
   "outputs": [
    {
     "name": "stdout",
     "output_type": "stream",
     "text": [
      "('incentive_count_residential', 0.21329474134311774)\n",
      "('occupancy_owner_rate', 0.1397381321642139)\n",
      "('daily_solar_radiation', 0.05381969502683796)\n",
      "('lon', 0.037589294644730556)\n",
      "('median_household_income', 0.03478766546473477)\n",
      "('population_density', 0.02709656046672514)\n",
      "('education_college_rate', 0.02464488577031143)\n",
      "('lat', 0.022166468343559995)\n",
      "('housing_unit_median_gross_rent', 0.02167083971809016)\n",
      "('voting_2016_dem_percentage', 0.020242852079444495)\n",
      "('household_type_family_rate', 0.01681393888693812)\n",
      "('health_insurance_public_rate', 0.013639231000999025)\n",
      "('relative_humidity', 0.011992190099652099)\n",
      "('occupation_manufacturing_rate', 0.011378106896121185)\n",
      "('heating_fuel_coal_coke_rate', 0.010703700975865664)\n",
      "('sales_tax', 0.010648614336123843)\n",
      "('housing_unit_median_value', 0.010248354001874438)\n",
      "('mortgage_with_rate', 0.008867288327536188)\n",
      "('county', 0.008303457031511773)\n",
      "('occupation_arts_rate', 0.007985177889714885)\n",
      "('education_less_than_high_school_rate', 0.007849542917707923)\n",
      "('average_household_income', 0.0077041636300215445)\n",
      "('transportation_car_alone_rate', 0.007627635114479716)\n",
      "('heating_fuel_solar_rate', 0.0074886790090103305)\n",
      "('incentive_residential_state_level', 0.00729280194412864)\n",
      "('health_insurance_none_rate', 0.007275268561242483)\n",
      "('occupation_public_rate', 0.007177599504803822)\n",
      "('occupation_retail_rate', 0.0062851099403916765)\n",
      "('age_65_74_rate', 0.006138854034443192)\n",
      "('occupation_agriculture_rate', 0.005825644578648817)\n",
      "('travel_time_40_59_rate', 0.005796208658982842)\n",
      "('age_5_9_rate', 0.00575682844442985)\n",
      "('travel_time_average', 0.005474673351572491)\n",
      "('age_25_34_rate', 0.005393194085965661)\n",
      "('travel_time_30_39_rate', 0.0053246163541477935)\n",
      "('heating_fuel_gas_rate', 0.00525827751668147)\n",
      "('travel_time_60_89_rate', 0.005114567750546127)\n",
      "('age_15_17_rate', 0.004978758675371202)\n",
      "('transportation_home_rate', 0.004966503123211358)\n",
      "('occupation_finance_rate', 0.004744637777380813)\n",
      "('age_10_14_rate', 0.004488906220495067)\n",
      "('occupancy_vacant_rate', 0.004423486076469274)\n",
      "('travel_time_20_29_rate', 0.004423429697355204)\n",
      "('average_household_size', 0.004401946808708706)\n",
      "('travel_time_less_than_10_rate', 0.004352905961575614)\n",
      "('travel_time_10_19_rate', 0.004315271146820859)\n",
      "('cooling_design_temperature', 0.004268448116228522)\n",
      "('age_55_64_rate', 0.004191762705903498)\n",
      "('number_of_years_of_education', 0.004091380070795498)\n",
      "('education_high_school_graduate_rate', 0.004085947500774591)\n",
      "('gini_index', 0.004085042004731104)\n",
      "('occupation_construction_rate', 0.003942171165456259)\n",
      "('transportation_motorcycle_rate', 0.0036262876483772405)\n",
      "('age_18_24_rate', 0.003585731909639755)\n",
      "('race_indian_alaska_rate', 0.0035369865212714047)\n",
      "('age_35_44_rate', 0.003524232794894438)\n",
      "('age_45_54_rate', 0.003451372262525028)\n",
      "('race_asian_rate', 0.0034322227180015093)\n",
      "('heating_fuel_electricity_rate', 0.003390505765385434)\n",
      "('elevation', 0.003380489992747646)\n",
      "('employ_rate', 0.003246921329727952)\n",
      "('race_white_rate', 0.003241843572453087)\n",
      "('age_median', 0.0031617082221543896)\n",
      "('occupation_education_rate', 0.0031616084243360804)\n",
      "('earth_temperature_amplitude', 0.0031274586527539065)\n",
      "('occupation_transportation_rate', 0.003114573719815952)\n",
      "('race_two_more_rate', 0.00291421315134345)\n",
      "('race_black_africa_rate', 0.002891775611046029)\n",
      "('wind_speed', 0.0028908116755029644)\n",
      "('age_75_84_rate', 0.0028633258149589834)\n",
      "('electricity_consume_residential', 0.0028308509296164786)\n",
      "('occupation_administrative_rate', 0.0028028452391531604)\n",
      "('age_more_than_85_rate', 0.00278890531562872)\n",
      "('transportation_walk_rate', 0.002746442336915408)\n",
      "('occupation_wholesale_rate', 0.0027033931551109992)\n",
      "('education_bachelor_rate', 0.0026907039760997215)\n",
      "('education_doctoral_rate', 0.002651801842971067)\n",
      "('diversity', 0.0026432347713004987)\n",
      "('education_master_rate', 0.0026186873671715854)\n",
      "('heating_fuel_none_rate', 0.0026155819357929606)\n",
      "('transportation_carpool_rate', 0.0025180761250768358)\n",
      "('occupation_information_rate', 0.002458617857251567)\n",
      "('poverty_family_below_poverty_level_rate', 0.002368372096329532)\n",
      "('frost_days', 0.0023533126504270393)\n",
      "('water_percent', 0.002314201826371105)\n",
      "('per_capita_income', 0.0022925595932334875)\n",
      "('transportation_public_rate', 0.0022773237372814524)\n",
      "('race_other_rate', 0.002150508198367069)\n",
      "('education_professional_school_rate', 0.0019523079979153815)\n",
      "('atmospheric_pressure', 0.0018101513841449687)\n",
      "('dropout_16_19_inschool_rate', 0.001641985580028693)\n",
      "('net_metering', 0.00151730593456693)\n",
      "('cooperate_tax', 0.0014686632970577532)\n",
      "('heating_fuel_other_rate', 0.0012335846459969925)\n",
      "('race_islander_rate', 0.0011492769306065173)\n",
      "('transportation_bicycle_rate', 0.0011083720617024273)\n",
      "('heating_fuel_fuel_oil_kerosene_rate', 0.0010462638666845047)\n",
      "('avg_electricity_retail_rate', 0.0007007768341808159)\n",
      "('state', 0.0003853295198952302)\n",
      "('voting_2016_dem_win', 0.00035664209907889597)\n",
      "('voting_2012_dem_win', 0.000313338779176485)\n",
      "('property_tax', 0.00030573394148586055)\n",
      "('rebate', 0.00029145931482129175)\n",
      "('electricity_price_residential', 0.00014853643359228838)\n",
      "('feedin_tariff', 2.7325721445640177e-05)\n"
     ]
    }
   ],
   "source": [
    "feature_importances=RF1_Regressor.feature_importances_\n",
    "features=cols\n",
    "feature_tuples=[(features[i],feature_importances[i]) for i in range(len(features))]\n",
    "sorted_features=sorted(feature_tuples,reverse=True,key=lambda k: k[1])\n",
    "for i in range(0,len(features)):\n",
    "    print(sorted_features[i])"
   ]
  },
  {
   "cell_type": "markdown",
   "metadata": {},
   "source": [
    "## Get Final R^2 for Model"
   ]
  },
  {
   "cell_type": "code",
   "execution_count": 65,
   "metadata": {
    "collapsed": true
   },
   "outputs": [],
   "source": [
    "classifier_dev_preds=RF1_Classifier.predict(X_dev)"
   ]
  },
  {
   "cell_type": "code",
   "execution_count": 83,
   "metadata": {
    "collapsed": true
   },
   "outputs": [],
   "source": [
    "final_preds=classifier_dev_preds*dev_preds"
   ]
  },
  {
   "cell_type": "code",
   "execution_count": 84,
   "metadata": {
    "collapsed": false
   },
   "outputs": [
    {
     "data": {
      "text/plain": [
       "0.7459792452433982"
      ]
     },
     "execution_count": 84,
     "metadata": {},
     "output_type": "execute_result"
    }
   ],
   "source": [
    "r2_score(Y_regressor_dev,final_preds)"
   ]
  },
  {
   "cell_type": "code",
   "execution_count": null,
   "metadata": {
    "collapsed": true
   },
   "outputs": [],
   "source": []
  }
 ],
 "metadata": {
  "kernelspec": {
   "display_name": "Python [Root]",
   "language": "python",
   "name": "Python [Root]"
  },
  "language_info": {
   "codemirror_mode": {
    "name": "ipython",
    "version": 3
   },
   "file_extension": ".py",
   "mimetype": "text/x-python",
   "name": "python",
   "nbconvert_exporter": "python",
   "pygments_lexer": "ipython3",
   "version": "3.5.2"
  }
 },
 "nbformat": 4,
 "nbformat_minor": 2
}
