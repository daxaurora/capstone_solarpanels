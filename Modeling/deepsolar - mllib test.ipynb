{
 "cells": [
  {
   "cell_type": "code",
   "execution_count": 1,
   "metadata": {
    "collapsed": false
   },
   "outputs": [],
   "source": [
    "import pandas as pd\n",
    "import numpy as np\n",
    "import matplotlib.pyplot as plt"
   ]
  },
  {
   "cell_type": "markdown",
   "metadata": {},
   "source": [
    "# Load the DeepSolar Data and Fields List"
   ]
  },
  {
   "cell_type": "code",
   "execution_count": 2,
   "metadata": {
    "collapsed": false,
    "scrolled": true
   },
   "outputs": [
    {
     "data": {
      "text/html": [
       "<div>\n",
       "<table border=\"1\" class=\"dataframe\">\n",
       "  <thead>\n",
       "    <tr style=\"text-align: right;\">\n",
       "      <th></th>\n",
       "      <th>Field</th>\n",
       "      <th>Description</th>\n",
       "      <th>Unit</th>\n",
       "      <th>Data Type</th>\n",
       "      <th>Formula</th>\n",
       "      <th>Possible Values</th>\n",
       "      <th>Observed Max</th>\n",
       "      <th>Observed Min</th>\n",
       "      <th>Theoretical Min</th>\n",
       "      <th>Theoretical Max</th>\n",
       "      <th>Relevant Feature</th>\n",
       "    </tr>\n",
       "  </thead>\n",
       "  <tbody>\n",
       "    <tr>\n",
       "      <th>0</th>\n",
       "      <td>Unnamed: 0</td>\n",
       "      <td>Index</td>\n",
       "      <td>NaN</td>\n",
       "      <td>Numeric</td>\n",
       "      <td>NaN</td>\n",
       "      <td>NaN</td>\n",
       "      <td>72537.000</td>\n",
       "      <td>0</td>\n",
       "      <td>NaN</td>\n",
       "      <td>NaN</td>\n",
       "      <td>0</td>\n",
       "    </tr>\n",
       "    <tr>\n",
       "      <th>1</th>\n",
       "      <td>tile_count</td>\n",
       "      <td>total number of tiles in census tract</td>\n",
       "      <td>NaN</td>\n",
       "      <td>Numeric</td>\n",
       "      <td>NaN</td>\n",
       "      <td>NaN</td>\n",
       "      <td>4468.000</td>\n",
       "      <td>0</td>\n",
       "      <td>0.0</td>\n",
       "      <td>NaN</td>\n",
       "      <td>0</td>\n",
       "    </tr>\n",
       "    <tr>\n",
       "      <th>2</th>\n",
       "      <td>solar_system_count</td>\n",
       "      <td>Total number of solar systems in census tract</td>\n",
       "      <td>NaN</td>\n",
       "      <td>Numeric</td>\n",
       "      <td>NaN</td>\n",
       "      <td>NaN</td>\n",
       "      <td>1535.000</td>\n",
       "      <td>0</td>\n",
       "      <td>0.0</td>\n",
       "      <td>NaN</td>\n",
       "      <td>0</td>\n",
       "    </tr>\n",
       "    <tr>\n",
       "      <th>3</th>\n",
       "      <td>total_panel_area</td>\n",
       "      <td>NaN</td>\n",
       "      <td>NaN</td>\n",
       "      <td>Numeric</td>\n",
       "      <td>NaN</td>\n",
       "      <td>NaN</td>\n",
       "      <td>592031.075</td>\n",
       "      <td>0</td>\n",
       "      <td>0.0</td>\n",
       "      <td>NaN</td>\n",
       "      <td>0</td>\n",
       "    </tr>\n",
       "    <tr>\n",
       "      <th>4</th>\n",
       "      <td>fips</td>\n",
       "      <td>FIPS identifier for the census tract</td>\n",
       "      <td>NaN</td>\n",
       "      <td>String</td>\n",
       "      <td>NaN</td>\n",
       "      <td>NaN</td>\n",
       "      <td>NaN</td>\n",
       "      <td>NaN</td>\n",
       "      <td>NaN</td>\n",
       "      <td>NaN</td>\n",
       "      <td>0</td>\n",
       "    </tr>\n",
       "  </tbody>\n",
       "</table>\n",
       "</div>"
      ],
      "text/plain": [
       "                Field                                    Description Unit  \\\n",
       "0          Unnamed: 0                                          Index  NaN   \n",
       "1          tile_count          total number of tiles in census tract  NaN   \n",
       "2  solar_system_count  Total number of solar systems in census tract  NaN   \n",
       "3    total_panel_area                                            NaN  NaN   \n",
       "4                fips           FIPS identifier for the census tract  NaN   \n",
       "\n",
       "  Data Type Formula  Possible Values  Observed Max Observed Min  \\\n",
       "0   Numeric     NaN              NaN     72537.000            0   \n",
       "1   Numeric     NaN              NaN      4468.000            0   \n",
       "2   Numeric     NaN              NaN      1535.000            0   \n",
       "3   Numeric     NaN              NaN    592031.075            0   \n",
       "4    String     NaN              NaN           NaN          NaN   \n",
       "\n",
       "   Theoretical Min Theoretical Max  Relevant Feature  \n",
       "0              NaN             NaN                 0  \n",
       "1              0.0             NaN                 0  \n",
       "2              0.0             NaN                 0  \n",
       "3              0.0             NaN                 0  \n",
       "4              NaN             NaN                 0  "
      ]
     },
     "execution_count": 2,
     "metadata": {},
     "output_type": "execute_result"
    }
   ],
   "source": [
    "solar=pd.read_csv('../../deepsolar_tract.csv',encoding = \"ISO-8859-1\")\n",
    "solar.head()\n",
    "solar_fields=pd.read_csv('../deepsolar fields.csv')\n",
    "solar_fields.head()"
   ]
  },
  {
   "cell_type": "markdown",
   "metadata": {},
   "source": [
    "# Load/Test PySpark"
   ]
  },
  {
   "cell_type": "code",
   "execution_count": 3,
   "metadata": {
    "collapsed": true
   },
   "outputs": [],
   "source": [
    "from pyspark import SparkContext\n",
    "sc = SparkContext()"
   ]
  },
  {
   "cell_type": "code",
   "execution_count": 4,
   "metadata": {
    "collapsed": false
   },
   "outputs": [
    {
     "name": "stdout",
     "output_type": "stream",
     "text": [
      "Number of random points: 100\n",
      "Mean: [ 0.00671292  0.0173606 ]\n",
      "stdev: [ 0.52734147  0.57312687]\n"
     ]
    }
   ],
   "source": [
    "import numpy as np\n",
    "\n",
    "TOTAL = 100\n",
    "dots = sc.parallelize([2.0 * np.random.random(2) - 1.0 for i in range(TOTAL)]).cache()\n",
    "print(\"Number of random points:\", dots.count())\n",
    "\n",
    "stats = dots.stats()\n",
    "print('Mean:', stats.mean())\n",
    "print('stdev:', stats.stdev())"
   ]
  },
  {
   "cell_type": "markdown",
   "metadata": {},
   "source": [
    "# Train Model Using Spark ML"
   ]
  },
  {
   "cell_type": "code",
   "execution_count": 5,
   "metadata": {
    "collapsed": false
   },
   "outputs": [],
   "source": [
    "from numpy import allclose\n",
    "from pyspark.ml.linalg import Vectors\n",
    "from pyspark.ml.feature import StringIndexer\n",
    "from pyspark.ml.classification import RandomForestClassifier\n",
    "from pyspark.ml.feature import IndexToString, StringIndexer, VectorIndexer\n",
    "from pyspark.sql.session import SparkSession\n",
    "from pyspark.sql import *\n",
    "from pyspark.sql.types import *\n",
    "spark = SparkSession(sc)\n",
    "from pyspark.ml.linalg import DenseVector\n",
    "from pyspark.ml import Pipeline\n",
    "from pyspark.ml.evaluation import MulticlassClassificationEvaluator"
   ]
  },
  {
   "cell_type": "markdown",
   "metadata": {},
   "source": [
    "## Pre-process for Spark ML"
   ]
  },
  {
   "cell_type": "code",
   "execution_count": null,
   "metadata": {
    "collapsed": true
   },
   "outputs": [],
   "source": [
    "features=solar_fields.loc[(solar_fields['Relevant Feature']==1)]['Field'].tolist()\n",
    "#all_variables=['number_of_solar_system_per_household']features+\n",
    "\n",
    "#Set infinity and blank spaces to NaN in independent variables, set infinite to 0 in dependent variable\n",
    "solar2=solar[features].replace([np.inf,' '],np.nan)\n",
    "solar2['number_of_solar_system_per_household']=solar['number_of_solar_system_per_household'].replace([np.inf,np.nan],0)\n",
    "\n",
    "#Create binary version of number_of_solar_system_per_household for RF classifier\n",
    "\n",
    "solar2['solar_flag']=solar2['number_of_solar_system_per_household'].apply(lambda x: int(x>0))\n",
    "\n",
    "\n",
    "#convert states to indicator indices\n",
    "solar2['state']=solar2['state'].astype('category').cat.codes\n",
    "\n",
    "#create binary version of vote dem win variables\n",
    "\n",
    "solar2['voting_2016_dem_win']=solar2['voting_2016_dem_win'].apply(lambda x: int(x))\n",
    "solar2['voting_2012_dem_win']=solar2['voting_2012_dem_win'].apply(lambda x: int(x))"
   ]
  },
  {
   "cell_type": "markdown",
   "metadata": {},
   "source": [
    "## Write solar2 to csv - cleaner than trying to convert pandas df to pyspark df"
   ]
  },
  {
   "cell_type": "code",
   "execution_count": 65,
   "metadata": {
    "collapsed": true
   },
   "outputs": [],
   "source": [
    "solar2.to_csv('ml_frame.csv',index=False)"
   ]
  },
  {
   "cell_type": "markdown",
   "metadata": {},
   "source": [
    "## Read csv into pyspark df"
   ]
  },
  {
   "cell_type": "code",
   "execution_count": 6,
   "metadata": {
    "collapsed": true
   },
   "outputs": [],
   "source": [
    "df = spark.read.format(\"csv\").option(\"header\", True).option(\"inferSchema\", True).load(\"ml_frame.csv\")"
   ]
  },
  {
   "cell_type": "code",
   "execution_count": 7,
   "metadata": {
    "collapsed": false
   },
   "outputs": [
    {
     "name": "stdout",
     "output_type": "stream",
     "text": [
      "root\n",
      " |-- average_household_income: double (nullable = true)\n",
      " |-- gini_index: double (nullable = true)\n",
      " |-- per_capita_income: double (nullable = true)\n",
      " |-- population_density: double (nullable = true)\n",
      " |-- state: integer (nullable = true)\n",
      " |-- education_less_than_high_school_rate: double (nullable = true)\n",
      " |-- education_high_school_graduate_rate: double (nullable = true)\n",
      " |-- education_college_rate: double (nullable = true)\n",
      " |-- education_bachelor_rate: double (nullable = true)\n",
      " |-- education_master_rate: double (nullable = true)\n",
      " |-- education_professional_school_rate: double (nullable = true)\n",
      " |-- education_doctoral_rate: double (nullable = true)\n",
      " |-- race_white_rate: double (nullable = true)\n",
      " |-- race_black_africa_rate: double (nullable = true)\n",
      " |-- race_indian_alaska_rate: double (nullable = true)\n",
      " |-- race_asian_rate: double (nullable = true)\n",
      " |-- race_islander_rate: double (nullable = true)\n",
      " |-- race_other_rate: double (nullable = true)\n",
      " |-- race_two_more_rate: double (nullable = true)\n",
      " |-- employ_rate: double (nullable = true)\n",
      " |-- poverty_family_below_poverty_level_rate: double (nullable = true)\n",
      " |-- heating_fuel_gas_rate: double (nullable = true)\n",
      " |-- heating_fuel_electricity_rate: double (nullable = true)\n",
      " |-- heating_fuel_fuel_oil_kerosene_rate: double (nullable = true)\n",
      " |-- heating_fuel_coal_coke_rate: double (nullable = true)\n",
      " |-- heating_fuel_solar_rate: double (nullable = true)\n",
      " |-- heating_fuel_other_rate: double (nullable = true)\n",
      " |-- heating_fuel_none_rate: double (nullable = true)\n",
      " |-- median_household_income: double (nullable = true)\n",
      " |-- electricity_price_residential: double (nullable = true)\n",
      " |-- electricity_price_commercial: double (nullable = true)\n",
      " |-- electricity_price_industrial: double (nullable = true)\n",
      " |-- electricity_price_transportation: double (nullable = true)\n",
      " |-- electricity_price_overall: double (nullable = true)\n",
      " |-- electricity_consume_residential: integer (nullable = true)\n",
      " |-- electricity_consume_commercial: integer (nullable = true)\n",
      " |-- electricity_consume_industrial: integer (nullable = true)\n",
      " |-- electricity_consume_total: integer (nullable = true)\n",
      " |-- average_household_size: double (nullable = true)\n",
      " |-- housing_unit_median_value: double (nullable = true)\n",
      " |-- housing_unit_median_gross_rent: double (nullable = true)\n",
      " |-- lat: double (nullable = true)\n",
      " |-- lon: double (nullable = true)\n",
      " |-- elevation: double (nullable = true)\n",
      " |-- heating_design_temperature: double (nullable = true)\n",
      " |-- cooling_design_temperature: double (nullable = true)\n",
      " |-- earth_temperature_amplitude: double (nullable = true)\n",
      " |-- frost_days: double (nullable = true)\n",
      " |-- air_temperature: double (nullable = true)\n",
      " |-- relative_humidity: double (nullable = true)\n",
      " |-- daily_solar_radiation: double (nullable = true)\n",
      " |-- atmospheric_pressure: double (nullable = true)\n",
      " |-- wind_speed: double (nullable = true)\n",
      " |-- earth_temperature: double (nullable = true)\n",
      " |-- heating_degree_days: double (nullable = true)\n",
      " |-- cooling_degree_days: double (nullable = true)\n",
      " |-- age_18_24_rate: double (nullable = true)\n",
      " |-- age_25_34_rate: double (nullable = true)\n",
      " |-- age_more_than_85_rate: double (nullable = true)\n",
      " |-- age_75_84_rate: double (nullable = true)\n",
      " |-- age_35_44_rate: double (nullable = true)\n",
      " |-- age_45_54_rate: double (nullable = true)\n",
      " |-- age_65_74_rate: double (nullable = true)\n",
      " |-- age_55_64_rate: double (nullable = true)\n",
      " |-- age_10_14_rate: double (nullable = true)\n",
      " |-- age_15_17_rate: double (nullable = true)\n",
      " |-- age_5_9_rate: double (nullable = true)\n",
      " |-- household_type_family_rate: double (nullable = true)\n",
      " |-- dropout_16_19_inschool_rate: double (nullable = true)\n",
      " |-- occupation_construction_rate: double (nullable = true)\n",
      " |-- occupation_public_rate: double (nullable = true)\n",
      " |-- occupation_information_rate: double (nullable = true)\n",
      " |-- occupation_finance_rate: double (nullable = true)\n",
      " |-- occupation_education_rate: double (nullable = true)\n",
      " |-- occupation_administrative_rate: double (nullable = true)\n",
      " |-- occupation_manufacturing_rate: double (nullable = true)\n",
      " |-- occupation_wholesale_rate: double (nullable = true)\n",
      " |-- occupation_retail_rate: double (nullable = true)\n",
      " |-- occupation_transportation_rate: double (nullable = true)\n",
      " |-- occupation_arts_rate: double (nullable = true)\n",
      " |-- occupation_agriculture_rate: double (nullable = true)\n",
      " |-- occupancy_vacant_rate: double (nullable = true)\n",
      " |-- occupancy_owner_rate: double (nullable = true)\n",
      " |-- mortgage_with_rate: double (nullable = true)\n",
      " |-- transportation_home_rate: double (nullable = true)\n",
      " |-- transportation_car_alone_rate: double (nullable = true)\n",
      " |-- transportation_walk_rate: double (nullable = true)\n",
      " |-- transportation_carpool_rate: double (nullable = true)\n",
      " |-- transportation_motorcycle_rate: double (nullable = true)\n",
      " |-- transportation_bicycle_rate: double (nullable = true)\n",
      " |-- transportation_public_rate: double (nullable = true)\n",
      " |-- travel_time_less_than_10_rate: double (nullable = true)\n",
      " |-- travel_time_10_19_rate: double (nullable = true)\n",
      " |-- travel_time_20_29_rate: double (nullable = true)\n",
      " |-- travel_time_30_39_rate: double (nullable = true)\n",
      " |-- travel_time_40_59_rate: double (nullable = true)\n",
      " |-- travel_time_60_89_rate: double (nullable = true)\n",
      " |-- health_insurance_public_rate: double (nullable = true)\n",
      " |-- health_insurance_none_rate: double (nullable = true)\n",
      " |-- age_median: double (nullable = true)\n",
      " |-- travel_time_average: double (nullable = true)\n",
      " |-- voting_2016_dem_percentage: double (nullable = true)\n",
      " |-- voting_2016_gop_percentage: double (nullable = true)\n",
      " |-- voting_2016_dem_win: boolean (nullable = true)\n",
      " |-- voting_2012_dem_percentage: double (nullable = true)\n",
      " |-- voting_2012_gop_percentage: double (nullable = true)\n",
      " |-- voting_2012_dem_win: boolean (nullable = true)\n",
      " |-- number_of_years_of_education: double (nullable = true)\n",
      " |-- diversity: double (nullable = true)\n",
      " |-- incentive_count_residential: integer (nullable = true)\n",
      " |-- incentive_count_nonresidential: integer (nullable = true)\n",
      " |-- incentive_residential_state_level: integer (nullable = true)\n",
      " |-- incentive_nonresidential_state_level: integer (nullable = true)\n",
      " |-- net_metering: integer (nullable = true)\n",
      " |-- feedin_tariff: integer (nullable = true)\n",
      " |-- cooperate_tax: integer (nullable = true)\n",
      " |-- property_tax: integer (nullable = true)\n",
      " |-- sales_tax: integer (nullable = true)\n",
      " |-- rebate: integer (nullable = true)\n",
      " |-- avg_electricity_retail_rate: double (nullable = true)\n",
      " |-- number_of_solar_system_per_household: double (nullable = true)\n",
      " |-- solar_flag: integer (nullable = true)\n",
      "\n"
     ]
    }
   ],
   "source": [
    "df.printSchema()"
   ]
  },
  {
   "cell_type": "markdown",
   "metadata": {},
   "source": [
    "## Process Spark Df for Random Forest Classifier"
   ]
  },
  {
   "cell_type": "code",
   "execution_count": 9,
   "metadata": {
    "collapsed": false
   },
   "outputs": [],
   "source": [
    "cols=df.columns\n",
    "indep_vars=[i for i in cols if i not in ['solar_flag','number_of_solar_system_per_household']]\n",
    "classifier_cols=['solar_flag']+indep_vars\n",
    "regressor_cols=['number_of_solar_system_per_household']+indep_vars"
   ]
  },
  {
   "cell_type": "code",
   "execution_count": 10,
   "metadata": {
    "collapsed": true
   },
   "outputs": [],
   "source": [
    "classifier_data=df.select(classifier_cols).rdd.map(lambda x: (x[0], DenseVector(x[1:])))\n",
    "regressor_data=df.select(regressor_cols).rdd.map(lambda x: (x[0], DenseVector(x[1:])))"
   ]
  },
  {
   "cell_type": "code",
   "execution_count": 11,
   "metadata": {
    "collapsed": true
   },
   "outputs": [],
   "source": [
    "classifier_df = spark.createDataFrame(classifier_data, [\"label\", \"features\"])\n",
    "regressor_df=spark.createDataFrame(regressor_data, [\"label\", \"features\"])"
   ]
  },
  {
   "cell_type": "markdown",
   "metadata": {},
   "source": [
    "## Create Model Pipeline - Classifier"
   ]
  },
  {
   "cell_type": "code",
   "execution_count": 13,
   "metadata": {
    "collapsed": false
   },
   "outputs": [],
   "source": [
    "#index the labels and the features for the random forest model\n",
    "labelIndexer = StringIndexer(inputCol=\"label\", outputCol=\"indexedLabel\").fit(classifier_df)\n",
    "featureIndexer =VectorIndexer(inputCol=\"features\", outputCol=\"indexedFeatures\", maxCategories=50).fit(classifier_df)\n",
    "\n",
    "#split the data into training and test sets\n",
    "(trainingData, testData) = classifier_df.randomSplit([0.8, 0.2],seed=1234)\n",
    "\n",
    "#define the model and the label converter\n",
    "rf = RandomForestClassifier(labelCol=\"indexedLabel\", featuresCol=\"indexedFeatures\", numTrees=100,maxBins=50)\n",
    "labelConverter = IndexToString(inputCol=\"prediction\", outputCol=\"predictedLabel\",\n",
    "                               labels=labelIndexer.labels)\n",
    "\n",
    "#put all the steps together into a pipeline\n",
    "pipeline = Pipeline(stages=[labelIndexer, featureIndexer, rf, labelConverter])\n",
    "\n",
    "#fit the training data\n",
    "model = pipeline.fit(trainingData)\n",
    "\n",
    "#generate predictions on the test data\n",
    "predictions = model.transform(testData)"
   ]
  },
  {
   "cell_type": "markdown",
   "metadata": {},
   "source": [
    "## Evaluate Model Accuracy"
   ]
  },
  {
   "cell_type": "code",
   "execution_count": 18,
   "metadata": {
    "collapsed": false
   },
   "outputs": [
    {
     "name": "stdout",
     "output_type": "stream",
     "text": [
      "test set accuracy:  0.7919685365348789\n"
     ]
    }
   ],
   "source": [
    "evaluator = MulticlassClassificationEvaluator(\n",
    "    labelCol=\"indexedLabel\", predictionCol=\"prediction\", metricName=\"accuracy\")\n",
    "accuracy = evaluator.evaluate(predictions)\n",
    "print('test set accuracy: ',accuracy)"
   ]
  },
  {
   "cell_type": "markdown",
   "metadata": {},
   "source": [
    "## Get Feature Importances"
   ]
  },
  {
   "cell_type": "code",
   "execution_count": 25,
   "metadata": {
    "collapsed": false
   },
   "outputs": [
    {
     "data": {
      "text/plain": [
       "[('population_density', 0.11299866881886732),\n",
       " ('heating_fuel_coal_coke_rate', 0.098176844853940903),\n",
       " ('occupancy_vacant_rate', 0.049762576548371677),\n",
       " ('race_asian_rate', 0.046163656759442014),\n",
       " ('occupation_agriculture_rate', 0.034832859441115825),\n",
       " ('electricity_price_commercial', 0.033415698065753757),\n",
       " ('housing_unit_median_gross_rent', 0.026326667549875869),\n",
       " ('property_tax', 0.023731684609069541),\n",
       " ('electricity_price_overall', 0.023721467351555704),\n",
       " ('electricity_consume_industrial', 0.022019324924780013),\n",
       " ('housing_unit_median_value', 0.021936595356244731),\n",
       " ('travel_time_average', 0.021796981588708852),\n",
       " ('state', 0.021055579803029127),\n",
       " ('education_high_school_graduate_rate', 0.020809441498531023),\n",
       " ('lon', 0.018780965379348695),\n",
       " ('number_of_years_of_education', 0.017303545051805938),\n",
       " ('race_white_rate', 0.016746424223133879),\n",
       " ('electricity_consume_total', 0.016123029513001503),\n",
       " ('transportation_public_rate', 0.015691885592182733),\n",
       " ('incentive_residential_state_level', 0.015259660566584296)]"
      ]
     },
     "execution_count": 25,
     "metadata": {},
     "output_type": "execute_result"
    }
   ],
   "source": [
    "rfModel = model.stages[2]\n",
    "feature_importances=rfModel.featureImportances\n",
    "#print(len(indep_vars))\n",
    "fia=feature_importances.toArray()\n",
    "#print(fia)\n",
    "fi_list=[]\n",
    "for i in range(fia.shape[0]):\n",
    "    fi_list.append((indep_vars[i],fia[i]))\n",
    "sorted_list=sorted(fi_list,reverse=True,key=lambda k: k[1])\n",
    "sorted_list[0:20]"
   ]
  },
  {
   "cell_type": "code",
   "execution_count": null,
   "metadata": {
    "collapsed": true
   },
   "outputs": [],
   "source": []
  },
  {
   "cell_type": "code",
   "execution_count": null,
   "metadata": {
    "collapsed": true
   },
   "outputs": [],
   "source": []
  },
  {
   "cell_type": "code",
   "execution_count": null,
   "metadata": {
    "collapsed": true
   },
   "outputs": [],
   "source": []
  }
 ],
 "metadata": {
  "anaconda-cloud": {},
  "kernelspec": {
   "display_name": "Python [Root]",
   "language": "python",
   "name": "Python [Root]"
  },
  "language_info": {
   "codemirror_mode": {
    "name": "ipython",
    "version": 3
   },
   "file_extension": ".py",
   "mimetype": "text/x-python",
   "name": "python",
   "nbconvert_exporter": "python",
   "pygments_lexer": "ipython3",
   "version": "3.5.2"
  }
 },
 "nbformat": 4,
 "nbformat_minor": 0
}
