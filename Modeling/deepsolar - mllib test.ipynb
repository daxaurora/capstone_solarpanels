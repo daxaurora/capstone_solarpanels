{
 "cells": [
  {
   "cell_type": "code",
   "execution_count": 2,
   "metadata": {
    "collapsed": false
   },
   "outputs": [],
   "source": [
    "import pandas as pd\n",
    "import numpy as np\n",
    "import matplotlib.pyplot as plt"
   ]
  },
  {
   "cell_type": "markdown",
   "metadata": {},
   "source": [
    "# Load the DeepSolar Data and Fields List"
   ]
  },
  {
   "cell_type": "code",
   "execution_count": 3,
   "metadata": {
    "collapsed": false,
    "scrolled": true
   },
   "outputs": [
    {
     "data": {
      "text/html": [
       "<div>\n",
       "<table border=\"1\" class=\"dataframe\">\n",
       "  <thead>\n",
       "    <tr style=\"text-align: right;\">\n",
       "      <th></th>\n",
       "      <th>Field</th>\n",
       "      <th>Description</th>\n",
       "      <th>Unit</th>\n",
       "      <th>Data Type</th>\n",
       "      <th>Formula</th>\n",
       "      <th>Possible Values</th>\n",
       "      <th>Observed Max</th>\n",
       "      <th>Observed Min</th>\n",
       "      <th>Theoretical Min</th>\n",
       "      <th>Theoretical Max</th>\n",
       "      <th>Relevant Feature</th>\n",
       "    </tr>\n",
       "  </thead>\n",
       "  <tbody>\n",
       "    <tr>\n",
       "      <th>0</th>\n",
       "      <td>Unnamed: 0</td>\n",
       "      <td>Index</td>\n",
       "      <td>NaN</td>\n",
       "      <td>Numeric</td>\n",
       "      <td>NaN</td>\n",
       "      <td>NaN</td>\n",
       "      <td>72537.000</td>\n",
       "      <td>0</td>\n",
       "      <td>NaN</td>\n",
       "      <td>NaN</td>\n",
       "      <td>0</td>\n",
       "    </tr>\n",
       "    <tr>\n",
       "      <th>1</th>\n",
       "      <td>tile_count</td>\n",
       "      <td>total number of tiles in census tract</td>\n",
       "      <td>NaN</td>\n",
       "      <td>Numeric</td>\n",
       "      <td>NaN</td>\n",
       "      <td>NaN</td>\n",
       "      <td>4468.000</td>\n",
       "      <td>0</td>\n",
       "      <td>0.0</td>\n",
       "      <td>NaN</td>\n",
       "      <td>0</td>\n",
       "    </tr>\n",
       "    <tr>\n",
       "      <th>2</th>\n",
       "      <td>solar_system_count</td>\n",
       "      <td>Total number of solar systems in census tract</td>\n",
       "      <td>NaN</td>\n",
       "      <td>Numeric</td>\n",
       "      <td>NaN</td>\n",
       "      <td>NaN</td>\n",
       "      <td>1535.000</td>\n",
       "      <td>0</td>\n",
       "      <td>0.0</td>\n",
       "      <td>NaN</td>\n",
       "      <td>0</td>\n",
       "    </tr>\n",
       "    <tr>\n",
       "      <th>3</th>\n",
       "      <td>total_panel_area</td>\n",
       "      <td>NaN</td>\n",
       "      <td>NaN</td>\n",
       "      <td>Numeric</td>\n",
       "      <td>NaN</td>\n",
       "      <td>NaN</td>\n",
       "      <td>592031.075</td>\n",
       "      <td>0</td>\n",
       "      <td>0.0</td>\n",
       "      <td>NaN</td>\n",
       "      <td>0</td>\n",
       "    </tr>\n",
       "    <tr>\n",
       "      <th>4</th>\n",
       "      <td>fips</td>\n",
       "      <td>FIPS identifier for the census tract</td>\n",
       "      <td>NaN</td>\n",
       "      <td>String</td>\n",
       "      <td>NaN</td>\n",
       "      <td>NaN</td>\n",
       "      <td>NaN</td>\n",
       "      <td>NaN</td>\n",
       "      <td>NaN</td>\n",
       "      <td>NaN</td>\n",
       "      <td>0</td>\n",
       "    </tr>\n",
       "  </tbody>\n",
       "</table>\n",
       "</div>"
      ],
      "text/plain": [
       "                Field                                    Description Unit  \\\n",
       "0          Unnamed: 0                                          Index  NaN   \n",
       "1          tile_count          total number of tiles in census tract  NaN   \n",
       "2  solar_system_count  Total number of solar systems in census tract  NaN   \n",
       "3    total_panel_area                                            NaN  NaN   \n",
       "4                fips           FIPS identifier for the census tract  NaN   \n",
       "\n",
       "  Data Type Formula  Possible Values  Observed Max Observed Min  \\\n",
       "0   Numeric     NaN              NaN     72537.000            0   \n",
       "1   Numeric     NaN              NaN      4468.000            0   \n",
       "2   Numeric     NaN              NaN      1535.000            0   \n",
       "3   Numeric     NaN              NaN    592031.075            0   \n",
       "4    String     NaN              NaN           NaN          NaN   \n",
       "\n",
       "   Theoretical Min Theoretical Max  Relevant Feature  \n",
       "0              NaN             NaN                 0  \n",
       "1              0.0             NaN                 0  \n",
       "2              0.0             NaN                 0  \n",
       "3              0.0             NaN                 0  \n",
       "4              NaN             NaN                 0  "
      ]
     },
     "execution_count": 3,
     "metadata": {},
     "output_type": "execute_result"
    }
   ],
   "source": [
    "solar=pd.read_csv('../../deepsolar_tract.csv',encoding = \"ISO-8859-1\")\n",
    "solar.head()\n",
    "solar_fields=pd.read_csv('../deepsolar fields.csv')\n",
    "solar_fields.head()"
   ]
  },
  {
   "cell_type": "code",
   "execution_count": 105,
   "metadata": {
    "collapsed": false
   },
   "outputs": [
    {
     "data": {
      "text/html": [
       "<div>\n",
       "<table border=\"1\" class=\"dataframe\">\n",
       "  <thead>\n",
       "    <tr style=\"text-align: right;\">\n",
       "      <th></th>\n",
       "      <th>household_count</th>\n",
       "      <th>housing_unit_count</th>\n",
       "    </tr>\n",
       "  </thead>\n",
       "  <tbody>\n",
       "    <tr>\n",
       "      <th>0</th>\n",
       "      <td>2527</td>\n",
       "      <td>2931</td>\n",
       "    </tr>\n",
       "    <tr>\n",
       "      <th>1</th>\n",
       "      <td>2230</td>\n",
       "      <td>2356</td>\n",
       "    </tr>\n",
       "    <tr>\n",
       "      <th>2</th>\n",
       "      <td>2698</td>\n",
       "      <td>2909</td>\n",
       "    </tr>\n",
       "    <tr>\n",
       "      <th>3</th>\n",
       "      <td>1833</td>\n",
       "      <td>2226</td>\n",
       "    </tr>\n",
       "    <tr>\n",
       "      <th>4</th>\n",
       "      <td>1917</td>\n",
       "      <td>2004</td>\n",
       "    </tr>\n",
       "    <tr>\n",
       "      <th>5</th>\n",
       "      <td>2656</td>\n",
       "      <td>2845</td>\n",
       "    </tr>\n",
       "    <tr>\n",
       "      <th>6</th>\n",
       "      <td>470</td>\n",
       "      <td>559</td>\n",
       "    </tr>\n",
       "    <tr>\n",
       "      <th>7</th>\n",
       "      <td>1479</td>\n",
       "      <td>1619</td>\n",
       "    </tr>\n",
       "    <tr>\n",
       "      <th>8</th>\n",
       "      <td>2723</td>\n",
       "      <td>3588</td>\n",
       "    </tr>\n",
       "    <tr>\n",
       "      <th>9</th>\n",
       "      <td>3282</td>\n",
       "      <td>3566</td>\n",
       "    </tr>\n",
       "    <tr>\n",
       "      <th>10</th>\n",
       "      <td>3343</td>\n",
       "      <td>3398</td>\n",
       "    </tr>\n",
       "    <tr>\n",
       "      <th>11</th>\n",
       "      <td>1490</td>\n",
       "      <td>1517</td>\n",
       "    </tr>\n",
       "    <tr>\n",
       "      <th>12</th>\n",
       "      <td>3258</td>\n",
       "      <td>3449</td>\n",
       "    </tr>\n",
       "    <tr>\n",
       "      <th>13</th>\n",
       "      <td>2205</td>\n",
       "      <td>2250</td>\n",
       "    </tr>\n",
       "    <tr>\n",
       "      <th>14</th>\n",
       "      <td>1437</td>\n",
       "      <td>1603</td>\n",
       "    </tr>\n",
       "    <tr>\n",
       "      <th>15</th>\n",
       "      <td>1423</td>\n",
       "      <td>1486</td>\n",
       "    </tr>\n",
       "    <tr>\n",
       "      <th>16</th>\n",
       "      <td>1494</td>\n",
       "      <td>1694</td>\n",
       "    </tr>\n",
       "    <tr>\n",
       "      <th>17</th>\n",
       "      <td>1374</td>\n",
       "      <td>1632</td>\n",
       "    </tr>\n",
       "    <tr>\n",
       "      <th>18</th>\n",
       "      <td>1728</td>\n",
       "      <td>2164</td>\n",
       "    </tr>\n",
       "    <tr>\n",
       "      <th>19</th>\n",
       "      <td>1395</td>\n",
       "      <td>1473</td>\n",
       "    </tr>\n",
       "    <tr>\n",
       "      <th>20</th>\n",
       "      <td>2508</td>\n",
       "      <td>2829</td>\n",
       "    </tr>\n",
       "    <tr>\n",
       "      <th>21</th>\n",
       "      <td>2291</td>\n",
       "      <td>2459</td>\n",
       "    </tr>\n",
       "    <tr>\n",
       "      <th>22</th>\n",
       "      <td>1719</td>\n",
       "      <td>1782</td>\n",
       "    </tr>\n",
       "    <tr>\n",
       "      <th>23</th>\n",
       "      <td>1167</td>\n",
       "      <td>1283</td>\n",
       "    </tr>\n",
       "    <tr>\n",
       "      <th>24</th>\n",
       "      <td>1141</td>\n",
       "      <td>1255</td>\n",
       "    </tr>\n",
       "    <tr>\n",
       "      <th>25</th>\n",
       "      <td>2299</td>\n",
       "      <td>2339</td>\n",
       "    </tr>\n",
       "    <tr>\n",
       "      <th>26</th>\n",
       "      <td>2489</td>\n",
       "      <td>2489</td>\n",
       "    </tr>\n",
       "    <tr>\n",
       "      <th>27</th>\n",
       "      <td>1558</td>\n",
       "      <td>1632</td>\n",
       "    </tr>\n",
       "    <tr>\n",
       "      <th>28</th>\n",
       "      <td>1131</td>\n",
       "      <td>1295</td>\n",
       "    </tr>\n",
       "    <tr>\n",
       "      <th>29</th>\n",
       "      <td>1545</td>\n",
       "      <td>1585</td>\n",
       "    </tr>\n",
       "    <tr>\n",
       "      <th>...</th>\n",
       "      <td>...</td>\n",
       "      <td>...</td>\n",
       "    </tr>\n",
       "    <tr>\n",
       "      <th>72507</th>\n",
       "      <td>1900</td>\n",
       "      <td>2230</td>\n",
       "    </tr>\n",
       "    <tr>\n",
       "      <th>72508</th>\n",
       "      <td>2104</td>\n",
       "      <td>2414</td>\n",
       "    </tr>\n",
       "    <tr>\n",
       "      <th>72509</th>\n",
       "      <td>2346</td>\n",
       "      <td>2648</td>\n",
       "    </tr>\n",
       "    <tr>\n",
       "      <th>72510</th>\n",
       "      <td>2768</td>\n",
       "      <td>2919</td>\n",
       "    </tr>\n",
       "    <tr>\n",
       "      <th>72511</th>\n",
       "      <td>1252</td>\n",
       "      <td>1407</td>\n",
       "    </tr>\n",
       "    <tr>\n",
       "      <th>72512</th>\n",
       "      <td>2610</td>\n",
       "      <td>2741</td>\n",
       "    </tr>\n",
       "    <tr>\n",
       "      <th>72513</th>\n",
       "      <td>414</td>\n",
       "      <td>459</td>\n",
       "    </tr>\n",
       "    <tr>\n",
       "      <th>72514</th>\n",
       "      <td>2139</td>\n",
       "      <td>2346</td>\n",
       "    </tr>\n",
       "    <tr>\n",
       "      <th>72515</th>\n",
       "      <td>1863</td>\n",
       "      <td>2223</td>\n",
       "    </tr>\n",
       "    <tr>\n",
       "      <th>72516</th>\n",
       "      <td>636</td>\n",
       "      <td>735</td>\n",
       "    </tr>\n",
       "    <tr>\n",
       "      <th>72517</th>\n",
       "      <td>1285</td>\n",
       "      <td>1636</td>\n",
       "    </tr>\n",
       "    <tr>\n",
       "      <th>72518</th>\n",
       "      <td>1951</td>\n",
       "      <td>2091</td>\n",
       "    </tr>\n",
       "    <tr>\n",
       "      <th>72519</th>\n",
       "      <td>2785</td>\n",
       "      <td>3147</td>\n",
       "    </tr>\n",
       "    <tr>\n",
       "      <th>72520</th>\n",
       "      <td>1705</td>\n",
       "      <td>1939</td>\n",
       "    </tr>\n",
       "    <tr>\n",
       "      <th>72521</th>\n",
       "      <td>2234</td>\n",
       "      <td>2544</td>\n",
       "    </tr>\n",
       "    <tr>\n",
       "      <th>72522</th>\n",
       "      <td>1466</td>\n",
       "      <td>1725</td>\n",
       "    </tr>\n",
       "    <tr>\n",
       "      <th>72523</th>\n",
       "      <td>878</td>\n",
       "      <td>1153</td>\n",
       "    </tr>\n",
       "    <tr>\n",
       "      <th>72524</th>\n",
       "      <td>1114</td>\n",
       "      <td>1296</td>\n",
       "    </tr>\n",
       "    <tr>\n",
       "      <th>72525</th>\n",
       "      <td>809</td>\n",
       "      <td>881</td>\n",
       "    </tr>\n",
       "    <tr>\n",
       "      <th>72526</th>\n",
       "      <td>1288</td>\n",
       "      <td>1385</td>\n",
       "    </tr>\n",
       "    <tr>\n",
       "      <th>72527</th>\n",
       "      <td>1004</td>\n",
       "      <td>1174</td>\n",
       "    </tr>\n",
       "    <tr>\n",
       "      <th>72528</th>\n",
       "      <td>1184</td>\n",
       "      <td>1346</td>\n",
       "    </tr>\n",
       "    <tr>\n",
       "      <th>72529</th>\n",
       "      <td>707</td>\n",
       "      <td>1073</td>\n",
       "    </tr>\n",
       "    <tr>\n",
       "      <th>72530</th>\n",
       "      <td>1083</td>\n",
       "      <td>1852</td>\n",
       "    </tr>\n",
       "    <tr>\n",
       "      <th>72531</th>\n",
       "      <td>1941</td>\n",
       "      <td>5997</td>\n",
       "    </tr>\n",
       "    <tr>\n",
       "      <th>72532</th>\n",
       "      <td>2226</td>\n",
       "      <td>8360</td>\n",
       "    </tr>\n",
       "    <tr>\n",
       "      <th>72533</th>\n",
       "      <td>915</td>\n",
       "      <td>1260</td>\n",
       "    </tr>\n",
       "    <tr>\n",
       "      <th>72534</th>\n",
       "      <td>1648</td>\n",
       "      <td>2189</td>\n",
       "    </tr>\n",
       "    <tr>\n",
       "      <th>72535</th>\n",
       "      <td>639</td>\n",
       "      <td>1079</td>\n",
       "    </tr>\n",
       "    <tr>\n",
       "      <th>72536</th>\n",
       "      <td>951</td>\n",
       "      <td>1725</td>\n",
       "    </tr>\n",
       "  </tbody>\n",
       "</table>\n",
       "<p>72537 rows × 2 columns</p>\n",
       "</div>"
      ],
      "text/plain": [
       "       household_count  housing_unit_count\n",
       "0                 2527                2931\n",
       "1                 2230                2356\n",
       "2                 2698                2909\n",
       "3                 1833                2226\n",
       "4                 1917                2004\n",
       "5                 2656                2845\n",
       "6                  470                 559\n",
       "7                 1479                1619\n",
       "8                 2723                3588\n",
       "9                 3282                3566\n",
       "10                3343                3398\n",
       "11                1490                1517\n",
       "12                3258                3449\n",
       "13                2205                2250\n",
       "14                1437                1603\n",
       "15                1423                1486\n",
       "16                1494                1694\n",
       "17                1374                1632\n",
       "18                1728                2164\n",
       "19                1395                1473\n",
       "20                2508                2829\n",
       "21                2291                2459\n",
       "22                1719                1782\n",
       "23                1167                1283\n",
       "24                1141                1255\n",
       "25                2299                2339\n",
       "26                2489                2489\n",
       "27                1558                1632\n",
       "28                1131                1295\n",
       "29                1545                1585\n",
       "...                ...                 ...\n",
       "72507             1900                2230\n",
       "72508             2104                2414\n",
       "72509             2346                2648\n",
       "72510             2768                2919\n",
       "72511             1252                1407\n",
       "72512             2610                2741\n",
       "72513              414                 459\n",
       "72514             2139                2346\n",
       "72515             1863                2223\n",
       "72516              636                 735\n",
       "72517             1285                1636\n",
       "72518             1951                2091\n",
       "72519             2785                3147\n",
       "72520             1705                1939\n",
       "72521             2234                2544\n",
       "72522             1466                1725\n",
       "72523              878                1153\n",
       "72524             1114                1296\n",
       "72525              809                 881\n",
       "72526             1288                1385\n",
       "72527             1004                1174\n",
       "72528             1184                1346\n",
       "72529              707                1073\n",
       "72530             1083                1852\n",
       "72531             1941                5997\n",
       "72532             2226                8360\n",
       "72533              915                1260\n",
       "72534             1648                2189\n",
       "72535              639                1079\n",
       "72536              951                1725\n",
       "\n",
       "[72537 rows x 2 columns]"
      ]
     },
     "execution_count": 105,
     "metadata": {},
     "output_type": "execute_result"
    }
   ],
   "source": [
    "solar[['household_count','housing_unit_count']]"
   ]
  },
  {
   "cell_type": "markdown",
   "metadata": {},
   "source": [
    "# Load/Test PySpark"
   ]
  },
  {
   "cell_type": "code",
   "execution_count": 4,
   "metadata": {
    "collapsed": true
   },
   "outputs": [],
   "source": [
    "from pyspark import SparkContext\n",
    "sc = SparkContext()"
   ]
  },
  {
   "cell_type": "code",
   "execution_count": 5,
   "metadata": {
    "collapsed": false
   },
   "outputs": [
    {
     "name": "stdout",
     "output_type": "stream",
     "text": [
      "Number of random points: 100\n",
      "Mean: [ 0.08095369 -0.04892929]\n",
      "stdev: [ 0.56633402  0.60561417]\n"
     ]
    }
   ],
   "source": [
    "import numpy as np\n",
    "\n",
    "TOTAL = 100\n",
    "dots = sc.parallelize([2.0 * np.random.random(2) - 1.0 for i in range(TOTAL)]).cache()\n",
    "print(\"Number of random points:\", dots.count())\n",
    "\n",
    "stats = dots.stats()\n",
    "print('Mean:', stats.mean())\n",
    "print('stdev:', stats.stdev())"
   ]
  },
  {
   "cell_type": "markdown",
   "metadata": {},
   "source": [
    "# Train Model Using Spark ML"
   ]
  },
  {
   "cell_type": "code",
   "execution_count": 32,
   "metadata": {
    "collapsed": false
   },
   "outputs": [],
   "source": [
    "from numpy import allclose\n",
    "from pyspark.ml.linalg import Vectors\n",
    "from pyspark.ml.feature import StringIndexer\n",
    "from pyspark.ml.classification import RandomForestClassifier\n",
    "from pyspark.ml.regression import RandomForestRegressor\n",
    "from pyspark.ml.feature import IndexToString, StringIndexer, VectorIndexer\n",
    "from pyspark.sql.session import SparkSession\n",
    "from pyspark.sql import *\n",
    "from pyspark.sql.types import *\n",
    "spark = SparkSession(sc)\n",
    "from pyspark.ml.linalg import DenseVector\n",
    "from pyspark.ml import Pipeline\n",
    "from pyspark.ml.evaluation import MulticlassClassificationEvaluator\n",
    "from pyspark.ml.evaluation import RegressionEvaluator"
   ]
  },
  {
   "cell_type": "markdown",
   "metadata": {},
   "source": [
    "## Pre-process for Spark ML"
   ]
  },
  {
   "cell_type": "code",
   "execution_count": null,
   "metadata": {
    "collapsed": true
   },
   "outputs": [],
   "source": [
    "features=solar_fields.loc[(solar_fields['Relevant Feature']==1)]['Field'].tolist()\n",
    "#all_variables=['number_of_solar_system_per_household']features+\n",
    "\n",
    "#Set infinity and blank spaces to NaN in independent variables, set infinite to 0 in dependent variable\n",
    "solar2=solar[features].replace([np.inf,' '],np.nan)\n",
    "solar2['number_of_solar_system_per_household']=solar['number_of_solar_system_per_household'].replace([np.inf,np.nan],0)\n",
    "\n",
    "#Create binary version of number_of_solar_system_per_household for RF classifier\n",
    "\n",
    "solar2['solar_flag']=solar2['number_of_solar_system_per_household'].apply(lambda x: int(x>0))\n",
    "\n",
    "\n",
    "#convert states to indicator indices\n",
    "solar2['state']=solar2['state'].astype('category').cat.codes\n",
    "\n",
    "#create binary version of vote dem win variables\n",
    "\n",
    "solar2['voting_2016_dem_win']=solar2['voting_2016_dem_win'].apply(lambda x: int(x))\n",
    "solar2['voting_2012_dem_win']=solar2['voting_2012_dem_win'].apply(lambda x: int(x))"
   ]
  },
  {
   "cell_type": "markdown",
   "metadata": {},
   "source": [
    "## Write solar2 to csv - cleaner than trying to convert pandas df to pyspark df"
   ]
  },
  {
   "cell_type": "code",
   "execution_count": 65,
   "metadata": {
    "collapsed": true
   },
   "outputs": [],
   "source": [
    "solar2.to_csv('ml_frame.csv',index=False)"
   ]
  },
  {
   "cell_type": "markdown",
   "metadata": {},
   "source": [
    "## Read csv into pyspark df"
   ]
  },
  {
   "cell_type": "code",
   "execution_count": 87,
   "metadata": {
    "collapsed": true
   },
   "outputs": [],
   "source": [
    "df = spark.read.format(\"csv\").option(\"header\", True).option(\"inferSchema\", True).load(\"ml_frame.csv\")"
   ]
  },
  {
   "cell_type": "code",
   "execution_count": 88,
   "metadata": {
    "collapsed": false
   },
   "outputs": [
    {
     "name": "stdout",
     "output_type": "stream",
     "text": [
      "root\n",
      " |-- average_household_income: double (nullable = true)\n",
      " |-- gini_index: double (nullable = true)\n",
      " |-- per_capita_income: double (nullable = true)\n",
      " |-- population_density: double (nullable = true)\n",
      " |-- state: integer (nullable = true)\n",
      " |-- education_less_than_high_school_rate: double (nullable = true)\n",
      " |-- education_high_school_graduate_rate: double (nullable = true)\n",
      " |-- education_college_rate: double (nullable = true)\n",
      " |-- education_bachelor_rate: double (nullable = true)\n",
      " |-- education_master_rate: double (nullable = true)\n",
      " |-- education_professional_school_rate: double (nullable = true)\n",
      " |-- education_doctoral_rate: double (nullable = true)\n",
      " |-- race_white_rate: double (nullable = true)\n",
      " |-- race_black_africa_rate: double (nullable = true)\n",
      " |-- race_indian_alaska_rate: double (nullable = true)\n",
      " |-- race_asian_rate: double (nullable = true)\n",
      " |-- race_islander_rate: double (nullable = true)\n",
      " |-- race_other_rate: double (nullable = true)\n",
      " |-- race_two_more_rate: double (nullable = true)\n",
      " |-- employ_rate: double (nullable = true)\n",
      " |-- poverty_family_below_poverty_level_rate: double (nullable = true)\n",
      " |-- heating_fuel_gas_rate: double (nullable = true)\n",
      " |-- heating_fuel_electricity_rate: double (nullable = true)\n",
      " |-- heating_fuel_fuel_oil_kerosene_rate: double (nullable = true)\n",
      " |-- heating_fuel_coal_coke_rate: double (nullable = true)\n",
      " |-- heating_fuel_solar_rate: double (nullable = true)\n",
      " |-- heating_fuel_other_rate: double (nullable = true)\n",
      " |-- heating_fuel_none_rate: double (nullable = true)\n",
      " |-- median_household_income: double (nullable = true)\n",
      " |-- electricity_price_residential: double (nullable = true)\n",
      " |-- electricity_price_commercial: double (nullable = true)\n",
      " |-- electricity_price_industrial: double (nullable = true)\n",
      " |-- electricity_price_transportation: double (nullable = true)\n",
      " |-- electricity_price_overall: double (nullable = true)\n",
      " |-- electricity_consume_residential: integer (nullable = true)\n",
      " |-- electricity_consume_commercial: integer (nullable = true)\n",
      " |-- electricity_consume_industrial: integer (nullable = true)\n",
      " |-- electricity_consume_total: integer (nullable = true)\n",
      " |-- average_household_size: double (nullable = true)\n",
      " |-- housing_unit_median_value: double (nullable = true)\n",
      " |-- housing_unit_median_gross_rent: double (nullable = true)\n",
      " |-- lat: double (nullable = true)\n",
      " |-- lon: double (nullable = true)\n",
      " |-- elevation: double (nullable = true)\n",
      " |-- heating_design_temperature: double (nullable = true)\n",
      " |-- cooling_design_temperature: double (nullable = true)\n",
      " |-- earth_temperature_amplitude: double (nullable = true)\n",
      " |-- frost_days: double (nullable = true)\n",
      " |-- air_temperature: double (nullable = true)\n",
      " |-- relative_humidity: double (nullable = true)\n",
      " |-- daily_solar_radiation: double (nullable = true)\n",
      " |-- atmospheric_pressure: double (nullable = true)\n",
      " |-- wind_speed: double (nullable = true)\n",
      " |-- earth_temperature: double (nullable = true)\n",
      " |-- heating_degree_days: double (nullable = true)\n",
      " |-- cooling_degree_days: double (nullable = true)\n",
      " |-- age_18_24_rate: double (nullable = true)\n",
      " |-- age_25_34_rate: double (nullable = true)\n",
      " |-- age_more_than_85_rate: double (nullable = true)\n",
      " |-- age_75_84_rate: double (nullable = true)\n",
      " |-- age_35_44_rate: double (nullable = true)\n",
      " |-- age_45_54_rate: double (nullable = true)\n",
      " |-- age_65_74_rate: double (nullable = true)\n",
      " |-- age_55_64_rate: double (nullable = true)\n",
      " |-- age_10_14_rate: double (nullable = true)\n",
      " |-- age_15_17_rate: double (nullable = true)\n",
      " |-- age_5_9_rate: double (nullable = true)\n",
      " |-- household_type_family_rate: double (nullable = true)\n",
      " |-- dropout_16_19_inschool_rate: double (nullable = true)\n",
      " |-- occupation_construction_rate: double (nullable = true)\n",
      " |-- occupation_public_rate: double (nullable = true)\n",
      " |-- occupation_information_rate: double (nullable = true)\n",
      " |-- occupation_finance_rate: double (nullable = true)\n",
      " |-- occupation_education_rate: double (nullable = true)\n",
      " |-- occupation_administrative_rate: double (nullable = true)\n",
      " |-- occupation_manufacturing_rate: double (nullable = true)\n",
      " |-- occupation_wholesale_rate: double (nullable = true)\n",
      " |-- occupation_retail_rate: double (nullable = true)\n",
      " |-- occupation_transportation_rate: double (nullable = true)\n",
      " |-- occupation_arts_rate: double (nullable = true)\n",
      " |-- occupation_agriculture_rate: double (nullable = true)\n",
      " |-- occupancy_vacant_rate: double (nullable = true)\n",
      " |-- occupancy_owner_rate: double (nullable = true)\n",
      " |-- mortgage_with_rate: double (nullable = true)\n",
      " |-- transportation_home_rate: double (nullable = true)\n",
      " |-- transportation_car_alone_rate: double (nullable = true)\n",
      " |-- transportation_walk_rate: double (nullable = true)\n",
      " |-- transportation_carpool_rate: double (nullable = true)\n",
      " |-- transportation_motorcycle_rate: double (nullable = true)\n",
      " |-- transportation_bicycle_rate: double (nullable = true)\n",
      " |-- transportation_public_rate: double (nullable = true)\n",
      " |-- travel_time_less_than_10_rate: double (nullable = true)\n",
      " |-- travel_time_10_19_rate: double (nullable = true)\n",
      " |-- travel_time_20_29_rate: double (nullable = true)\n",
      " |-- travel_time_30_39_rate: double (nullable = true)\n",
      " |-- travel_time_40_59_rate: double (nullable = true)\n",
      " |-- travel_time_60_89_rate: double (nullable = true)\n",
      " |-- health_insurance_public_rate: double (nullable = true)\n",
      " |-- health_insurance_none_rate: double (nullable = true)\n",
      " |-- age_median: double (nullable = true)\n",
      " |-- travel_time_average: double (nullable = true)\n",
      " |-- voting_2016_dem_percentage: double (nullable = true)\n",
      " |-- voting_2016_gop_percentage: double (nullable = true)\n",
      " |-- voting_2016_dem_win: boolean (nullable = true)\n",
      " |-- voting_2012_dem_percentage: double (nullable = true)\n",
      " |-- voting_2012_gop_percentage: double (nullable = true)\n",
      " |-- voting_2012_dem_win: boolean (nullable = true)\n",
      " |-- number_of_years_of_education: double (nullable = true)\n",
      " |-- diversity: double (nullable = true)\n",
      " |-- incentive_count_residential: integer (nullable = true)\n",
      " |-- incentive_count_nonresidential: integer (nullable = true)\n",
      " |-- incentive_residential_state_level: integer (nullable = true)\n",
      " |-- incentive_nonresidential_state_level: integer (nullable = true)\n",
      " |-- net_metering: integer (nullable = true)\n",
      " |-- feedin_tariff: integer (nullable = true)\n",
      " |-- cooperate_tax: integer (nullable = true)\n",
      " |-- property_tax: integer (nullable = true)\n",
      " |-- sales_tax: integer (nullable = true)\n",
      " |-- rebate: integer (nullable = true)\n",
      " |-- avg_electricity_retail_rate: double (nullable = true)\n",
      " |-- number_of_solar_system_per_household: double (nullable = true)\n",
      " |-- solar_flag: integer (nullable = true)\n",
      "\n"
     ]
    }
   ],
   "source": [
    "df.printSchema()"
   ]
  },
  {
   "cell_type": "markdown",
   "metadata": {},
   "source": [
    "## Process Spark Df for Random Forest Classifier - Create Train and Test Sets"
   ]
  },
  {
   "cell_type": "code",
   "execution_count": 89,
   "metadata": {
    "collapsed": false
   },
   "outputs": [],
   "source": [
    "cols=df.columns\n",
    "indep_vars=[i for i in cols if i not in ['solar_flag','number_of_solar_system_per_household']]\n",
    "classifier_cols=['solar_flag']+indep_vars\n",
    "regressor_cols=['number_of_solar_system_per_household']+indep_vars"
   ]
  },
  {
   "cell_type": "code",
   "execution_count": 90,
   "metadata": {
    "collapsed": true
   },
   "outputs": [],
   "source": [
    "(trainingData, testData) = df.randomSplit([0.8, 0.2],seed=1234)\n",
    "\n",
    "classifier_train=trainingData.select(classifier_cols).rdd.map(lambda x: (x[0], DenseVector(x[1:])))\n",
    "classifier_test=testData.select(classifier_cols).rdd.map(lambda x: (x[0], DenseVector(x[1:])))\n",
    "\n",
    "regressor_train=trainingData.select(regressor_cols).rdd.map(lambda x: (x[0], DenseVector(x[1:])))\n",
    "regressor_test=testData.select(regressor_cols).rdd.map(lambda x: (x[0], DenseVector(x[1:])))"
   ]
  },
  {
   "cell_type": "code",
   "execution_count": 91,
   "metadata": {
    "collapsed": true
   },
   "outputs": [],
   "source": [
    "classifier_train_df = spark.createDataFrame(classifier_train, [\"label\", \"features\"])\n",
    "classifier_test_df = spark.createDataFrame(classifier_test, [\"label\", \"features\"])\n",
    "\n",
    "\n",
    "regressor_train_df=spark.createDataFrame(regressor_train, [\"label\", \"features\"])\n",
    "regressor_test_df=spark.createDataFrame(regressor_test, [\"label\", \"features\"])"
   ]
  },
  {
   "cell_type": "markdown",
   "metadata": {},
   "source": [
    "### Generate Full classifier and regressor frames as reference for featureIndexer"
   ]
  },
  {
   "cell_type": "code",
   "execution_count": 92,
   "metadata": {
    "collapsed": true
   },
   "outputs": [],
   "source": [
    "classifier_data=df.select(classifier_cols).rdd.map(lambda x: (x[0], DenseVector(x[1:])))\n",
    "regressor_data=df.select(regressor_cols).rdd.map(lambda x: (x[0], DenseVector(x[1:])))\n",
    "\n",
    "classifier_df = spark.createDataFrame(classifier_data, [\"label\", \"features\"])\n",
    "regressor_df=spark.createDataFrame(regressor_data, [\"label\", \"features\"])"
   ]
  },
  {
   "cell_type": "markdown",
   "metadata": {},
   "source": [
    "## Create Model Pipeline - Classifier"
   ]
  },
  {
   "cell_type": "code",
   "execution_count": 93,
   "metadata": {
    "collapsed": false
   },
   "outputs": [],
   "source": [
    "#index the labels and the features for the random forest model\n",
    "labelIndexer = StringIndexer(inputCol=\"label\", outputCol=\"indexedLabel\").fit(classifier_df)\n",
    "featureIndexer =VectorIndexer(inputCol=\"features\", outputCol=\"indexedFeatures\", maxCategories=50).fit(classifier_df)\n",
    "\n",
    "\n",
    "#define the model and the label converter\n",
    "rf = RandomForestClassifier(labelCol=\"indexedLabel\", featuresCol=\"indexedFeatures\", numTrees=100,maxBins=50)\n",
    "labelConverter = IndexToString(inputCol=\"prediction\", outputCol=\"predictedLabel\",\n",
    "                               labels=labelIndexer.labels)\n",
    "\n",
    "#put all the steps together into a pipeline\n",
    "pipeline = Pipeline(stages=[labelIndexer, featureIndexer, rf, labelConverter])\n",
    "\n",
    "#fit the training data\n",
    "model = pipeline.fit(classifier_train_df)\n",
    "\n",
    "#generate predictions on the test data\n",
    "predictions = model.transform(classifier_test_df)"
   ]
  },
  {
   "cell_type": "markdown",
   "metadata": {},
   "source": [
    "## Evaluate Classifier Accuracy"
   ]
  },
  {
   "cell_type": "code",
   "execution_count": 94,
   "metadata": {
    "collapsed": false
   },
   "outputs": [
    {
     "name": "stdout",
     "output_type": "stream",
     "text": [
      "test set accuracy:  0.7901055682053405\n"
     ]
    }
   ],
   "source": [
    "evaluator = MulticlassClassificationEvaluator(\n",
    "    labelCol=\"indexedLabel\", predictionCol=\"prediction\", metricName=\"accuracy\")\n",
    "accuracy = evaluator.evaluate(predictions)\n",
    "print('test set accuracy: ',accuracy)"
   ]
  },
  {
   "cell_type": "markdown",
   "metadata": {},
   "source": [
    "## Get Classifier Feature Importances"
   ]
  },
  {
   "cell_type": "code",
   "execution_count": 95,
   "metadata": {
    "collapsed": false
   },
   "outputs": [
    {
     "data": {
      "text/plain": [
       "[('population_density', 0.13118768896957744),\n",
       " ('heating_fuel_coal_coke_rate', 0.098633403376446646),\n",
       " ('race_asian_rate', 0.052678830389025426),\n",
       " ('occupancy_vacant_rate', 0.051736586298504035),\n",
       " ('occupation_agriculture_rate', 0.03639380860602482),\n",
       " ('electricity_price_commercial', 0.031224988615582552),\n",
       " ('housing_unit_median_gross_rent', 0.027445022386295172),\n",
       " ('education_high_school_graduate_rate', 0.022922427733089234),\n",
       " ('electricity_consume_total', 0.021794422291053633),\n",
       " ('property_tax', 0.021552085043743004),\n",
       " ('number_of_years_of_education', 0.019682853553454553),\n",
       " ('relative_humidity', 0.019045283843342403),\n",
       " ('electricity_price_overall', 0.018920983671550116),\n",
       " ('electricity_consume_commercial', 0.017355679171692374),\n",
       " ('electricity_consume_residential', 0.016814018507011842),\n",
       " ('mortgage_with_rate', 0.016302518215167486),\n",
       " ('race_black_africa_rate', 0.015803695962652881),\n",
       " ('housing_unit_median_value', 0.015743282759629565),\n",
       " ('transportation_public_rate', 0.015573952011431701),\n",
       " ('travel_time_average', 0.014717399894371076)]"
      ]
     },
     "execution_count": 95,
     "metadata": {},
     "output_type": "execute_result"
    }
   ],
   "source": [
    "rfModel = model.stages[2]\n",
    "feature_importances=rfModel.featureImportances\n",
    "#print(len(indep_vars))\n",
    "fia=feature_importances.toArray()\n",
    "#print(fia)\n",
    "fi_list=[]\n",
    "for i in range(fia.shape[0]):\n",
    "    fi_list.append((indep_vars[i],fia[i]))\n",
    "sorted_list=sorted(fi_list,reverse=True,key=lambda k: k[1])\n",
    "sorted_list[0:20]"
   ]
  },
  {
   "cell_type": "markdown",
   "metadata": {
    "collapsed": true
   },
   "source": [
    "## Create Model Pipeline - RandomForestRegressor"
   ]
  },
  {
   "cell_type": "code",
   "execution_count": 96,
   "metadata": {
    "collapsed": false
   },
   "outputs": [],
   "source": [
    "#define the feature indexer\n",
    "featureIndexer2 =VectorIndexer(inputCol=\"features\", outputCol=\"indexedFeatures\", maxCategories=50).fit(regressor_df)\n",
    "\n",
    "\n",
    "#define the model\n",
    "rf2 = RandomForestRegressor(featuresCol=\"indexedFeatures\", numTrees=200,maxBins=50)\n",
    "\n",
    "#put all the steps together into a pipeline\n",
    "pipeline2 = Pipeline(stages=[featureIndexer2, rf2])\n",
    "\n",
    "#fit the training data\n",
    "model2 = pipeline2.fit(regressor_train_df)\n",
    "\n",
    "#generate predictions on the test data\n",
    "predictions2 = model2.transform(regressor_test_df)"
   ]
  },
  {
   "cell_type": "code",
   "execution_count": 61,
   "metadata": {
    "collapsed": false
   },
   "outputs": [
    {
     "name": "stdout",
     "output_type": "stream",
     "text": [
      "+-----+--------------------+--------------------+--------------------+\n",
      "|label|            features|     indexedFeatures|          prediction|\n",
      "+-----+--------------------+--------------------+--------------------+\n",
      "|  0.0|[9770.23809524,0....|[9770.23809524,0....|0.001449081326517553|\n",
      "|  0.0|[11758.4745763,0....|[11758.4745763,0....|0.028789590601968798|\n",
      "|  0.0|[11797.2457627,0....|[11797.2457627,0....| 0.01017962048883469|\n",
      "|  0.0|[17166.6666667,0....|[17166.6666667,0....|0.001813317692320...|\n",
      "|  0.0|[19851.1111110999...|[19851.1111110999...|0.001341892594864...|\n",
      "|  0.0|[20153.2268796,0....|[20153.2268796,0....|0.001384800277668636|\n",
      "|  0.0|[20448.7021014000...|[20448.7021014000...|0.008925279480280261|\n",
      "|  0.0|[20837.0873785999...|[20837.0873785999...|0.009356201710655963|\n",
      "|  0.0|[21236.7384615,0....|[21236.7384615,0....|0.007192531952161102|\n",
      "|  0.0|[21519.3913043,0....|[21519.3913043,0....|0.005539057246963736|\n",
      "|  0.0|[21580.3738318,0....|[21580.3738318,0....|0.001376358549263...|\n",
      "|  0.0|[22810.3806228,0....|[22810.3806228,0....| 0.00133367865798234|\n",
      "|  0.0|[23990.7788162,0....|[23990.7788162,0....| 0.00133367865798234|\n",
      "|  0.0|[24295.5592105,0....|[24295.5592105,0....|0.008350425742492866|\n",
      "|  0.0|[24710.8023072999...|[24710.8023072999...|0.007025138293006757|\n",
      "|  0.0|[24747.094431,0.4...|[24747.094431,0.4...| 0.00133367865798234|\n",
      "|  0.0|[25109.5679012,0....|[25109.5679012,0....|0.005158379661144046|\n",
      "|  0.0|[25166.9505963,0....|[25166.9505963,0....|0.002276249326199...|\n",
      "|  0.0|[25277.6448942,0....|[25277.6448942,0....|0.003579396111734...|\n",
      "|  0.0|[26601.6768293,0....|[26601.6768293,0....|0.011354272515278742|\n",
      "|  0.0|[26676.5625,0.430...|[26676.5625,0.430...|0.007209136979501926|\n",
      "|  0.0|[26942.0986094000...|[26942.0986094000...|0.003028516031826084|\n",
      "|  0.0|[27046.3924964,0....|[27046.3924964,0....|0.003102755529593...|\n",
      "|  0.0|[27247.6076555,0....|[27247.6076555,0....|0.001341892594864...|\n",
      "|  0.0|[27543.2657926,0....|[27543.2657926,0....|0.009233695204419605|\n",
      "|  0.0|[27724.3378669,0....|[27724.3378669,0....| 0.00133367865798234|\n",
      "|  0.0|[27912.6567845000...|[27912.6567845000...|0.004814862702365291|\n",
      "|  0.0|[27928.4299859000...|[27928.4299859000...| 0.00133367865798234|\n",
      "|  0.0|[27941.5686274999...|[27941.5686274999...|0.001344021859516...|\n",
      "|  0.0|[28317.0628182999...|[28317.0628182999...|0.013764702638284023|\n",
      "|  0.0|[28452.6992288,0....|[28452.6992288,0....| 0.00133367865798234|\n",
      "|  0.0|[29121.1764705999...|[29121.1764705999...| 0.00133367865798234|\n",
      "|  0.0|[29125.9634888,0....|[29125.9634888,0....|0.002059882970146294|\n",
      "|  0.0|[29190.0960384,0....|[29190.0960384,0....|0.003579396111734...|\n",
      "|  0.0|[29265.8053402,0....|[29265.8053402,0....| 0.00133367865798234|\n",
      "|  0.0|[29336.4464692000...|[29336.4464692000...|0.009729355167450715|\n",
      "|  0.0|[29620.152856,0.4...|[29620.152856,0.4...|0.003560905207533...|\n",
      "|  0.0|[29920.6982544000...|[29920.6982544000...|0.003750448673033392|\n",
      "|  0.0|[30035.8490566,0....|[30035.8490566,0....| 0.00133367865798234|\n",
      "|  0.0|[30489.9590164000...|[30489.9590164000...|0.003645019018125918|\n",
      "|  0.0|[30623.2232232,0....|[30623.2232232,0....|0.011603433622088983|\n",
      "|  0.0|[31023.1295253000...|[31023.1295253000...|0.003560905207533...|\n",
      "|  0.0|[31210.5347167,0....|[31210.5347167,0....|0.018947175388462013|\n",
      "|  0.0|[31292.9604629000...|[31292.9604629000...|0.008337762898086114|\n",
      "|  0.0|[31313.5947712,0....|[31313.5947712,0....|0.001344021859516...|\n",
      "|  0.0|[31335.5828220999...|[31335.5828220999...| 0.00133367865798234|\n",
      "|  0.0|[31544.6370530999...|[31544.6370530999...|0.001341892594864...|\n",
      "|  0.0|[31737.7833753,0....|[31737.7833753,0....|0.009462376779660853|\n",
      "|  0.0|[31795.6021650999...|[31795.6021650999...|0.003560905207533...|\n",
      "|  0.0|[31820.1960784000...|[31820.1960784000...|0.001341892594864...|\n",
      "+-----+--------------------+--------------------+--------------------+\n",
      "only showing top 50 rows\n",
      "\n"
     ]
    }
   ],
   "source": [
    "predictions2.show(50)"
   ]
  },
  {
   "cell_type": "markdown",
   "metadata": {},
   "source": [
    "## Assess R^2 for Regression Model"
   ]
  },
  {
   "cell_type": "code",
   "execution_count": 97,
   "metadata": {
    "collapsed": false
   },
   "outputs": [
    {
     "name": "stdout",
     "output_type": "stream",
     "text": [
      "R^2 on test data = 0.199125\n"
     ]
    }
   ],
   "source": [
    "evaluator = RegressionEvaluator(\n",
    "    labelCol=\"label\", predictionCol=\"prediction\", metricName=\"r2\")\n",
    "r2 = evaluator.evaluate(predictions2)\n",
    "print(\"R^2 on test data = %g\" % r2)"
   ]
  },
  {
   "cell_type": "markdown",
   "metadata": {},
   "source": [
    "## Regression Model Feature Importances"
   ]
  },
  {
   "cell_type": "code",
   "execution_count": 98,
   "metadata": {
    "collapsed": false
   },
   "outputs": [
    {
     "data": {
      "text/plain": [
       "[('state', 0.084087104752229566),\n",
       " ('heating_fuel_electricity_rate', 0.065892949906152451),\n",
       " ('electricity_price_residential', 0.057150443926521161),\n",
       " ('occupancy_owner_rate', 0.053728231346459293),\n",
       " ('electricity_price_commercial', 0.044322663264767102),\n",
       " ('voting_2012_gop_percentage', 0.034745174064165017),\n",
       " ('electricity_price_industrial', 0.033559489325648346),\n",
       " ('median_household_income', 0.031770318844977996),\n",
       " ('education_high_school_graduate_rate', 0.028625187619716191),\n",
       " ('average_household_income', 0.025791543883914945),\n",
       " ('voting_2016_dem_percentage', 0.025598945532754037),\n",
       " ('electricity_consume_residential', 0.021572830497412737),\n",
       " ('electricity_price_overall', 0.01942859823129214),\n",
       " ('population_density', 0.018874743085619702),\n",
       " ('electricity_consume_commercial', 0.018014974864441174),\n",
       " ('household_type_family_rate', 0.017064164720980733),\n",
       " ('relative_humidity', 0.0161713084536949),\n",
       " ('transportation_public_rate', 0.014736279963133189),\n",
       " ('heating_fuel_gas_rate', 0.014204143070635151),\n",
       " ('avg_electricity_retail_rate', 0.012793447300816432)]"
      ]
     },
     "execution_count": 98,
     "metadata": {},
     "output_type": "execute_result"
    }
   ],
   "source": [
    "rfModel2 = model2.stages[1]\n",
    "feature_importances2=rfModel2.featureImportances\n",
    "#print(len(indep_vars))\n",
    "fia2=feature_importances2.toArray()\n",
    "#print(fia)\n",
    "fi_list2=[]\n",
    "for i in range(fia2.shape[0]):\n",
    "    fi_list2.append((indep_vars[i],fia2[i]))\n",
    "sorted_list2=sorted(fi_list2,reverse=True,key=lambda k: k[1])\n",
    "sorted_list2[0:20]"
   ]
  },
  {
   "cell_type": "markdown",
   "metadata": {},
   "source": [
    "## Overall R^2 for SolarForest"
   ]
  },
  {
   "cell_type": "code",
   "execution_count": 99,
   "metadata": {
    "collapsed": false
   },
   "outputs": [],
   "source": [
    "classifier_preds=predictions.select('prediction').collect()\n",
    "classifier_preds_list=[i.prediction for i in classifier_preds]"
   ]
  },
  {
   "cell_type": "code",
   "execution_count": 100,
   "metadata": {
    "collapsed": true
   },
   "outputs": [],
   "source": [
    "regressor_preds=predictions2.select('prediction').collect()\n",
    "regressor_preds_list=[i.prediction for i in regressor_preds]"
   ]
  },
  {
   "cell_type": "code",
   "execution_count": 101,
   "metadata": {
    "collapsed": false
   },
   "outputs": [],
   "source": [
    "def new_preds(classifier,regressor):\n",
    "    new_preds=[]\n",
    "    for i in range(len(classifier)):\n",
    "        if classifier[i]==0:\n",
    "            new_preds.append(0)\n",
    "        else:\n",
    "            new_preds.append(regressor[i])\n",
    "            \n",
    "    return new_preds"
   ]
  },
  {
   "cell_type": "code",
   "execution_count": 102,
   "metadata": {
    "collapsed": false
   },
   "outputs": [],
   "source": [
    "new_predictions_list=new_preds(classifier_preds_list,regressor_preds_list)\n",
    "actual_vals=predictions2.select('label').collect()\n",
    "actual_vals_list=[i.label for i in actual_vals]"
   ]
  },
  {
   "cell_type": "code",
   "execution_count": 103,
   "metadata": {
    "collapsed": false
   },
   "outputs": [],
   "source": [
    "from sklearn.metrics import r2_score"
   ]
  },
  {
   "cell_type": "code",
   "execution_count": 104,
   "metadata": {
    "collapsed": false
   },
   "outputs": [
    {
     "data": {
      "text/plain": [
       "-0.049687838551428776"
      ]
     },
     "execution_count": 104,
     "metadata": {},
     "output_type": "execute_result"
    }
   ],
   "source": [
    "r2_score(actual_vals_list,new_predictions_list)"
   ]
  },
  {
   "cell_type": "code",
   "execution_count": null,
   "metadata": {
    "collapsed": true
   },
   "outputs": [],
   "source": []
  }
 ],
 "metadata": {
  "anaconda-cloud": {},
  "kernelspec": {
   "display_name": "Python [Root]",
   "language": "python",
   "name": "Python [Root]"
  },
  "language_info": {
   "codemirror_mode": {
    "name": "ipython",
    "version": 3
   },
   "file_extension": ".py",
   "mimetype": "text/x-python",
   "name": "python",
   "nbconvert_exporter": "python",
   "pygments_lexer": "ipython3",
   "version": "3.5.2"
  }
 },
 "nbformat": 4,
 "nbformat_minor": 0
}
