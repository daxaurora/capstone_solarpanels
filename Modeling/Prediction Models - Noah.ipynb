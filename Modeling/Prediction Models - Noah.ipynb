{
 "cells": [
  {
   "cell_type": "code",
   "execution_count": 1,
   "metadata": {
    "collapsed": true
   },
   "outputs": [],
   "source": [
    "import pandas as pd\n",
    "import numpy as np\n",
    "import matplotlib.pyplot as plt\n",
    "from sklearn.ensemble import RandomForestClassifier\n",
    "from sklearn.ensemble import RandomForestRegressor"
   ]
  },
  {
   "cell_type": "markdown",
   "metadata": {},
   "source": [
    "# Load and Prepare the Data"
   ]
  },
  {
   "cell_type": "code",
   "execution_count": 21,
   "metadata": {},
   "outputs": [
    {
     "data": {
      "text/html": [
       "<div>\n",
       "<style>\n",
       "    .dataframe thead tr:only-child th {\n",
       "        text-align: right;\n",
       "    }\n",
       "\n",
       "    .dataframe thead th {\n",
       "        text-align: left;\n",
       "    }\n",
       "\n",
       "    .dataframe tbody tr th {\n",
       "        vertical-align: top;\n",
       "    }\n",
       "</style>\n",
       "<table border=\"1\" class=\"dataframe\">\n",
       "  <thead>\n",
       "    <tr style=\"text-align: right;\">\n",
       "      <th></th>\n",
       "      <th>Field</th>\n",
       "      <th>Description</th>\n",
       "      <th>Unit</th>\n",
       "      <th>Data Type</th>\n",
       "      <th>Formula</th>\n",
       "      <th>Possible Values</th>\n",
       "      <th>Observed Max</th>\n",
       "      <th>Observed Min</th>\n",
       "      <th>Theoretical Min</th>\n",
       "      <th>Theoretical Max</th>\n",
       "      <th>Relevant Feature</th>\n",
       "    </tr>\n",
       "  </thead>\n",
       "  <tbody>\n",
       "    <tr>\n",
       "      <th>0</th>\n",
       "      <td>Unnamed: 0</td>\n",
       "      <td>Index</td>\n",
       "      <td>NaN</td>\n",
       "      <td>Numeric</td>\n",
       "      <td>NaN</td>\n",
       "      <td>NaN</td>\n",
       "      <td>72537.000</td>\n",
       "      <td>0</td>\n",
       "      <td>NaN</td>\n",
       "      <td>NaN</td>\n",
       "      <td>0</td>\n",
       "    </tr>\n",
       "    <tr>\n",
       "      <th>1</th>\n",
       "      <td>tile_count</td>\n",
       "      <td>total number of tiles in census tract</td>\n",
       "      <td>NaN</td>\n",
       "      <td>Numeric</td>\n",
       "      <td>NaN</td>\n",
       "      <td>NaN</td>\n",
       "      <td>4468.000</td>\n",
       "      <td>0</td>\n",
       "      <td>0.0</td>\n",
       "      <td>NaN</td>\n",
       "      <td>0</td>\n",
       "    </tr>\n",
       "    <tr>\n",
       "      <th>2</th>\n",
       "      <td>solar_system_count</td>\n",
       "      <td>Total number of solar systems in census tract</td>\n",
       "      <td>NaN</td>\n",
       "      <td>Numeric</td>\n",
       "      <td>NaN</td>\n",
       "      <td>NaN</td>\n",
       "      <td>1535.000</td>\n",
       "      <td>0</td>\n",
       "      <td>0.0</td>\n",
       "      <td>NaN</td>\n",
       "      <td>0</td>\n",
       "    </tr>\n",
       "    <tr>\n",
       "      <th>3</th>\n",
       "      <td>total_panel_area</td>\n",
       "      <td>NaN</td>\n",
       "      <td>NaN</td>\n",
       "      <td>Numeric</td>\n",
       "      <td>NaN</td>\n",
       "      <td>NaN</td>\n",
       "      <td>592031.075</td>\n",
       "      <td>0</td>\n",
       "      <td>0.0</td>\n",
       "      <td>NaN</td>\n",
       "      <td>0</td>\n",
       "    </tr>\n",
       "    <tr>\n",
       "      <th>4</th>\n",
       "      <td>fips</td>\n",
       "      <td>FIPS identifier for the census tract</td>\n",
       "      <td>NaN</td>\n",
       "      <td>String</td>\n",
       "      <td>NaN</td>\n",
       "      <td>NaN</td>\n",
       "      <td>NaN</td>\n",
       "      <td>NaN</td>\n",
       "      <td>NaN</td>\n",
       "      <td>NaN</td>\n",
       "      <td>0</td>\n",
       "    </tr>\n",
       "  </tbody>\n",
       "</table>\n",
       "</div>"
      ],
      "text/plain": [
       "                Field                                    Description Unit  \\\n",
       "0          Unnamed: 0                                          Index  NaN   \n",
       "1          tile_count          total number of tiles in census tract  NaN   \n",
       "2  solar_system_count  Total number of solar systems in census tract  NaN   \n",
       "3    total_panel_area                                            NaN  NaN   \n",
       "4                fips           FIPS identifier for the census tract  NaN   \n",
       "\n",
       "  Data Type Formula  Possible Values  Observed Max Observed Min  \\\n",
       "0   Numeric     NaN              NaN     72537.000            0   \n",
       "1   Numeric     NaN              NaN      4468.000            0   \n",
       "2   Numeric     NaN              NaN      1535.000            0   \n",
       "3   Numeric     NaN              NaN    592031.075            0   \n",
       "4    String     NaN              NaN           NaN          NaN   \n",
       "\n",
       "   Theoretical Min Theoretical Max  Relevant Feature  \n",
       "0              NaN             NaN                 0  \n",
       "1              0.0             NaN                 0  \n",
       "2              0.0             NaN                 0  \n",
       "3              0.0             NaN                 0  \n",
       "4              NaN             NaN                 0  "
      ]
     },
     "execution_count": 21,
     "metadata": {},
     "output_type": "execute_result"
    }
   ],
   "source": [
    "solar=pd.read_csv('../deepsolar_tract.csv',encoding = \"ISO-8859-1\")\n",
    "solar.head()\n",
    "solar_fields=pd.read_csv('../deepsolar fields.csv')\n",
    "solar_fields.head()"
   ]
  },
  {
   "cell_type": "code",
   "execution_count": 46,
   "metadata": {},
   "outputs": [
    {
     "name": "stdout",
     "output_type": "stream",
     "text": [
      "training data shape:  (36143, 142)\n",
      "training labels shape:  (36143,)\n",
      "dev data shape:  (9036, 142)\n",
      "dev labels shape:  (9036,)\n"
     ]
    }
   ],
   "source": [
    "#define relevant features and dependent variable\n",
    "\n",
    "\n",
    "features=solar_fields.loc[(solar_fields['Relevant Feature']==1)]['Field'].tolist()\n",
    "all_variables=features+['number_of_solar_system_per_household']\n",
    "\n",
    "#drop rows with NaN values for now\n",
    "solar2=solar[all_variables].replace([np.inf,' '],np.nan).dropna()\n",
    "\n",
    "#Create binary version of number_of_solar_system_per_household for RF classifier\n",
    "\n",
    "solar2['solar_flag']=solar2['number_of_solar_system_per_household'].apply(lambda x: int(x>0))\n",
    "\n",
    "\n",
    "#create dummy variables for state\n",
    "solar2=pd.get_dummies(solar2,columns=['state'])\n",
    "\n",
    "#create binary version of vote dem win variables\n",
    "\n",
    "solar2['voting_2016_dem_win']=solar2['voting_2016_dem_win'].apply(lambda x: int(x))\n",
    "solar2['voting_2012_dem_win']=solar2['voting_2012_dem_win'].apply(lambda x: int(x))\n",
    "\n",
    "\n",
    "#designate independent variable frame\n",
    "independent_vars=solar2.loc[:,~solar2.columns.isin(['number_of_solar_system_per_household','solar_flag'])]\n",
    "\n",
    "#create training and test data\n",
    "shuffle = np.random.permutation(np.arange(independent_vars.shape[0]))\n",
    "split_size=int(shuffle.shape[0]*0.8)\n",
    "\n",
    "X,y=independent_vars.values[shuffle],solar2['solar_flag'].values[shuffle]\n",
    "X_train,y_train=X[0:split_size],y[0:split_size]\n",
    "X_dev,y_dev=X[split_size:],y[split_size:]\n",
    "print('training data shape: ',X_train.shape)\n",
    "print('training labels shape: ',y_train.shape)\n",
    "print('dev data shape: ',X_dev.shape)\n",
    "print('dev labels shape: ',y_dev.shape)\n",
    "\n",
    "\n"
   ]
  },
  {
   "cell_type": "markdown",
   "metadata": {},
   "source": [
    "# Fit the Classifier"
   ]
  },
  {
   "cell_type": "code",
   "execution_count": 47,
   "metadata": {},
   "outputs": [
    {
     "data": {
      "text/plain": [
       "RandomForestClassifier(bootstrap=True, class_weight=None, criterion='gini',\n",
       "            max_depth=None, max_features='auto', max_leaf_nodes=None,\n",
       "            min_impurity_decrease=0.0, min_impurity_split=None,\n",
       "            min_samples_leaf=1, min_samples_split=2,\n",
       "            min_weight_fraction_leaf=0.0, n_estimators=10, n_jobs=1,\n",
       "            oob_score=False, random_state=None, verbose=0,\n",
       "            warm_start=False)"
      ]
     },
     "execution_count": 47,
     "metadata": {},
     "output_type": "execute_result"
    }
   ],
   "source": [
    "classifier=RandomForestClassifier()\n",
    "classifier.fit(X_train,y_train)"
   ]
  },
  {
   "cell_type": "markdown",
   "metadata": {},
   "source": [
    "## Classifier Score on the Dev Set"
   ]
  },
  {
   "cell_type": "code",
   "execution_count": 48,
   "metadata": {},
   "outputs": [
    {
     "data": {
      "text/plain": [
       "0.80190349712262066"
      ]
     },
     "execution_count": 48,
     "metadata": {},
     "output_type": "execute_result"
    }
   ],
   "source": [
    "classifier.score(X_dev,y_dev)"
   ]
  },
  {
   "cell_type": "markdown",
   "metadata": {},
   "source": [
    "## Feature Importance List - Top 20"
   ]
  },
  {
   "cell_type": "code",
   "execution_count": 53,
   "metadata": {},
   "outputs": [
    {
     "name": "stdout",
     "output_type": "stream",
     "text": [
      "('population_density', 0.038107178854703147)\n",
      "('occupancy_vacant_rate', 0.02770418171630722)\n",
      "('heating_fuel_coal_coke_rate', 0.02263082269050521)\n",
      "('lon', 0.022240364183156319)\n",
      "('housing_unit_median_gross_rent', 0.019521973176544125)\n",
      "('education_high_school_graduate_rate', 0.016301678149650535)\n",
      "('number_of_years_of_education', 0.016264585436631552)\n",
      "('electricity_consume_total', 0.01541594707953781)\n",
      "('race_asian_rate', 0.015224226141095819)\n",
      "('occupation_agriculture_rate', 0.014533732072643796)\n",
      "('voting_2012_dem_percentage', 0.013979679294780681)\n",
      "('per_capita_income', 0.013690732732964127)\n",
      "('electricity_consume_industrial', 0.013570484307351402)\n",
      "('travel_time_10_19_rate', 0.013518525105643669)\n",
      "('average_household_income', 0.012952429305080417)\n",
      "('heating_design_temperature', 0.012410502982126145)\n",
      "('travel_time_less_than_10_rate', 0.012351416786129023)\n",
      "('travel_time_40_59_rate', 0.012145865917251438)\n",
      "('transportation_car_alone_rate', 0.011945228499702046)\n",
      "('race_white_rate', 0.011820674788407252)\n"
     ]
    }
   ],
   "source": [
    "feature_importances=classifier.feature_importances_\n",
    "features=independent_vars.columns\n",
    "feature_tuples=[(features[i],feature_importances[i]) for i in range(len(features))]\n",
    "sorted_features=sorted(feature_tuples,reverse=True,key=lambda k: k[1])\n",
    "for i in range(0,20):\n",
    "    print(sorted_features[i])"
   ]
  },
  {
   "cell_type": "markdown",
   "metadata": {},
   "source": [
    "### Observations\n",
    "\n",
    "* 80% accuracy on dev set with no hyperparamter tuning\n",
    "* list of important features is similar to feature importance list for the classifier in SolarForest"
   ]
  },
  {
   "cell_type": "markdown",
   "metadata": {
    "collapsed": true
   },
   "source": [
    "# Try Again with Values from Supplemental Info Section"
   ]
  },
  {
   "cell_type": "markdown",
   "metadata": {},
   "source": [
    "## Load/Prep the Data"
   ]
  },
  {
   "cell_type": "code",
   "execution_count": 2,
   "metadata": {
    "collapsed": true
   },
   "outputs": [],
   "source": [
    "import pandas as pd\n",
    "import numpy as np\n",
    "import matplotlib.pyplot as plt\n",
    "from sklearn.ensemble import RandomForestClassifier\n",
    "from sklearn.ensemble import RandomForestRegressor\n",
    "from sklearn.preprocessing import Imputer\n",
    "from sklearn.model_selection import train_test_split\n",
    "from sklearn.model_selection import GridSearchCV"
   ]
  },
  {
   "cell_type": "code",
   "execution_count": 3,
   "metadata": {},
   "outputs": [
    {
     "data": {
      "text/html": [
       "<div>\n",
       "<style>\n",
       "    .dataframe thead tr:only-child th {\n",
       "        text-align: right;\n",
       "    }\n",
       "\n",
       "    .dataframe thead th {\n",
       "        text-align: left;\n",
       "    }\n",
       "\n",
       "    .dataframe tbody tr th {\n",
       "        vertical-align: top;\n",
       "    }\n",
       "</style>\n",
       "<table border=\"1\" class=\"dataframe\">\n",
       "  <thead>\n",
       "    <tr style=\"text-align: right;\">\n",
       "      <th></th>\n",
       "      <th>Field</th>\n",
       "      <th>Description</th>\n",
       "      <th>Unit</th>\n",
       "      <th>Data Type</th>\n",
       "      <th>Formula</th>\n",
       "      <th>Possible Values</th>\n",
       "      <th>Observed Max</th>\n",
       "      <th>Observed Min</th>\n",
       "      <th>Theoretical Min</th>\n",
       "      <th>Theoretical Max</th>\n",
       "      <th>Relevant Feature</th>\n",
       "      <th>Mentioned in Supplemental Info</th>\n",
       "    </tr>\n",
       "  </thead>\n",
       "  <tbody>\n",
       "    <tr>\n",
       "      <th>0</th>\n",
       "      <td>Unnamed: 0</td>\n",
       "      <td>Index</td>\n",
       "      <td>NaN</td>\n",
       "      <td>Numeric</td>\n",
       "      <td>NaN</td>\n",
       "      <td>NaN</td>\n",
       "      <td>72537.000</td>\n",
       "      <td>0</td>\n",
       "      <td>NaN</td>\n",
       "      <td>NaN</td>\n",
       "      <td>0</td>\n",
       "      <td>NaN</td>\n",
       "    </tr>\n",
       "    <tr>\n",
       "      <th>1</th>\n",
       "      <td>tile_count</td>\n",
       "      <td>total number of tiles in census tract</td>\n",
       "      <td>NaN</td>\n",
       "      <td>Numeric</td>\n",
       "      <td>NaN</td>\n",
       "      <td>NaN</td>\n",
       "      <td>4468.000</td>\n",
       "      <td>0</td>\n",
       "      <td>0.0</td>\n",
       "      <td>NaN</td>\n",
       "      <td>0</td>\n",
       "      <td>NaN</td>\n",
       "    </tr>\n",
       "    <tr>\n",
       "      <th>2</th>\n",
       "      <td>solar_system_count</td>\n",
       "      <td>Total number of solar systems in census tract</td>\n",
       "      <td>NaN</td>\n",
       "      <td>Numeric</td>\n",
       "      <td>NaN</td>\n",
       "      <td>NaN</td>\n",
       "      <td>1535.000</td>\n",
       "      <td>0</td>\n",
       "      <td>0.0</td>\n",
       "      <td>NaN</td>\n",
       "      <td>0</td>\n",
       "      <td>NaN</td>\n",
       "    </tr>\n",
       "    <tr>\n",
       "      <th>3</th>\n",
       "      <td>total_panel_area</td>\n",
       "      <td>NaN</td>\n",
       "      <td>NaN</td>\n",
       "      <td>Numeric</td>\n",
       "      <td>NaN</td>\n",
       "      <td>NaN</td>\n",
       "      <td>592031.075</td>\n",
       "      <td>0</td>\n",
       "      <td>0.0</td>\n",
       "      <td>NaN</td>\n",
       "      <td>0</td>\n",
       "      <td>NaN</td>\n",
       "    </tr>\n",
       "    <tr>\n",
       "      <th>4</th>\n",
       "      <td>fips</td>\n",
       "      <td>FIPS identifier for the census tract</td>\n",
       "      <td>NaN</td>\n",
       "      <td>String</td>\n",
       "      <td>NaN</td>\n",
       "      <td>NaN</td>\n",
       "      <td>NaN</td>\n",
       "      <td>NaN</td>\n",
       "      <td>NaN</td>\n",
       "      <td>NaN</td>\n",
       "      <td>0</td>\n",
       "      <td>NaN</td>\n",
       "    </tr>\n",
       "  </tbody>\n",
       "</table>\n",
       "</div>"
      ],
      "text/plain": [
       "                Field                                    Description Unit  \\\n",
       "0          Unnamed: 0                                          Index  NaN   \n",
       "1          tile_count          total number of tiles in census tract  NaN   \n",
       "2  solar_system_count  Total number of solar systems in census tract  NaN   \n",
       "3    total_panel_area                                            NaN  NaN   \n",
       "4                fips           FIPS identifier for the census tract  NaN   \n",
       "\n",
       "  Data Type Formula  Possible Values  Observed Max Observed Min  \\\n",
       "0   Numeric     NaN              NaN     72537.000            0   \n",
       "1   Numeric     NaN              NaN      4468.000            0   \n",
       "2   Numeric     NaN              NaN      1535.000            0   \n",
       "3   Numeric     NaN              NaN    592031.075            0   \n",
       "4    String     NaN              NaN           NaN          NaN   \n",
       "\n",
       "   Theoretical Min Theoretical Max  Relevant Feature  \\\n",
       "0              NaN             NaN                 0   \n",
       "1              0.0             NaN                 0   \n",
       "2              0.0             NaN                 0   \n",
       "3              0.0             NaN                 0   \n",
       "4              NaN             NaN                 0   \n",
       "\n",
       "   Mentioned in Supplemental Info  \n",
       "0                             NaN  \n",
       "1                             NaN  \n",
       "2                             NaN  \n",
       "3                             NaN  \n",
       "4                             NaN  "
      ]
     },
     "execution_count": 3,
     "metadata": {},
     "output_type": "execute_result"
    }
   ],
   "source": [
    "solar=pd.read_csv('../deepsolar_tract.csv',encoding = \"ISO-8859-1\")\n",
    "solar.head()\n",
    "solar_fields=pd.read_csv('../deepsolar fields.csv')\n",
    "solar_fields.head()"
   ]
  },
  {
   "cell_type": "code",
   "execution_count": 5,
   "metadata": {},
   "outputs": [
    {
     "name": "stderr",
     "output_type": "stream",
     "text": [
      "C:\\Users\\noahw\\Anaconda3\\envs\\ipykernel_py3\\lib\\site-packages\\ipykernel_launcher.py:11: SettingWithCopyWarning: \n",
      "A value is trying to be set on a copy of a slice from a DataFrame.\n",
      "Try using .loc[row_indexer,col_indexer] = value instead\n",
      "\n",
      "See the caveats in the documentation: http://pandas.pydata.org/pandas-docs/stable/indexing.html#indexing-view-versus-copy\n",
      "  # This is added back by InteractiveShellApp.init_path()\n"
     ]
    },
    {
     "name": "stdout",
     "output_type": "stream",
     "text": [
      "training data shape:  (50236, 97)\n",
      "classifier train labels shape:  (50236,)\n",
      "regressor train labels shape:  (50236,)\n",
      "test data shape:  (21530, 97)\n",
      "classifier test labels shape:  (21530,)\n",
      "regressor test labels shape:  (21530,)\n"
     ]
    }
   ],
   "source": [
    "#define relevant features and dependent variable\n",
    "\n",
    "\n",
    "features=solar_fields.loc[(solar_fields['Mentioned in Supplemental Info']==1)]['Field'].tolist()\n",
    "all_variables=features+['number_of_solar_system_per_household']\n",
    "\n",
    "solar2=solar[all_variables]\n",
    "\n",
    "#Create binary version of number_of_solar_system_per_household for RF classifier\n",
    "\n",
    "solar2['solar_flag']=solar2['number_of_solar_system_per_household'].apply(lambda x: int(x>0))\n",
    "solar2=solar2.loc[np.isfinite(solar2['number_of_solar_system_per_household'])]\n",
    "\n",
    "#designate independent variable frame\n",
    "independent_vars=solar2.loc[:,~solar2.columns.isin(['number_of_solar_system_per_household','solar_flag'])]\n",
    "X=independent_vars.values\n",
    "yc=solar2['solar_flag'].values\n",
    "yr=solar2['number_of_solar_system_per_household'].values\n",
    "\n",
    "#impute missing values\n",
    "missing_val_imputer=Imputer(strategy='median')\n",
    "X=missing_val_imputer.fit_transform(X)\n",
    "\n",
    "\n",
    "X_train, X_test, yc_train, yc_test,yr_train,yr_test = train_test_split(X, yc,yr, test_size=0.3, random_state=42)\n",
    "\n",
    "\n",
    "\n",
    "print('training data shape: ',X_train.shape)\n",
    "print('classifier train labels shape: ',yc_train.shape)\n",
    "print('regressor train labels shape: ',yr_train.shape)\n",
    "print('test data shape: ',X_test.shape)\n",
    "print('classifier test labels shape: ',yc_test.shape)\n",
    "print('regressor test labels shape: ',yr_test.shape)\n"
   ]
  },
  {
   "cell_type": "markdown",
   "metadata": {},
   "source": [
    "## Run the Classifier"
   ]
  },
  {
   "cell_type": "code",
   "execution_count": 6,
   "metadata": {},
   "outputs": [
    {
     "data": {
      "text/plain": [
       "RandomForestClassifier(bootstrap=True, class_weight=None, criterion='gini',\n",
       "            max_depth=None, max_features='auto', max_leaf_nodes=None,\n",
       "            min_impurity_decrease=0.0, min_impurity_split=None,\n",
       "            min_samples_leaf=1, min_samples_split=2,\n",
       "            min_weight_fraction_leaf=0.0, n_estimators=10, n_jobs=1,\n",
       "            oob_score=False, random_state=None, verbose=0,\n",
       "            warm_start=False)"
      ]
     },
     "execution_count": 6,
     "metadata": {},
     "output_type": "execute_result"
    }
   ],
   "source": [
    "classifier=RandomForestClassifier()\n",
    "classifier.fit(X_train,yc_train)"
   ]
  },
  {
   "cell_type": "code",
   "execution_count": 7,
   "metadata": {},
   "outputs": [
    {
     "data": {
      "text/plain": [
       "0.78857408267533668"
      ]
     },
     "execution_count": 7,
     "metadata": {},
     "output_type": "execute_result"
    }
   ],
   "source": [
    "classifier.score(X_test,yc_test)"
   ]
  },
  {
   "cell_type": "markdown",
   "metadata": {},
   "source": [
    "### Try with GridSearch"
   ]
  },
  {
   "cell_type": "code",
   "execution_count": 40,
   "metadata": {},
   "outputs": [
    {
     "data": {
      "text/plain": [
       "GridSearchCV(cv=3, error_score='raise',\n",
       "       estimator=RandomForestClassifier(bootstrap=True, class_weight=None, criterion='gini',\n",
       "            max_depth=None, max_features='auto', max_leaf_nodes=None,\n",
       "            min_impurity_decrease=0.0, min_impurity_split=None,\n",
       "            min_samples_leaf=1, min_samples_split=2,\n",
       "            min_weight_fraction_leaf=0.0, n_estimators=10, n_jobs=1,\n",
       "            oob_score=False, random_state=None, verbose=0,\n",
       "            warm_start=False),\n",
       "       fit_params=None, iid=True, n_jobs=-1,\n",
       "       param_grid={'max_depth': (15, 20, 30), 'n_estimators': [100, 150, 200]},\n",
       "       pre_dispatch='2*n_jobs', refit=True, return_train_score='warn',\n",
       "       scoring=None, verbose=0)"
      ]
     },
     "execution_count": 40,
     "metadata": {},
     "output_type": "execute_result"
    }
   ],
   "source": [
    "params_dict={'max_depth':(15, 20, 30), 'n_estimators':[100,150,200]}\n",
    "classifier=RandomForestClassifier()\n",
    "clf = GridSearchCV(classifier, params_dict, cv=3,n_jobs=-1)\n",
    "clf.fit(X,yc)"
   ]
  },
  {
   "cell_type": "code",
   "execution_count": 41,
   "metadata": {},
   "outputs": [
    {
     "name": "stderr",
     "output_type": "stream",
     "text": [
      "C:\\Users\\noahw\\Anaconda3\\envs\\ipykernel_py3\\lib\\site-packages\\sklearn\\utils\\deprecation.py:122: FutureWarning: You are accessing a training score ('mean_train_score'), which will not be available by default any more in 0.21. If you need training scores, please set return_train_score=True\n",
      "  warnings.warn(*warn_args, **warn_kwargs)\n",
      "C:\\Users\\noahw\\Anaconda3\\envs\\ipykernel_py3\\lib\\site-packages\\sklearn\\utils\\deprecation.py:122: FutureWarning: You are accessing a training score ('split0_train_score'), which will not be available by default any more in 0.21. If you need training scores, please set return_train_score=True\n",
      "  warnings.warn(*warn_args, **warn_kwargs)\n",
      "C:\\Users\\noahw\\Anaconda3\\envs\\ipykernel_py3\\lib\\site-packages\\sklearn\\utils\\deprecation.py:122: FutureWarning: You are accessing a training score ('split1_train_score'), which will not be available by default any more in 0.21. If you need training scores, please set return_train_score=True\n",
      "  warnings.warn(*warn_args, **warn_kwargs)\n",
      "C:\\Users\\noahw\\Anaconda3\\envs\\ipykernel_py3\\lib\\site-packages\\sklearn\\utils\\deprecation.py:122: FutureWarning: You are accessing a training score ('split2_train_score'), which will not be available by default any more in 0.21. If you need training scores, please set return_train_score=True\n",
      "  warnings.warn(*warn_args, **warn_kwargs)\n",
      "C:\\Users\\noahw\\Anaconda3\\envs\\ipykernel_py3\\lib\\site-packages\\sklearn\\utils\\deprecation.py:122: FutureWarning: You are accessing a training score ('std_train_score'), which will not be available by default any more in 0.21. If you need training scores, please set return_train_score=True\n",
      "  warnings.warn(*warn_args, **warn_kwargs)\n"
     ]
    },
    {
     "data": {
      "text/plain": [
       "{'mean_fit_time': array([  64.03800201,   94.74899475,  130.92498597,   76.42666507,\n",
       "         110.05466549,  141.88466334,   75.21966537,   96.4893326 ,\n",
       "         105.43634653]),\n",
       " 'mean_score_time': array([ 0.63266706,  0.99101329,  1.47533043,  0.73066735,  1.124669  ,\n",
       "         1.48134168,  0.75333563,  0.86800043,  1.05031784]),\n",
       " 'mean_test_score': array([ 0.76976563,  0.77010005,  0.77110331,  0.76826074,  0.76728534,\n",
       "         0.76813533,  0.76526489,  0.76615668,  0.76681158]),\n",
       " 'mean_train_score': array([ 0.94578213,  0.94663908,  0.94668785,  0.98827439,  0.98915921,\n",
       "         0.98922888,  0.99993033,  0.99996516,  0.99996516]),\n",
       " 'param_max_depth': masked_array(data = [15 15 15 20 20 20 30 30 30],\n",
       "              mask = [False False False False False False False False False],\n",
       "        fill_value = ?),\n",
       " 'param_n_estimators': masked_array(data = [100 150 200 100 150 200 100 150 200],\n",
       "              mask = [False False False False False False False False False],\n",
       "        fill_value = ?),\n",
       " 'params': [{'max_depth': 15, 'n_estimators': 100},\n",
       "  {'max_depth': 15, 'n_estimators': 150},\n",
       "  {'max_depth': 15, 'n_estimators': 200},\n",
       "  {'max_depth': 20, 'n_estimators': 100},\n",
       "  {'max_depth': 20, 'n_estimators': 150},\n",
       "  {'max_depth': 20, 'n_estimators': 200},\n",
       "  {'max_depth': 30, 'n_estimators': 100},\n",
       "  {'max_depth': 30, 'n_estimators': 150},\n",
       "  {'max_depth': 30, 'n_estimators': 200}],\n",
       " 'rank_test_score': array([3, 2, 1, 4, 6, 5, 9, 8, 7]),\n",
       " 'split0_test_score': array([ 0.76674191,  0.76757796,  0.76640749,  0.76720174,  0.7665747 ,\n",
       "         0.76527882,  0.76841401,  0.76720174,  0.76770337]),\n",
       " 'split0_train_score': array([ 0.94461165,  0.94684809,  0.94597024,  0.98908954,  0.99048993,\n",
       "         0.99030181,  1.        ,  1.        ,  1.        ]),\n",
       " 'split1_test_score': array([ 0.77230165,  0.77125658,  0.77351392,  0.77046234,  0.76920826,\n",
       "         0.76950088,  0.7665747 ,  0.76761976,  0.76741075]),\n",
       " 'split1_train_score': array([ 0.94406822,  0.94456985,  0.94423543,  0.98576624,  0.9867904 ,\n",
       "         0.98656049,  0.99987459,  0.99991639,  0.99989549]),\n",
       " 'split2_test_score': array([ 0.77025332,  0.7714656 ,  0.77338851,  0.76711813,  0.76607307,\n",
       "         0.76962629,  0.76080595,  0.76364852,  0.76532063]),\n",
       " 'split2_train_score': array([ 0.9486665 ,  0.94849929,  0.94985787,  0.98996739,  0.99019731,\n",
       "         0.99082435,  0.99991639,  0.9999791 ,  1.        ]),\n",
       " 'std_fit_time': array([ 1.51112662,  0.82177945,  0.80254452,  1.2946836 ,  1.78505404,\n",
       "         0.95019066,  0.91876765,  3.45908244,  0.48547115]),\n",
       " 'std_score_time': array([ 0.04634961,  0.03238756,  0.16081932,  0.05367986,  0.11358555,\n",
       "         0.06318799,  0.03936572,  0.01870886,  0.04907327]),\n",
       " 'std_test_score': array([ 0.0022958 ,  0.00178542,  0.00332084,  0.00155714,  0.00137504,\n",
       "         0.0020205 ,  0.00324113,  0.00178172,  0.00106101]),\n",
       " 'std_train_score': array([  2.05159138e-03,   1.61097986e-03,   2.35077006e-03,\n",
       "          1.80937824e-03,   1.67925598e-03,   1.89886049e-03,\n",
       "          5.21369087e-05,   3.55253150e-05,   4.92647480e-05])}"
      ]
     },
     "execution_count": 41,
     "metadata": {},
     "output_type": "execute_result"
    }
   ],
   "source": [
    "clf.cv_results_"
   ]
  },
  {
   "cell_type": "code",
   "execution_count": 42,
   "metadata": {},
   "outputs": [
    {
     "data": {
      "text/plain": [
       "RandomForestClassifier(bootstrap=True, class_weight=None, criterion='gini',\n",
       "            max_depth=15, max_features='auto', max_leaf_nodes=None,\n",
       "            min_impurity_decrease=0.0, min_impurity_split=None,\n",
       "            min_samples_leaf=1, min_samples_split=2,\n",
       "            min_weight_fraction_leaf=0.0, n_estimators=200, n_jobs=1,\n",
       "            oob_score=False, random_state=None, verbose=0,\n",
       "            warm_start=False)"
      ]
     },
     "execution_count": 42,
     "metadata": {},
     "output_type": "execute_result"
    }
   ],
   "source": [
    "clf.best_estimator_"
   ]
  },
  {
   "cell_type": "code",
   "execution_count": 43,
   "metadata": {},
   "outputs": [
    {
     "data": {
      "text/plain": [
       "0.77110330797313487"
      ]
     },
     "execution_count": 43,
     "metadata": {},
     "output_type": "execute_result"
    }
   ],
   "source": [
    "clf.best_score_"
   ]
  },
  {
   "cell_type": "code",
   "execution_count": 12,
   "metadata": {},
   "outputs": [
    {
     "data": {
      "text/plain": [
       "RandomForestClassifier(bootstrap=True, class_weight=None, criterion='gini',\n",
       "            max_depth=15, max_features='auto', max_leaf_nodes=None,\n",
       "            min_impurity_decrease=0.0, min_impurity_split=None,\n",
       "            min_samples_leaf=1, min_samples_split=2,\n",
       "            min_weight_fraction_leaf=0.0, n_estimators=200, n_jobs=-1,\n",
       "            oob_score=False, random_state=None, verbose=0,\n",
       "            warm_start=False)"
      ]
     },
     "execution_count": 12,
     "metadata": {},
     "output_type": "execute_result"
    }
   ],
   "source": [
    "classifier=RandomForestClassifier(max_depth=15,n_estimators=200, n_jobs=-1)\n",
    "classifier.fit(X_train,yc_train)"
   ]
  },
  {
   "cell_type": "code",
   "execution_count": 13,
   "metadata": {},
   "outputs": [
    {
     "data": {
      "text/plain": [
       "0.81007895959126797"
      ]
     },
     "execution_count": 13,
     "metadata": {},
     "output_type": "execute_result"
    }
   ],
   "source": [
    "classifier.score(X_test,yc_test)"
   ]
  },
  {
   "cell_type": "code",
   "execution_count": 14,
   "metadata": {},
   "outputs": [
    {
     "name": "stdout",
     "output_type": "stream",
     "text": [
      "('population_density', 0.082371804053878298)\n",
      "('heating_fuel_housing_unit_count', 0.035031509309243591)\n",
      "('race_asian_rate', 0.027140577303938134)\n",
      "('housing_unit_median_value', 0.025006715476245001)\n",
      "('occupancy_vacant_rate', 0.023619916748656565)\n",
      "('daily_solar_radiation', 0.023169724684760785)\n",
      "('heating_fuel_coal_coke', 0.020340427680199977)\n",
      "('housing_unit_median_gross_rent', 0.019417423133018016)\n",
      "('relative_humidity', 0.018114988880803339)\n",
      "('heating_fuel_gas', 0.017656120357699968)\n",
      "('average_household_income', 0.015430440620901032)\n",
      "('education_high_school_graduate_rate', 0.014970768580587896)\n",
      "('number_of_years_of_education', 0.01457771882572215)\n",
      "('heating_fuel_electricity', 0.014551685727852879)\n",
      "('race_white_rate', 0.014435951709916952)\n",
      "('education_bachelor_rate', 0.014281799690752979)\n",
      "('mortgage_with_rate', 0.013547239530027797)\n",
      "('travel_time_less_than_10_rate', 0.013347216996470335)\n",
      "('travel_time_average', 0.013344409332333346)\n",
      "('transportation_public_rate', 0.013264758818592355)\n"
     ]
    }
   ],
   "source": [
    "feature_importances=classifier.feature_importances_\n",
    "features=independent_vars.columns\n",
    "feature_tuples=[(features[i],feature_importances[i]) for i in range(len(features))]\n",
    "sorted_features=sorted(feature_tuples,reverse=True,key=lambda k: k[1])\n",
    "for i in range(0,20):\n",
    "    print(sorted_features[i])"
   ]
  },
  {
   "cell_type": "markdown",
   "metadata": {},
   "source": [
    "# Train the Regressor"
   ]
  },
  {
   "cell_type": "code",
   "execution_count": 44,
   "metadata": {},
   "outputs": [
    {
     "data": {
      "text/plain": [
       "GridSearchCV(cv=3, error_score='raise',\n",
       "       estimator=RandomForestRegressor(bootstrap=True, criterion='mse', max_depth=None,\n",
       "           max_features='auto', max_leaf_nodes=None,\n",
       "           min_impurity_decrease=0.0, min_impurity_split=None,\n",
       "           min_samples_leaf=1, min_samples_split=2,\n",
       "           min_weight_fraction_leaf=0.0, n_estimators=10, n_jobs=1,\n",
       "           oob_score=False, random_state=None, verbose=0, warm_start=False),\n",
       "       fit_params=None, iid=True, n_jobs=-1,\n",
       "       param_grid={'max_depth': (None, 10, 15), 'n_estimators': [100, 150, 200]},\n",
       "       pre_dispatch='2*n_jobs', refit=True, return_train_score='warn',\n",
       "       scoring=None, verbose=0)"
      ]
     },
     "execution_count": 44,
     "metadata": {},
     "output_type": "execute_result"
    }
   ],
   "source": [
    "params_dict={'max_depth':(None, 10, 15), 'n_estimators':[100,150,200]}\n",
    "regressor=RandomForestRegressor()\n",
    "clf_r = GridSearchCV(regressor, params_dict, cv=3,n_jobs=-1)\n",
    "clf_r.fit(X,yr)"
   ]
  },
  {
   "cell_type": "code",
   "execution_count": 46,
   "metadata": {},
   "outputs": [
    {
     "data": {
      "text/plain": [
       "RandomForestRegressor(bootstrap=True, criterion='mse', max_depth=15,\n",
       "           max_features='auto', max_leaf_nodes=None,\n",
       "           min_impurity_decrease=0.0, min_impurity_split=None,\n",
       "           min_samples_leaf=1, min_samples_split=2,\n",
       "           min_weight_fraction_leaf=0.0, n_estimators=150, n_jobs=1,\n",
       "           oob_score=False, random_state=None, verbose=0, warm_start=False)"
      ]
     },
     "execution_count": 46,
     "metadata": {},
     "output_type": "execute_result"
    }
   ],
   "source": [
    "clf_r.best_estimator_"
   ]
  },
  {
   "cell_type": "code",
   "execution_count": 47,
   "metadata": {},
   "outputs": [
    {
     "data": {
      "text/plain": [
       "0.16963068462854103"
      ]
     },
     "execution_count": 47,
     "metadata": {},
     "output_type": "execute_result"
    }
   ],
   "source": [
    "clf_r.best_score_"
   ]
  },
  {
   "cell_type": "code",
   "execution_count": 8,
   "metadata": {},
   "outputs": [
    {
     "data": {
      "text/plain": [
       "RandomForestRegressor(bootstrap=True, criterion='mse', max_depth=15,\n",
       "           max_features='auto', max_leaf_nodes=None,\n",
       "           min_impurity_decrease=0.0, min_impurity_split=None,\n",
       "           min_samples_leaf=1, min_samples_split=2,\n",
       "           min_weight_fraction_leaf=0.0, n_estimators=150, n_jobs=1,\n",
       "           oob_score=False, random_state=None, verbose=0, warm_start=False)"
      ]
     },
     "execution_count": 8,
     "metadata": {},
     "output_type": "execute_result"
    }
   ],
   "source": [
    "regressor=RandomForestRegressor(max_depth=15,n_estimators=150,n_jobs=-1)\n",
    "regressor.fit(X_train,yr_train)"
   ]
  },
  {
   "cell_type": "code",
   "execution_count": 9,
   "metadata": {},
   "outputs": [
    {
     "data": {
      "text/plain": [
       "0.44434322263741666"
      ]
     },
     "execution_count": 9,
     "metadata": {},
     "output_type": "execute_result"
    }
   ],
   "source": [
    "regressor.score(X_test,yr_test)"
   ]
  },
  {
   "cell_type": "markdown",
   "metadata": {},
   "source": [
    "## Feature Importances"
   ]
  },
  {
   "cell_type": "code",
   "execution_count": 11,
   "metadata": {},
   "outputs": [
    {
     "name": "stdout",
     "output_type": "stream",
     "text": [
      "('age_more_than_85_rate', 0.11642611854656532)\n",
      "('daily_solar_radiation', 0.10586856316714562)\n",
      "('age_25_34_rate', 0.077091593721001772)\n",
      "('occupation_manufacturing_rate', 0.072977960182347201)\n",
      "('heating_fuel_housing_unit_count', 0.065991014442417728)\n",
      "('occupancy_owner_rate', 0.049155040732826512)\n",
      "('education_high_school_graduate_rate', 0.03762831556129953)\n",
      "('population_density', 0.029652075736730611)\n",
      "('occupation_construction_rate', 0.029447385505135218)\n",
      "('average_household_income', 0.022477050653042677)\n",
      "('frost_days', 0.014519909074967587)\n",
      "('relative_humidity', 0.014031481288856961)\n",
      "('net_metering', 0.013601183241591075)\n",
      "('voting_2016_gop_percentage', 0.0129401024253794)\n",
      "('heating_fuel_electricity', 0.012614881116415792)\n",
      "('household_type_family_rate', 0.012346258444754211)\n",
      "('education_college_rate', 0.011147643647710466)\n",
      "('occupancy_vacant_rate', 0.010407835619004668)\n",
      "('earth_temperature_amplitude', 0.0098384891444286155)\n",
      "('avg_electricity_retail_rate', 0.0095585214218685873)\n"
     ]
    }
   ],
   "source": [
    "feature_importances=regressor.feature_importances_\n",
    "features=independent_vars.columns\n",
    "feature_tuples=[(features[i],feature_importances[i]) for i in range(len(features))]\n",
    "sorted_features=sorted(feature_tuples,reverse=True,key=lambda k: k[1])\n",
    "for i in range(0,20):\n",
    "    print(sorted_features[i])"
   ]
  },
  {
   "cell_type": "markdown",
   "metadata": {},
   "source": [
    "# Put it all Together"
   ]
  },
  {
   "cell_type": "code",
   "execution_count": 50,
   "metadata": {},
   "outputs": [
    {
     "data": {
      "text/plain": [
       "RandomForestClassifier(bootstrap=True, class_weight=None, criterion='gini',\n",
       "            max_depth=15, max_features='auto', max_leaf_nodes=None,\n",
       "            min_impurity_decrease=0.0, min_impurity_split=None,\n",
       "            min_samples_leaf=1, min_samples_split=2,\n",
       "            min_weight_fraction_leaf=0.0, n_estimators=200, n_jobs=-1,\n",
       "            oob_score=False, random_state=None, verbose=0,\n",
       "            warm_start=False)"
      ]
     },
     "execution_count": 50,
     "metadata": {},
     "output_type": "execute_result"
    }
   ],
   "source": [
    "classifier=RandomForestClassifier(max_depth=15,n_estimators=200, n_jobs=-1)\n",
    "classifier.fit(X_train,yc_train)"
   ]
  },
  {
   "cell_type": "code",
   "execution_count": 51,
   "metadata": {},
   "outputs": [
    {
     "data": {
      "text/plain": [
       "0.81133302368787741"
      ]
     },
     "execution_count": 51,
     "metadata": {},
     "output_type": "execute_result"
    }
   ],
   "source": [
    "classifier.score(X_test,yc_test)"
   ]
  },
  {
   "cell_type": "code",
   "execution_count": 62,
   "metadata": {},
   "outputs": [
    {
     "data": {
      "text/plain": [
       "array([0, 1, 1, 0, 1, 0, 1, 0, 0, 1, 1, 1, 1, 0, 1, 1, 1, 0, 1, 1, 1, 1, 1,\n",
       "       1, 1, 1, 1, 0, 0, 1, 1, 1, 1, 1, 1, 1, 1, 1, 1, 1, 1, 1, 1, 1, 1, 1,\n",
       "       1, 1, 1, 1, 1, 1, 1, 1, 1, 1, 1, 1, 1, 1, 1, 1, 1, 1, 1, 1, 1, 1, 1,\n",
       "       1, 1, 1, 1, 1, 1, 1, 1, 1, 1, 1, 1, 1, 1, 1, 0, 1, 1, 1, 1, 1, 1, 1,\n",
       "       1, 1, 1, 1, 1, 1, 1, 1], dtype=int64)"
      ]
     },
     "execution_count": 62,
     "metadata": {},
     "output_type": "execute_result"
    }
   ],
   "source": [
    "classifier_preds=classifier.predict(X)\n",
    "classifier_preds[0:100]"
   ]
  },
  {
   "cell_type": "code",
   "execution_count": 63,
   "metadata": {},
   "outputs": [
    {
     "data": {
      "text/plain": [
       "array([ 0.00114169,  0.0014949 ,  0.00144492,  0.00159351,  0.00138759,\n",
       "        0.00113158,  0.00272081,  0.00113158,  0.00109523,  0.0019542 ,\n",
       "        0.0014949 ,  0.0014949 ,  0.00152301,  0.0012744 ,  0.00119131,\n",
       "        0.0014949 ,  0.00113512,  0.00112879,  0.00115699,  0.0014949 ,\n",
       "        0.00152301,  0.0014949 ,  0.00321333,  0.0014949 ,  0.0019942 ,\n",
       "        0.0014949 ,  0.00175004,  0.00112353,  0.0011263 ,  0.01416651,\n",
       "        0.00748623,  0.00747806,  0.01461936,  0.0086219 ,  0.00542014,\n",
       "        0.01203697,  0.02050741,  0.01121039,  0.00745423,  0.01468637,\n",
       "        0.00780877,  0.01718609,  0.00823749,  0.00537207,  0.01747512,\n",
       "        0.01221843,  0.00588148,  0.02147911,  0.01045148,  0.00524687,\n",
       "        0.00762797,  0.00847698,  0.01284661,  0.02334697,  0.01394182,\n",
       "        0.00696577,  0.00932254,  0.00280443,  0.00520237,  0.0073258 ,\n",
       "        0.00764751,  0.00723688,  0.00448796,  0.00703137,  0.02156461,\n",
       "        0.00480691,  0.01105882,  0.00792109,  0.02423347,  0.01828897,\n",
       "        0.00843842,  0.0236719 ,  0.00952294,  0.00631731,  0.01202762,\n",
       "        0.00799485,  0.00724708,  0.00775759,  0.02361258,  0.01155034,\n",
       "        0.01103923,  0.00904595,  0.00804852,  0.00526552,  0.00587764,\n",
       "        0.0066087 ,  0.00868591,  0.00913163,  0.00777984,  0.00995688,\n",
       "        0.01418371,  0.01102213,  0.0065995 ,  0.01337378,  0.00826823,\n",
       "        0.01199106,  0.01214404,  0.02212552,  0.01429034,  0.01826889])"
      ]
     },
     "execution_count": 63,
     "metadata": {},
     "output_type": "execute_result"
    }
   ],
   "source": [
    "regressor_preds=regressor.predict(X)\n",
    "regressor_preds[0:100]"
   ]
  },
  {
   "cell_type": "code",
   "execution_count": 64,
   "metadata": {},
   "outputs": [
    {
     "data": {
      "text/plain": [
       "array([ 0.        ,  0.0014949 ,  0.00144492,  0.        ,  0.00138759,\n",
       "        0.        ,  0.00272081,  0.        ,  0.        ,  0.0019542 ,\n",
       "        0.0014949 ,  0.0014949 ,  0.00152301,  0.        ,  0.00119131,\n",
       "        0.0014949 ,  0.00113512,  0.        ,  0.00115699,  0.0014949 ,\n",
       "        0.00152301,  0.0014949 ,  0.00321333,  0.0014949 ,  0.0019942 ,\n",
       "        0.0014949 ,  0.00175004,  0.        ,  0.        ,  0.01416651,\n",
       "        0.00748623,  0.00747806,  0.01461936,  0.0086219 ,  0.00542014,\n",
       "        0.01203697,  0.02050741,  0.01121039,  0.00745423,  0.01468637,\n",
       "        0.00780877,  0.01718609,  0.00823749,  0.00537207,  0.01747512,\n",
       "        0.01221843,  0.00588148,  0.02147911,  0.01045148,  0.00524687,\n",
       "        0.00762797,  0.00847698,  0.01284661,  0.02334697,  0.01394182,\n",
       "        0.00696577,  0.00932254,  0.00280443,  0.00520237,  0.0073258 ,\n",
       "        0.00764751,  0.00723688,  0.00448796,  0.00703137,  0.02156461,\n",
       "        0.00480691,  0.01105882,  0.00792109,  0.02423347,  0.01828897,\n",
       "        0.00843842,  0.0236719 ,  0.00952294,  0.00631731,  0.01202762,\n",
       "        0.00799485,  0.00724708,  0.00775759,  0.02361258,  0.01155034,\n",
       "        0.01103923,  0.00904595,  0.00804852,  0.00526552,  0.        ,\n",
       "        0.0066087 ,  0.00868591,  0.00913163,  0.00777984,  0.00995688,\n",
       "        0.01418371,  0.01102213,  0.0065995 ,  0.01337378,  0.00826823,\n",
       "        0.01199106,  0.01214404,  0.02212552,  0.01429034,  0.01826889])"
      ]
     },
     "execution_count": 64,
     "metadata": {},
     "output_type": "execute_result"
    }
   ],
   "source": [
    "final_preds=regressor_preds*classifier_preds\n",
    "final_preds[0:100]"
   ]
  },
  {
   "cell_type": "code",
   "execution_count": 56,
   "metadata": {
    "collapsed": true
   },
   "outputs": [],
   "source": [
    "from sklearn.metrics import r2_score"
   ]
  },
  {
   "cell_type": "code",
   "execution_count": 57,
   "metadata": {},
   "outputs": [
    {
     "data": {
      "text/plain": [
       "0.46463879012921439"
      ]
     },
     "execution_count": 57,
     "metadata": {},
     "output_type": "execute_result"
    }
   ],
   "source": [
    "r2_score(yr_test,final_preds)"
   ]
  },
  {
   "cell_type": "code",
   "execution_count": null,
   "metadata": {
    "collapsed": true
   },
   "outputs": [],
   "source": []
  },
  {
   "cell_type": "code",
   "execution_count": 65,
   "metadata": {},
   "outputs": [
    {
     "data": {
      "text/html": [
       "<div>\n",
       "<style>\n",
       "    .dataframe thead tr:only-child th {\n",
       "        text-align: right;\n",
       "    }\n",
       "\n",
       "    .dataframe thead th {\n",
       "        text-align: left;\n",
       "    }\n",
       "\n",
       "    .dataframe tbody tr th {\n",
       "        vertical-align: top;\n",
       "    }\n",
       "</style>\n",
       "<table border=\"1\" class=\"dataframe\">\n",
       "  <thead>\n",
       "    <tr style=\"text-align: right;\">\n",
       "      <th></th>\n",
       "      <th>average_household_income</th>\n",
       "      <th>gini_index</th>\n",
       "      <th>heating_fuel_coal_coke</th>\n",
       "      <th>heating_fuel_electricity</th>\n",
       "      <th>heating_fuel_fuel_oil_kerosene</th>\n",
       "      <th>heating_fuel_gas</th>\n",
       "      <th>heating_fuel_housing_unit_count</th>\n",
       "      <th>heating_fuel_none</th>\n",
       "      <th>heating_fuel_other</th>\n",
       "      <th>heating_fuel_solar</th>\n",
       "      <th>...</th>\n",
       "      <th>net_metering</th>\n",
       "      <th>feedin_tariff</th>\n",
       "      <th>cooperate_tax</th>\n",
       "      <th>property_tax</th>\n",
       "      <th>sales_tax</th>\n",
       "      <th>rebate</th>\n",
       "      <th>avg_electricity_retail_rate</th>\n",
       "      <th>number_of_solar_system_per_household</th>\n",
       "      <th>fips</th>\n",
       "      <th>predicted_solar</th>\n",
       "    </tr>\n",
       "  </thead>\n",
       "  <tbody>\n",
       "    <tr>\n",
       "      <th>0</th>\n",
       "      <td>70352.78987</td>\n",
       "      <td>0.3490</td>\n",
       "      <td>200</td>\n",
       "      <td>448</td>\n",
       "      <td>98</td>\n",
       "      <td>1720</td>\n",
       "      <td>2527</td>\n",
       "      <td>10</td>\n",
       "      <td>51</td>\n",
       "      <td>0</td>\n",
       "      <td>...</td>\n",
       "      <td>34</td>\n",
       "      <td>0</td>\n",
       "      <td>0</td>\n",
       "      <td>25</td>\n",
       "      <td>12</td>\n",
       "      <td>0</td>\n",
       "      <td>9.46</td>\n",
       "      <td>0.000000</td>\n",
       "      <td>27145011200</td>\n",
       "      <td>0.000000</td>\n",
       "    </tr>\n",
       "    <tr>\n",
       "      <th>1</th>\n",
       "      <td>61727.08520</td>\n",
       "      <td>0.4074</td>\n",
       "      <td>20</td>\n",
       "      <td>379</td>\n",
       "      <td>17</td>\n",
       "      <td>1799</td>\n",
       "      <td>2230</td>\n",
       "      <td>0</td>\n",
       "      <td>15</td>\n",
       "      <td>0</td>\n",
       "      <td>...</td>\n",
       "      <td>34</td>\n",
       "      <td>0</td>\n",
       "      <td>0</td>\n",
       "      <td>25</td>\n",
       "      <td>12</td>\n",
       "      <td>0</td>\n",
       "      <td>9.46</td>\n",
       "      <td>0.006726</td>\n",
       "      <td>27145011301</td>\n",
       "      <td>0.001495</td>\n",
       "    </tr>\n",
       "    <tr>\n",
       "      <th>2</th>\n",
       "      <td>71496.88658</td>\n",
       "      <td>0.3926</td>\n",
       "      <td>69</td>\n",
       "      <td>440</td>\n",
       "      <td>45</td>\n",
       "      <td>2098</td>\n",
       "      <td>2698</td>\n",
       "      <td>29</td>\n",
       "      <td>17</td>\n",
       "      <td>0</td>\n",
       "      <td>...</td>\n",
       "      <td>34</td>\n",
       "      <td>0</td>\n",
       "      <td>0</td>\n",
       "      <td>25</td>\n",
       "      <td>12</td>\n",
       "      <td>0</td>\n",
       "      <td>9.46</td>\n",
       "      <td>0.001112</td>\n",
       "      <td>27145011302</td>\n",
       "      <td>0.001445</td>\n",
       "    </tr>\n",
       "    <tr>\n",
       "      <th>3</th>\n",
       "      <td>86840.15275</td>\n",
       "      <td>0.3949</td>\n",
       "      <td>188</td>\n",
       "      <td>442</td>\n",
       "      <td>61</td>\n",
       "      <td>1113</td>\n",
       "      <td>1833</td>\n",
       "      <td>13</td>\n",
       "      <td>16</td>\n",
       "      <td>0</td>\n",
       "      <td>...</td>\n",
       "      <td>34</td>\n",
       "      <td>0</td>\n",
       "      <td>0</td>\n",
       "      <td>25</td>\n",
       "      <td>12</td>\n",
       "      <td>0</td>\n",
       "      <td>9.46</td>\n",
       "      <td>0.000000</td>\n",
       "      <td>27145011304</td>\n",
       "      <td>0.000000</td>\n",
       "    </tr>\n",
       "    <tr>\n",
       "      <th>4</th>\n",
       "      <td>89135.31560</td>\n",
       "      <td>0.4463</td>\n",
       "      <td>96</td>\n",
       "      <td>497</td>\n",
       "      <td>47</td>\n",
       "      <td>1202</td>\n",
       "      <td>1917</td>\n",
       "      <td>31</td>\n",
       "      <td>44</td>\n",
       "      <td>0</td>\n",
       "      <td>...</td>\n",
       "      <td>34</td>\n",
       "      <td>0</td>\n",
       "      <td>0</td>\n",
       "      <td>25</td>\n",
       "      <td>12</td>\n",
       "      <td>0</td>\n",
       "      <td>9.46</td>\n",
       "      <td>0.002087</td>\n",
       "      <td>27145011400</td>\n",
       "      <td>0.001388</td>\n",
       "    </tr>\n",
       "    <tr>\n",
       "      <th>5</th>\n",
       "      <td>62225.90361</td>\n",
       "      <td>0.3847</td>\n",
       "      <td>72</td>\n",
       "      <td>759</td>\n",
       "      <td>81</td>\n",
       "      <td>1695</td>\n",
       "      <td>2656</td>\n",
       "      <td>45</td>\n",
       "      <td>4</td>\n",
       "      <td>0</td>\n",
       "      <td>...</td>\n",
       "      <td>34</td>\n",
       "      <td>0</td>\n",
       "      <td>0</td>\n",
       "      <td>25</td>\n",
       "      <td>12</td>\n",
       "      <td>0</td>\n",
       "      <td>9.46</td>\n",
       "      <td>0.000000</td>\n",
       "      <td>27145011500</td>\n",
       "      <td>0.000000</td>\n",
       "    </tr>\n",
       "    <tr>\n",
       "      <th>6</th>\n",
       "      <td>41068.93617</td>\n",
       "      <td>0.7166</td>\n",
       "      <td>3</td>\n",
       "      <td>222</td>\n",
       "      <td>5</td>\n",
       "      <td>193</td>\n",
       "      <td>470</td>\n",
       "      <td>16</td>\n",
       "      <td>31</td>\n",
       "      <td>0</td>\n",
       "      <td>...</td>\n",
       "      <td>34</td>\n",
       "      <td>0</td>\n",
       "      <td>0</td>\n",
       "      <td>25</td>\n",
       "      <td>12</td>\n",
       "      <td>0</td>\n",
       "      <td>9.46</td>\n",
       "      <td>0.004255</td>\n",
       "      <td>27145011600</td>\n",
       "      <td>0.002721</td>\n",
       "    </tr>\n",
       "    <tr>\n",
       "      <th>7</th>\n",
       "      <td>74073.83367</td>\n",
       "      <td>0.4317</td>\n",
       "      <td>108</td>\n",
       "      <td>382</td>\n",
       "      <td>190</td>\n",
       "      <td>783</td>\n",
       "      <td>1479</td>\n",
       "      <td>3</td>\n",
       "      <td>13</td>\n",
       "      <td>0</td>\n",
       "      <td>...</td>\n",
       "      <td>34</td>\n",
       "      <td>0</td>\n",
       "      <td>0</td>\n",
       "      <td>25</td>\n",
       "      <td>12</td>\n",
       "      <td>0</td>\n",
       "      <td>9.46</td>\n",
       "      <td>0.000000</td>\n",
       "      <td>27145010500</td>\n",
       "      <td>0.000000</td>\n",
       "    </tr>\n",
       "    <tr>\n",
       "      <th>8</th>\n",
       "      <td>69412.19243</td>\n",
       "      <td>0.3824</td>\n",
       "      <td>241</td>\n",
       "      <td>534</td>\n",
       "      <td>156</td>\n",
       "      <td>1735</td>\n",
       "      <td>2723</td>\n",
       "      <td>20</td>\n",
       "      <td>37</td>\n",
       "      <td>0</td>\n",
       "      <td>...</td>\n",
       "      <td>34</td>\n",
       "      <td>0</td>\n",
       "      <td>0</td>\n",
       "      <td>25</td>\n",
       "      <td>12</td>\n",
       "      <td>0</td>\n",
       "      <td>9.46</td>\n",
       "      <td>0.000000</td>\n",
       "      <td>27145011100</td>\n",
       "      <td>0.000000</td>\n",
       "    </tr>\n",
       "    <tr>\n",
       "      <th>9</th>\n",
       "      <td>82502.40707</td>\n",
       "      <td>0.3588</td>\n",
       "      <td>18</td>\n",
       "      <td>734</td>\n",
       "      <td>27</td>\n",
       "      <td>2419</td>\n",
       "      <td>3282</td>\n",
       "      <td>29</td>\n",
       "      <td>55</td>\n",
       "      <td>0</td>\n",
       "      <td>...</td>\n",
       "      <td>34</td>\n",
       "      <td>0</td>\n",
       "      <td>0</td>\n",
       "      <td>25</td>\n",
       "      <td>12</td>\n",
       "      <td>0</td>\n",
       "      <td>9.46</td>\n",
       "      <td>0.002742</td>\n",
       "      <td>27145010102</td>\n",
       "      <td>0.001954</td>\n",
       "    </tr>\n",
       "  </tbody>\n",
       "</table>\n",
       "<p>10 rows × 100 columns</p>\n",
       "</div>"
      ],
      "text/plain": [
       "   average_household_income  gini_index  heating_fuel_coal_coke  \\\n",
       "0               70352.78987      0.3490                     200   \n",
       "1               61727.08520      0.4074                      20   \n",
       "2               71496.88658      0.3926                      69   \n",
       "3               86840.15275      0.3949                     188   \n",
       "4               89135.31560      0.4463                      96   \n",
       "5               62225.90361      0.3847                      72   \n",
       "6               41068.93617      0.7166                       3   \n",
       "7               74073.83367      0.4317                     108   \n",
       "8               69412.19243      0.3824                     241   \n",
       "9               82502.40707      0.3588                      18   \n",
       "\n",
       "   heating_fuel_electricity  heating_fuel_fuel_oil_kerosene  heating_fuel_gas  \\\n",
       "0                       448                              98              1720   \n",
       "1                       379                              17              1799   \n",
       "2                       440                              45              2098   \n",
       "3                       442                              61              1113   \n",
       "4                       497                              47              1202   \n",
       "5                       759                              81              1695   \n",
       "6                       222                               5               193   \n",
       "7                       382                             190               783   \n",
       "8                       534                             156              1735   \n",
       "9                       734                              27              2419   \n",
       "\n",
       "   heating_fuel_housing_unit_count  heating_fuel_none  heating_fuel_other  \\\n",
       "0                             2527                 10                  51   \n",
       "1                             2230                  0                  15   \n",
       "2                             2698                 29                  17   \n",
       "3                             1833                 13                  16   \n",
       "4                             1917                 31                  44   \n",
       "5                             2656                 45                   4   \n",
       "6                              470                 16                  31   \n",
       "7                             1479                  3                  13   \n",
       "8                             2723                 20                  37   \n",
       "9                             3282                 29                  55   \n",
       "\n",
       "   heating_fuel_solar       ...         net_metering  feedin_tariff  \\\n",
       "0                   0       ...                   34              0   \n",
       "1                   0       ...                   34              0   \n",
       "2                   0       ...                   34              0   \n",
       "3                   0       ...                   34              0   \n",
       "4                   0       ...                   34              0   \n",
       "5                   0       ...                   34              0   \n",
       "6                   0       ...                   34              0   \n",
       "7                   0       ...                   34              0   \n",
       "8                   0       ...                   34              0   \n",
       "9                   0       ...                   34              0   \n",
       "\n",
       "   cooperate_tax  property_tax  sales_tax  rebate  \\\n",
       "0              0            25         12       0   \n",
       "1              0            25         12       0   \n",
       "2              0            25         12       0   \n",
       "3              0            25         12       0   \n",
       "4              0            25         12       0   \n",
       "5              0            25         12       0   \n",
       "6              0            25         12       0   \n",
       "7              0            25         12       0   \n",
       "8              0            25         12       0   \n",
       "9              0            25         12       0   \n",
       "\n",
       "   avg_electricity_retail_rate  number_of_solar_system_per_household  \\\n",
       "0                         9.46                              0.000000   \n",
       "1                         9.46                              0.006726   \n",
       "2                         9.46                              0.001112   \n",
       "3                         9.46                              0.000000   \n",
       "4                         9.46                              0.002087   \n",
       "5                         9.46                              0.000000   \n",
       "6                         9.46                              0.004255   \n",
       "7                         9.46                              0.000000   \n",
       "8                         9.46                              0.000000   \n",
       "9                         9.46                              0.002742   \n",
       "\n",
       "          fips  predicted_solar  \n",
       "0  27145011200         0.000000  \n",
       "1  27145011301         0.001495  \n",
       "2  27145011302         0.001445  \n",
       "3  27145011304         0.000000  \n",
       "4  27145011400         0.001388  \n",
       "5  27145011500         0.000000  \n",
       "6  27145011600         0.002721  \n",
       "7  27145010500         0.000000  \n",
       "8  27145011100         0.000000  \n",
       "9  27145010102         0.001954  \n",
       "\n",
       "[10 rows x 100 columns]"
      ]
     },
     "execution_count": 65,
     "metadata": {},
     "output_type": "execute_result"
    }
   ],
   "source": [
    "solar_full=solar[features].replace([np.inf,' '],np.nan)\n",
    "solar_full['number_of_solar_system_per_household']=solar['number_of_solar_system_per_household'].replace(np.inf,np.nan)\n",
    "solar_full['fips']=solar['fips']\n",
    "solar_full=solar_full.loc[np.isfinite(solar_full['number_of_solar_system_per_household'])]\n",
    "solar_full=solar_full.assign(predicted_solar=final_preds)\n",
    "solar_full.head(10)"
   ]
  },
  {
   "cell_type": "code",
   "execution_count": 66,
   "metadata": {},
   "outputs": [
    {
     "data": {
      "text/html": [
       "<div>\n",
       "<style>\n",
       "    .dataframe thead tr:only-child th {\n",
       "        text-align: right;\n",
       "    }\n",
       "\n",
       "    .dataframe thead th {\n",
       "        text-align: left;\n",
       "    }\n",
       "\n",
       "    .dataframe tbody tr th {\n",
       "        vertical-align: top;\n",
       "    }\n",
       "</style>\n",
       "<table border=\"1\" class=\"dataframe\">\n",
       "  <thead>\n",
       "    <tr style=\"text-align: right;\">\n",
       "      <th></th>\n",
       "      <th>number_of_solar_system_per_household</th>\n",
       "      <th>average_household_income</th>\n",
       "      <th>gini_index</th>\n",
       "      <th>heating_fuel_coal_coke</th>\n",
       "      <th>heating_fuel_electricity</th>\n",
       "      <th>heating_fuel_fuel_oil_kerosene</th>\n",
       "      <th>heating_fuel_gas</th>\n",
       "      <th>heating_fuel_housing_unit_count</th>\n",
       "      <th>heating_fuel_none</th>\n",
       "      <th>heating_fuel_other</th>\n",
       "      <th>...</th>\n",
       "      <th>diversity</th>\n",
       "      <th>net_metering</th>\n",
       "      <th>feedin_tariff</th>\n",
       "      <th>cooperate_tax</th>\n",
       "      <th>property_tax</th>\n",
       "      <th>sales_tax</th>\n",
       "      <th>rebate</th>\n",
       "      <th>avg_electricity_retail_rate</th>\n",
       "      <th>fips</th>\n",
       "      <th>predicted_solar</th>\n",
       "    </tr>\n",
       "  </thead>\n",
       "  <tbody>\n",
       "    <tr>\n",
       "      <th>0</th>\n",
       "      <td>0.000000</td>\n",
       "      <td>70352.78987</td>\n",
       "      <td>0.3490</td>\n",
       "      <td>200</td>\n",
       "      <td>448</td>\n",
       "      <td>98</td>\n",
       "      <td>1720</td>\n",
       "      <td>2527</td>\n",
       "      <td>10</td>\n",
       "      <td>51</td>\n",
       "      <td>...</td>\n",
       "      <td>0.046960</td>\n",
       "      <td>34</td>\n",
       "      <td>0</td>\n",
       "      <td>0</td>\n",
       "      <td>25</td>\n",
       "      <td>12</td>\n",
       "      <td>0</td>\n",
       "      <td>9.46</td>\n",
       "      <td>27145011200</td>\n",
       "      <td>0.000000</td>\n",
       "    </tr>\n",
       "    <tr>\n",
       "      <th>1</th>\n",
       "      <td>0.006726</td>\n",
       "      <td>61727.08520</td>\n",
       "      <td>0.4074</td>\n",
       "      <td>20</td>\n",
       "      <td>379</td>\n",
       "      <td>17</td>\n",
       "      <td>1799</td>\n",
       "      <td>2230</td>\n",
       "      <td>0</td>\n",
       "      <td>15</td>\n",
       "      <td>...</td>\n",
       "      <td>0.145934</td>\n",
       "      <td>34</td>\n",
       "      <td>0</td>\n",
       "      <td>0</td>\n",
       "      <td>25</td>\n",
       "      <td>12</td>\n",
       "      <td>0</td>\n",
       "      <td>9.46</td>\n",
       "      <td>27145011301</td>\n",
       "      <td>0.001495</td>\n",
       "    </tr>\n",
       "    <tr>\n",
       "      <th>2</th>\n",
       "      <td>0.001112</td>\n",
       "      <td>71496.88658</td>\n",
       "      <td>0.3926</td>\n",
       "      <td>69</td>\n",
       "      <td>440</td>\n",
       "      <td>45</td>\n",
       "      <td>2098</td>\n",
       "      <td>2698</td>\n",
       "      <td>29</td>\n",
       "      <td>17</td>\n",
       "      <td>...</td>\n",
       "      <td>0.009150</td>\n",
       "      <td>34</td>\n",
       "      <td>0</td>\n",
       "      <td>0</td>\n",
       "      <td>25</td>\n",
       "      <td>12</td>\n",
       "      <td>0</td>\n",
       "      <td>9.46</td>\n",
       "      <td>27145011302</td>\n",
       "      <td>0.001445</td>\n",
       "    </tr>\n",
       "    <tr>\n",
       "      <th>3</th>\n",
       "      <td>0.000000</td>\n",
       "      <td>86840.15275</td>\n",
       "      <td>0.3949</td>\n",
       "      <td>188</td>\n",
       "      <td>442</td>\n",
       "      <td>61</td>\n",
       "      <td>1113</td>\n",
       "      <td>1833</td>\n",
       "      <td>13</td>\n",
       "      <td>16</td>\n",
       "      <td>...</td>\n",
       "      <td>0.187334</td>\n",
       "      <td>34</td>\n",
       "      <td>0</td>\n",
       "      <td>0</td>\n",
       "      <td>25</td>\n",
       "      <td>12</td>\n",
       "      <td>0</td>\n",
       "      <td>9.46</td>\n",
       "      <td>27145011304</td>\n",
       "      <td>0.000000</td>\n",
       "    </tr>\n",
       "    <tr>\n",
       "      <th>4</th>\n",
       "      <td>0.002087</td>\n",
       "      <td>89135.31560</td>\n",
       "      <td>0.4463</td>\n",
       "      <td>96</td>\n",
       "      <td>497</td>\n",
       "      <td>47</td>\n",
       "      <td>1202</td>\n",
       "      <td>1917</td>\n",
       "      <td>31</td>\n",
       "      <td>44</td>\n",
       "      <td>...</td>\n",
       "      <td>0.090766</td>\n",
       "      <td>34</td>\n",
       "      <td>0</td>\n",
       "      <td>0</td>\n",
       "      <td>25</td>\n",
       "      <td>12</td>\n",
       "      <td>0</td>\n",
       "      <td>9.46</td>\n",
       "      <td>27145011400</td>\n",
       "      <td>0.001388</td>\n",
       "    </tr>\n",
       "    <tr>\n",
       "      <th>5</th>\n",
       "      <td>0.000000</td>\n",
       "      <td>62225.90361</td>\n",
       "      <td>0.3847</td>\n",
       "      <td>72</td>\n",
       "      <td>759</td>\n",
       "      <td>81</td>\n",
       "      <td>1695</td>\n",
       "      <td>2656</td>\n",
       "      <td>45</td>\n",
       "      <td>4</td>\n",
       "      <td>...</td>\n",
       "      <td>0.081981</td>\n",
       "      <td>34</td>\n",
       "      <td>0</td>\n",
       "      <td>0</td>\n",
       "      <td>25</td>\n",
       "      <td>12</td>\n",
       "      <td>0</td>\n",
       "      <td>9.46</td>\n",
       "      <td>27145011500</td>\n",
       "      <td>0.000000</td>\n",
       "    </tr>\n",
       "    <tr>\n",
       "      <th>6</th>\n",
       "      <td>0.004255</td>\n",
       "      <td>41068.93617</td>\n",
       "      <td>0.7166</td>\n",
       "      <td>3</td>\n",
       "      <td>222</td>\n",
       "      <td>5</td>\n",
       "      <td>193</td>\n",
       "      <td>470</td>\n",
       "      <td>16</td>\n",
       "      <td>31</td>\n",
       "      <td>...</td>\n",
       "      <td>0.470443</td>\n",
       "      <td>34</td>\n",
       "      <td>0</td>\n",
       "      <td>0</td>\n",
       "      <td>25</td>\n",
       "      <td>12</td>\n",
       "      <td>0</td>\n",
       "      <td>9.46</td>\n",
       "      <td>27145011600</td>\n",
       "      <td>0.002721</td>\n",
       "    </tr>\n",
       "    <tr>\n",
       "      <th>7</th>\n",
       "      <td>0.000000</td>\n",
       "      <td>74073.83367</td>\n",
       "      <td>0.4317</td>\n",
       "      <td>108</td>\n",
       "      <td>382</td>\n",
       "      <td>190</td>\n",
       "      <td>783</td>\n",
       "      <td>1479</td>\n",
       "      <td>3</td>\n",
       "      <td>13</td>\n",
       "      <td>...</td>\n",
       "      <td>0.008239</td>\n",
       "      <td>34</td>\n",
       "      <td>0</td>\n",
       "      <td>0</td>\n",
       "      <td>25</td>\n",
       "      <td>12</td>\n",
       "      <td>0</td>\n",
       "      <td>9.46</td>\n",
       "      <td>27145010500</td>\n",
       "      <td>0.000000</td>\n",
       "    </tr>\n",
       "    <tr>\n",
       "      <th>8</th>\n",
       "      <td>0.000000</td>\n",
       "      <td>69412.19243</td>\n",
       "      <td>0.3824</td>\n",
       "      <td>241</td>\n",
       "      <td>534</td>\n",
       "      <td>156</td>\n",
       "      <td>1735</td>\n",
       "      <td>2723</td>\n",
       "      <td>20</td>\n",
       "      <td>37</td>\n",
       "      <td>...</td>\n",
       "      <td>0.029574</td>\n",
       "      <td>34</td>\n",
       "      <td>0</td>\n",
       "      <td>0</td>\n",
       "      <td>25</td>\n",
       "      <td>12</td>\n",
       "      <td>0</td>\n",
       "      <td>9.46</td>\n",
       "      <td>27145011100</td>\n",
       "      <td>0.000000</td>\n",
       "    </tr>\n",
       "    <tr>\n",
       "      <th>9</th>\n",
       "      <td>0.002742</td>\n",
       "      <td>82502.40707</td>\n",
       "      <td>0.3588</td>\n",
       "      <td>18</td>\n",
       "      <td>734</td>\n",
       "      <td>27</td>\n",
       "      <td>2419</td>\n",
       "      <td>3282</td>\n",
       "      <td>29</td>\n",
       "      <td>55</td>\n",
       "      <td>...</td>\n",
       "      <td>0.120052</td>\n",
       "      <td>34</td>\n",
       "      <td>0</td>\n",
       "      <td>0</td>\n",
       "      <td>25</td>\n",
       "      <td>12</td>\n",
       "      <td>0</td>\n",
       "      <td>9.46</td>\n",
       "      <td>27145010102</td>\n",
       "      <td>0.001954</td>\n",
       "    </tr>\n",
       "  </tbody>\n",
       "</table>\n",
       "<p>10 rows × 100 columns</p>\n",
       "</div>"
      ],
      "text/plain": [
       "   number_of_solar_system_per_household  average_household_income  gini_index  \\\n",
       "0                              0.000000               70352.78987      0.3490   \n",
       "1                              0.006726               61727.08520      0.4074   \n",
       "2                              0.001112               71496.88658      0.3926   \n",
       "3                              0.000000               86840.15275      0.3949   \n",
       "4                              0.002087               89135.31560      0.4463   \n",
       "5                              0.000000               62225.90361      0.3847   \n",
       "6                              0.004255               41068.93617      0.7166   \n",
       "7                              0.000000               74073.83367      0.4317   \n",
       "8                              0.000000               69412.19243      0.3824   \n",
       "9                              0.002742               82502.40707      0.3588   \n",
       "\n",
       "   heating_fuel_coal_coke  heating_fuel_electricity  \\\n",
       "0                     200                       448   \n",
       "1                      20                       379   \n",
       "2                      69                       440   \n",
       "3                     188                       442   \n",
       "4                      96                       497   \n",
       "5                      72                       759   \n",
       "6                       3                       222   \n",
       "7                     108                       382   \n",
       "8                     241                       534   \n",
       "9                      18                       734   \n",
       "\n",
       "   heating_fuel_fuel_oil_kerosene  heating_fuel_gas  \\\n",
       "0                              98              1720   \n",
       "1                              17              1799   \n",
       "2                              45              2098   \n",
       "3                              61              1113   \n",
       "4                              47              1202   \n",
       "5                              81              1695   \n",
       "6                               5               193   \n",
       "7                             190               783   \n",
       "8                             156              1735   \n",
       "9                              27              2419   \n",
       "\n",
       "   heating_fuel_housing_unit_count  heating_fuel_none  heating_fuel_other  \\\n",
       "0                             2527                 10                  51   \n",
       "1                             2230                  0                  15   \n",
       "2                             2698                 29                  17   \n",
       "3                             1833                 13                  16   \n",
       "4                             1917                 31                  44   \n",
       "5                             2656                 45                   4   \n",
       "6                              470                 16                  31   \n",
       "7                             1479                  3                  13   \n",
       "8                             2723                 20                  37   \n",
       "9                             3282                 29                  55   \n",
       "\n",
       "        ...         diversity  net_metering  feedin_tariff  cooperate_tax  \\\n",
       "0       ...          0.046960            34              0              0   \n",
       "1       ...          0.145934            34              0              0   \n",
       "2       ...          0.009150            34              0              0   \n",
       "3       ...          0.187334            34              0              0   \n",
       "4       ...          0.090766            34              0              0   \n",
       "5       ...          0.081981            34              0              0   \n",
       "6       ...          0.470443            34              0              0   \n",
       "7       ...          0.008239            34              0              0   \n",
       "8       ...          0.029574            34              0              0   \n",
       "9       ...          0.120052            34              0              0   \n",
       "\n",
       "   property_tax  sales_tax  rebate  avg_electricity_retail_rate         fips  \\\n",
       "0            25         12       0                         9.46  27145011200   \n",
       "1            25         12       0                         9.46  27145011301   \n",
       "2            25         12       0                         9.46  27145011302   \n",
       "3            25         12       0                         9.46  27145011304   \n",
       "4            25         12       0                         9.46  27145011400   \n",
       "5            25         12       0                         9.46  27145011500   \n",
       "6            25         12       0                         9.46  27145011600   \n",
       "7            25         12       0                         9.46  27145010500   \n",
       "8            25         12       0                         9.46  27145011100   \n",
       "9            25         12       0                         9.46  27145010102   \n",
       "\n",
       "   predicted_solar  \n",
       "0         0.000000  \n",
       "1         0.001495  \n",
       "2         0.001445  \n",
       "3         0.000000  \n",
       "4         0.001388  \n",
       "5         0.000000  \n",
       "6         0.002721  \n",
       "7         0.000000  \n",
       "8         0.000000  \n",
       "9         0.001954  \n",
       "\n",
       "[10 rows x 100 columns]"
      ]
     },
     "execution_count": 66,
     "metadata": {},
     "output_type": "execute_result"
    }
   ],
   "source": [
    "relevant_fields=['number_of_solar_system_per_household']+features+['fips']\n",
    "final_frame=pd.merge(solar[relevant_fields],solar_full[['fips','predicted_solar']],on=['fips'],how='left')\n",
    "final_frame.head(10)"
   ]
  },
  {
   "cell_type": "code",
   "execution_count": 67,
   "metadata": {
    "collapsed": true
   },
   "outputs": [],
   "source": [
    "final_frame.to_csv('baseline_model_predictions.csv')"
   ]
  },
  {
   "cell_type": "code",
   "execution_count": null,
   "metadata": {
    "collapsed": true
   },
   "outputs": [],
   "source": []
  }
 ],
 "metadata": {
  "kernelspec": {
   "display_name": "Python 3",
   "language": "python",
   "name": "python3"
  },
  "language_info": {
   "codemirror_mode": {
    "name": "ipython",
    "version": 3
   },
   "file_extension": ".py",
   "mimetype": "text/x-python",
   "name": "python",
   "nbconvert_exporter": "python",
   "pygments_lexer": "ipython3",
   "version": "3.6.3"
  }
 },
 "nbformat": 4,
 "nbformat_minor": 2
}
