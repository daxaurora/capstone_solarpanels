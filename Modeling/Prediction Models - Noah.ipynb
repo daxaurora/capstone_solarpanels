{
 "cells": [
  {
   "cell_type": "code",
   "execution_count": 1,
   "metadata": {
    "collapsed": true
   },
   "outputs": [],
   "source": [
    "import pandas as pd\n",
    "import numpy as np\n",
    "import matplotlib.pyplot as plt\n",
    "from sklearn.ensemble import RandomForestClassifier\n",
    "from sklearn.ensemble import RandomForestRegressor"
   ]
  },
  {
   "cell_type": "markdown",
   "metadata": {},
   "source": [
    "# Load and Prepare the Data"
   ]
  },
  {
   "cell_type": "code",
   "execution_count": 21,
   "metadata": {},
   "outputs": [
    {
     "data": {
      "text/html": [
       "<div>\n",
       "<style>\n",
       "    .dataframe thead tr:only-child th {\n",
       "        text-align: right;\n",
       "    }\n",
       "\n",
       "    .dataframe thead th {\n",
       "        text-align: left;\n",
       "    }\n",
       "\n",
       "    .dataframe tbody tr th {\n",
       "        vertical-align: top;\n",
       "    }\n",
       "</style>\n",
       "<table border=\"1\" class=\"dataframe\">\n",
       "  <thead>\n",
       "    <tr style=\"text-align: right;\">\n",
       "      <th></th>\n",
       "      <th>Field</th>\n",
       "      <th>Description</th>\n",
       "      <th>Unit</th>\n",
       "      <th>Data Type</th>\n",
       "      <th>Formula</th>\n",
       "      <th>Possible Values</th>\n",
       "      <th>Observed Max</th>\n",
       "      <th>Observed Min</th>\n",
       "      <th>Theoretical Min</th>\n",
       "      <th>Theoretical Max</th>\n",
       "      <th>Relevant Feature</th>\n",
       "    </tr>\n",
       "  </thead>\n",
       "  <tbody>\n",
       "    <tr>\n",
       "      <th>0</th>\n",
       "      <td>Unnamed: 0</td>\n",
       "      <td>Index</td>\n",
       "      <td>NaN</td>\n",
       "      <td>Numeric</td>\n",
       "      <td>NaN</td>\n",
       "      <td>NaN</td>\n",
       "      <td>72537.000</td>\n",
       "      <td>0</td>\n",
       "      <td>NaN</td>\n",
       "      <td>NaN</td>\n",
       "      <td>0</td>\n",
       "    </tr>\n",
       "    <tr>\n",
       "      <th>1</th>\n",
       "      <td>tile_count</td>\n",
       "      <td>total number of tiles in census tract</td>\n",
       "      <td>NaN</td>\n",
       "      <td>Numeric</td>\n",
       "      <td>NaN</td>\n",
       "      <td>NaN</td>\n",
       "      <td>4468.000</td>\n",
       "      <td>0</td>\n",
       "      <td>0.0</td>\n",
       "      <td>NaN</td>\n",
       "      <td>0</td>\n",
       "    </tr>\n",
       "    <tr>\n",
       "      <th>2</th>\n",
       "      <td>solar_system_count</td>\n",
       "      <td>Total number of solar systems in census tract</td>\n",
       "      <td>NaN</td>\n",
       "      <td>Numeric</td>\n",
       "      <td>NaN</td>\n",
       "      <td>NaN</td>\n",
       "      <td>1535.000</td>\n",
       "      <td>0</td>\n",
       "      <td>0.0</td>\n",
       "      <td>NaN</td>\n",
       "      <td>0</td>\n",
       "    </tr>\n",
       "    <tr>\n",
       "      <th>3</th>\n",
       "      <td>total_panel_area</td>\n",
       "      <td>NaN</td>\n",
       "      <td>NaN</td>\n",
       "      <td>Numeric</td>\n",
       "      <td>NaN</td>\n",
       "      <td>NaN</td>\n",
       "      <td>592031.075</td>\n",
       "      <td>0</td>\n",
       "      <td>0.0</td>\n",
       "      <td>NaN</td>\n",
       "      <td>0</td>\n",
       "    </tr>\n",
       "    <tr>\n",
       "      <th>4</th>\n",
       "      <td>fips</td>\n",
       "      <td>FIPS identifier for the census tract</td>\n",
       "      <td>NaN</td>\n",
       "      <td>String</td>\n",
       "      <td>NaN</td>\n",
       "      <td>NaN</td>\n",
       "      <td>NaN</td>\n",
       "      <td>NaN</td>\n",
       "      <td>NaN</td>\n",
       "      <td>NaN</td>\n",
       "      <td>0</td>\n",
       "    </tr>\n",
       "  </tbody>\n",
       "</table>\n",
       "</div>"
      ],
      "text/plain": [
       "                Field                                    Description Unit  \\\n",
       "0          Unnamed: 0                                          Index  NaN   \n",
       "1          tile_count          total number of tiles in census tract  NaN   \n",
       "2  solar_system_count  Total number of solar systems in census tract  NaN   \n",
       "3    total_panel_area                                            NaN  NaN   \n",
       "4                fips           FIPS identifier for the census tract  NaN   \n",
       "\n",
       "  Data Type Formula  Possible Values  Observed Max Observed Min  \\\n",
       "0   Numeric     NaN              NaN     72537.000            0   \n",
       "1   Numeric     NaN              NaN      4468.000            0   \n",
       "2   Numeric     NaN              NaN      1535.000            0   \n",
       "3   Numeric     NaN              NaN    592031.075            0   \n",
       "4    String     NaN              NaN           NaN          NaN   \n",
       "\n",
       "   Theoretical Min Theoretical Max  Relevant Feature  \n",
       "0              NaN             NaN                 0  \n",
       "1              0.0             NaN                 0  \n",
       "2              0.0             NaN                 0  \n",
       "3              0.0             NaN                 0  \n",
       "4              NaN             NaN                 0  "
      ]
     },
     "execution_count": 21,
     "metadata": {},
     "output_type": "execute_result"
    }
   ],
   "source": [
    "solar=pd.read_csv('../deepsolar_tract.csv',encoding = \"ISO-8859-1\")\n",
    "solar.head()\n",
    "solar_fields=pd.read_csv('../deepsolar fields.csv')\n",
    "solar_fields.head()"
   ]
  },
  {
   "cell_type": "code",
   "execution_count": 46,
   "metadata": {},
   "outputs": [
    {
     "name": "stdout",
     "output_type": "stream",
     "text": [
      "training data shape:  (36143, 142)\n",
      "training labels shape:  (36143,)\n",
      "dev data shape:  (9036, 142)\n",
      "dev labels shape:  (9036,)\n"
     ]
    }
   ],
   "source": [
    "#define relevant features and dependent variable\n",
    "\n",
    "\n",
    "features=solar_fields.loc[(solar_fields['Relevant Feature']==1)]['Field'].tolist()\n",
    "all_variables=features+['number_of_solar_system_per_household']\n",
    "\n",
    "#drop rows with NaN values for now\n",
    "solar2=solar[all_variables].replace([np.inf,' '],np.nan).dropna()\n",
    "\n",
    "#Create binary version of number_of_solar_system_per_household for RF classifier\n",
    "\n",
    "solar2['solar_flag']=solar2['number_of_solar_system_per_household'].apply(lambda x: int(x>0))\n",
    "\n",
    "\n",
    "#create dummy variables for state\n",
    "solar2=pd.get_dummies(solar2,columns=['state'])\n",
    "\n",
    "#create binary version of vote dem win variables\n",
    "\n",
    "solar2['voting_2016_dem_win']=solar2['voting_2016_dem_win'].apply(lambda x: int(x))\n",
    "solar2['voting_2012_dem_win']=solar2['voting_2012_dem_win'].apply(lambda x: int(x))\n",
    "\n",
    "\n",
    "#designate independent variable frame\n",
    "independent_vars=solar2.loc[:,~solar2.columns.isin(['number_of_solar_system_per_household','solar_flag'])]\n",
    "\n",
    "#create training and test data\n",
    "shuffle = np.random.permutation(np.arange(independent_vars.shape[0]))\n",
    "split_size=int(shuffle.shape[0]*0.8)\n",
    "\n",
    "X,y=independent_vars.values[shuffle],solar2['solar_flag'].values[shuffle]\n",
    "X_train,y_train=X[0:split_size],y[0:split_size]\n",
    "X_dev,y_dev=X[split_size:],y[split_size:]\n",
    "print('training data shape: ',X_train.shape)\n",
    "print('training labels shape: ',y_train.shape)\n",
    "print('dev data shape: ',X_dev.shape)\n",
    "print('dev labels shape: ',y_dev.shape)\n",
    "\n",
    "\n"
   ]
  },
  {
   "cell_type": "markdown",
   "metadata": {},
   "source": [
    "# Fit the Classifier"
   ]
  },
  {
   "cell_type": "code",
   "execution_count": 47,
   "metadata": {},
   "outputs": [
    {
     "data": {
      "text/plain": [
       "RandomForestClassifier(bootstrap=True, class_weight=None, criterion='gini',\n",
       "            max_depth=None, max_features='auto', max_leaf_nodes=None,\n",
       "            min_impurity_decrease=0.0, min_impurity_split=None,\n",
       "            min_samples_leaf=1, min_samples_split=2,\n",
       "            min_weight_fraction_leaf=0.0, n_estimators=10, n_jobs=1,\n",
       "            oob_score=False, random_state=None, verbose=0,\n",
       "            warm_start=False)"
      ]
     },
     "execution_count": 47,
     "metadata": {},
     "output_type": "execute_result"
    }
   ],
   "source": [
    "classifier=RandomForestClassifier()\n",
    "classifier.fit(X_train,y_train)"
   ]
  },
  {
   "cell_type": "markdown",
   "metadata": {},
   "source": [
    "## Classifier Score on the Dev Set"
   ]
  },
  {
   "cell_type": "code",
   "execution_count": 48,
   "metadata": {},
   "outputs": [
    {
     "data": {
      "text/plain": [
       "0.80190349712262066"
      ]
     },
     "execution_count": 48,
     "metadata": {},
     "output_type": "execute_result"
    }
   ],
   "source": [
    "classifier.score(X_dev,y_dev)"
   ]
  },
  {
   "cell_type": "markdown",
   "metadata": {},
   "source": [
    "## Feature Importance List - Top 20"
   ]
  },
  {
   "cell_type": "code",
   "execution_count": 53,
   "metadata": {},
   "outputs": [
    {
     "name": "stdout",
     "output_type": "stream",
     "text": [
      "('population_density', 0.038107178854703147)\n",
      "('occupancy_vacant_rate', 0.02770418171630722)\n",
      "('heating_fuel_coal_coke_rate', 0.02263082269050521)\n",
      "('lon', 0.022240364183156319)\n",
      "('housing_unit_median_gross_rent', 0.019521973176544125)\n",
      "('education_high_school_graduate_rate', 0.016301678149650535)\n",
      "('number_of_years_of_education', 0.016264585436631552)\n",
      "('electricity_consume_total', 0.01541594707953781)\n",
      "('race_asian_rate', 0.015224226141095819)\n",
      "('occupation_agriculture_rate', 0.014533732072643796)\n",
      "('voting_2012_dem_percentage', 0.013979679294780681)\n",
      "('per_capita_income', 0.013690732732964127)\n",
      "('electricity_consume_industrial', 0.013570484307351402)\n",
      "('travel_time_10_19_rate', 0.013518525105643669)\n",
      "('average_household_income', 0.012952429305080417)\n",
      "('heating_design_temperature', 0.012410502982126145)\n",
      "('travel_time_less_than_10_rate', 0.012351416786129023)\n",
      "('travel_time_40_59_rate', 0.012145865917251438)\n",
      "('transportation_car_alone_rate', 0.011945228499702046)\n",
      "('race_white_rate', 0.011820674788407252)\n"
     ]
    }
   ],
   "source": [
    "feature_importances=classifier.feature_importances_\n",
    "features=independent_vars.columns\n",
    "feature_tuples=[(features[i],feature_importances[i]) for i in range(len(features))]\n",
    "sorted_features=sorted(feature_tuples,reverse=True,key=lambda k: k[1])\n",
    "for i in range(0,20):\n",
    "    print(sorted_features[i])"
   ]
  },
  {
   "cell_type": "markdown",
   "metadata": {},
   "source": [
    "### Observations\n",
    "\n",
    "* 80% accuracy on dev set with no hyperparamter tuning\n",
    "* list of important features is similar to feature importance list for the classifier in SolarForest"
   ]
  },
  {
   "cell_type": "code",
   "execution_count": null,
   "metadata": {
    "collapsed": true
   },
   "outputs": [],
   "source": []
  }
 ],
 "metadata": {
  "kernelspec": {
   "display_name": "Python 3",
   "language": "python",
   "name": "python3"
  },
  "language_info": {
   "codemirror_mode": {
    "name": "ipython",
    "version": 3
   },
   "file_extension": ".py",
   "mimetype": "text/x-python",
   "name": "python",
   "nbconvert_exporter": "python",
   "pygments_lexer": "ipython3",
   "version": "3.6.3"
  }
 },
 "nbformat": 4,
 "nbformat_minor": 2
}
