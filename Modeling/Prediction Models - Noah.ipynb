{
 "cells": [
  {
   "cell_type": "markdown",
   "metadata": {
    "collapsed": true
   },
   "source": [
    "# Try Again with Values from Supplemental Info Section"
   ]
  },
  {
   "cell_type": "markdown",
   "metadata": {},
   "source": [
    "## Load/Prep the Data"
   ]
  },
  {
   "cell_type": "code",
   "execution_count": 1,
   "metadata": {
    "collapsed": true
   },
   "outputs": [],
   "source": [
    "import pandas as pd\n",
    "import numpy as np\n",
    "import matplotlib.pyplot as plt\n",
    "from sklearn.ensemble import RandomForestClassifier\n",
    "from sklearn.ensemble import RandomForestRegressor\n",
    "from sklearn.preprocessing import Imputer\n",
    "from sklearn.model_selection import train_test_split\n",
    "from sklearn.model_selection import GridSearchCV"
   ]
  },
  {
   "cell_type": "code",
   "execution_count": 42,
   "metadata": {},
   "outputs": [
    {
     "data": {
      "text/html": [
       "<div>\n",
       "<style>\n",
       "    .dataframe thead tr:only-child th {\n",
       "        text-align: right;\n",
       "    }\n",
       "\n",
       "    .dataframe thead th {\n",
       "        text-align: left;\n",
       "    }\n",
       "\n",
       "    .dataframe tbody tr th {\n",
       "        vertical-align: top;\n",
       "    }\n",
       "</style>\n",
       "<table border=\"1\" class=\"dataframe\">\n",
       "  <thead>\n",
       "    <tr style=\"text-align: right;\">\n",
       "      <th></th>\n",
       "      <th>Field</th>\n",
       "      <th>Description</th>\n",
       "      <th>Unit</th>\n",
       "      <th>Data Type</th>\n",
       "      <th>Formula</th>\n",
       "      <th>Possible Values</th>\n",
       "      <th>Observed Max</th>\n",
       "      <th>Observed Min</th>\n",
       "      <th>Theoretical Min</th>\n",
       "      <th>Theoretical Max</th>\n",
       "      <th>Relevant Feature</th>\n",
       "      <th>Mentioned in Supplemental Info</th>\n",
       "    </tr>\n",
       "  </thead>\n",
       "  <tbody>\n",
       "    <tr>\n",
       "      <th>0</th>\n",
       "      <td>Unnamed: 0</td>\n",
       "      <td>Index</td>\n",
       "      <td>NaN</td>\n",
       "      <td>Numeric</td>\n",
       "      <td>NaN</td>\n",
       "      <td>NaN</td>\n",
       "      <td>72537.000</td>\n",
       "      <td>0</td>\n",
       "      <td>NaN</td>\n",
       "      <td>NaN</td>\n",
       "      <td>0</td>\n",
       "      <td>NaN</td>\n",
       "    </tr>\n",
       "    <tr>\n",
       "      <th>1</th>\n",
       "      <td>tile_count</td>\n",
       "      <td>total number of tiles in census tract</td>\n",
       "      <td>NaN</td>\n",
       "      <td>Numeric</td>\n",
       "      <td>NaN</td>\n",
       "      <td>NaN</td>\n",
       "      <td>4468.000</td>\n",
       "      <td>0</td>\n",
       "      <td>0.0</td>\n",
       "      <td>NaN</td>\n",
       "      <td>0</td>\n",
       "      <td>NaN</td>\n",
       "    </tr>\n",
       "    <tr>\n",
       "      <th>2</th>\n",
       "      <td>solar_system_count</td>\n",
       "      <td>Total number of solar systems in census tract</td>\n",
       "      <td>NaN</td>\n",
       "      <td>Numeric</td>\n",
       "      <td>NaN</td>\n",
       "      <td>NaN</td>\n",
       "      <td>1535.000</td>\n",
       "      <td>0</td>\n",
       "      <td>0.0</td>\n",
       "      <td>NaN</td>\n",
       "      <td>0</td>\n",
       "      <td>NaN</td>\n",
       "    </tr>\n",
       "    <tr>\n",
       "      <th>3</th>\n",
       "      <td>total_panel_area</td>\n",
       "      <td>NaN</td>\n",
       "      <td>NaN</td>\n",
       "      <td>Numeric</td>\n",
       "      <td>NaN</td>\n",
       "      <td>NaN</td>\n",
       "      <td>592031.075</td>\n",
       "      <td>0</td>\n",
       "      <td>0.0</td>\n",
       "      <td>NaN</td>\n",
       "      <td>0</td>\n",
       "      <td>NaN</td>\n",
       "    </tr>\n",
       "    <tr>\n",
       "      <th>4</th>\n",
       "      <td>fips</td>\n",
       "      <td>FIPS identifier for the census tract</td>\n",
       "      <td>NaN</td>\n",
       "      <td>String</td>\n",
       "      <td>NaN</td>\n",
       "      <td>NaN</td>\n",
       "      <td>NaN</td>\n",
       "      <td>NaN</td>\n",
       "      <td>NaN</td>\n",
       "      <td>NaN</td>\n",
       "      <td>0</td>\n",
       "      <td>NaN</td>\n",
       "    </tr>\n",
       "  </tbody>\n",
       "</table>\n",
       "</div>"
      ],
      "text/plain": [
       "                Field                                    Description Unit  \\\n",
       "0          Unnamed: 0                                          Index  NaN   \n",
       "1          tile_count          total number of tiles in census tract  NaN   \n",
       "2  solar_system_count  Total number of solar systems in census tract  NaN   \n",
       "3    total_panel_area                                            NaN  NaN   \n",
       "4                fips           FIPS identifier for the census tract  NaN   \n",
       "\n",
       "  Data Type Formula  Possible Values  Observed Max Observed Min  \\\n",
       "0   Numeric     NaN              NaN     72537.000            0   \n",
       "1   Numeric     NaN              NaN      4468.000            0   \n",
       "2   Numeric     NaN              NaN      1535.000            0   \n",
       "3   Numeric     NaN              NaN    592031.075            0   \n",
       "4    String     NaN              NaN           NaN          NaN   \n",
       "\n",
       "   Theoretical Min Theoretical Max  Relevant Feature  \\\n",
       "0              NaN             NaN                 0   \n",
       "1              0.0             NaN                 0   \n",
       "2              0.0             NaN                 0   \n",
       "3              0.0             NaN                 0   \n",
       "4              NaN             NaN                 0   \n",
       "\n",
       "   Mentioned in Supplemental Info  \n",
       "0                             NaN  \n",
       "1                             NaN  \n",
       "2                             NaN  \n",
       "3                             NaN  \n",
       "4                             NaN  "
      ]
     },
     "execution_count": 42,
     "metadata": {},
     "output_type": "execute_result"
    }
   ],
   "source": [
    "solar=pd.read_csv('../deepsolar_tract.csv',encoding = \"ISO-8859-1\")\n",
    "solar.head()\n",
    "solar_fields=pd.read_csv('../deepsolar fields.csv')\n",
    "solar_fields.head()"
   ]
  },
  {
   "cell_type": "markdown",
   "metadata": {},
   "source": [
    "## Pre-process data; impute missing values using median"
   ]
  },
  {
   "cell_type": "code",
   "execution_count": 43,
   "metadata": {},
   "outputs": [
    {
     "name": "stderr",
     "output_type": "stream",
     "text": [
      "C:\\Users\\noahw\\Anaconda3\\envs\\ipykernel_py3\\lib\\site-packages\\ipykernel_launcher.py:11: SettingWithCopyWarning: \n",
      "A value is trying to be set on a copy of a slice from a DataFrame.\n",
      "Try using .loc[row_indexer,col_indexer] = value instead\n",
      "\n",
      "See the caveats in the documentation: http://pandas.pydata.org/pandas-docs/stable/indexing.html#indexing-view-versus-copy\n",
      "  # This is added back by InteractiveShellApp.init_path()\n"
     ]
    },
    {
     "name": "stdout",
     "output_type": "stream",
     "text": [
      "training data shape:  (50236, 95)\n",
      "classifier train labels shape:  (50236,)\n",
      "regressor train labels shape:  (50236,)\n",
      "test data shape:  (21530, 95)\n",
      "classifier test labels shape:  (21530,)\n",
      "regressor test labels shape:  (21530,)\n"
     ]
    }
   ],
   "source": [
    "#define relevant features and dependent variable\n",
    "\n",
    "\n",
    "features=solar_fields.loc[(solar_fields['Mentioned in Supplemental Info']==1)]['Field'].tolist()\n",
    "all_variables=features+['number_of_solar_system_per_household']\n",
    "\n",
    "solar2=solar[all_variables]\n",
    "\n",
    "#Create binary version of number_of_solar_system_per_household for RF classifier\n",
    "\n",
    "solar2['solar_flag']=solar2['number_of_solar_system_per_household'].apply(lambda x: int(x>0))\n",
    "solar2=solar2.loc[np.isfinite(solar2['number_of_solar_system_per_household'])]\n",
    "\n",
    "#designate independent variable frame\n",
    "independent_vars=solar2.loc[:,~solar2.columns.isin(['number_of_solar_system_per_household','solar_flag'])]\n",
    "X=independent_vars.values\n",
    "yc=solar2['solar_flag'].values\n",
    "yr=solar2['number_of_solar_system_per_household'].values\n",
    "\n",
    "#impute missing values\n",
    "missing_val_imputer=Imputer(strategy='median')\n",
    "X=missing_val_imputer.fit_transform(X)\n",
    "\n",
    "\n",
    "X_train, X_test, yc_train, yc_test,yr_train,yr_test = train_test_split(X, yc,yr, test_size=0.3, random_state=42)\n",
    "\n",
    "\n",
    "\n",
    "print('training data shape: ',X_train.shape)\n",
    "print('classifier train labels shape: ',yc_train.shape)\n",
    "print('regressor train labels shape: ',yr_train.shape)\n",
    "print('test data shape: ',X_test.shape)\n",
    "print('classifier test labels shape: ',yc_test.shape)\n",
    "print('regressor test labels shape: ',yr_test.shape)\n"
   ]
  },
  {
   "cell_type": "markdown",
   "metadata": {},
   "source": [
    "## Alternatively, pre-process values using group median by state"
   ]
  },
  {
   "cell_type": "code",
   "execution_count": 17,
   "metadata": {},
   "outputs": [
    {
     "name": "stderr",
     "output_type": "stream",
     "text": [
      "C:\\Users\\noahw\\Anaconda3\\envs\\ipykernel_py3\\lib\\site-packages\\ipykernel_launcher.py:8: SettingWithCopyWarning: \n",
      "A value is trying to be set on a copy of a slice from a DataFrame.\n",
      "Try using .loc[row_indexer,col_indexer] = value instead\n",
      "\n",
      "See the caveats in the documentation: http://pandas.pydata.org/pandas-docs/stable/indexing.html#indexing-view-versus-copy\n",
      "  \n"
     ]
    },
    {
     "name": "stdout",
     "output_type": "stream",
     "text": [
      "training data shape:  (50236, 97)\n",
      "classifier train labels shape:  (50236,)\n",
      "regressor train labels shape:  (50236,)\n",
      "test data shape:  (21530, 97)\n",
      "classifier test labels shape:  (21530,)\n",
      "regressor test labels shape:  (21530,)\n"
     ]
    }
   ],
   "source": [
    "features=solar_fields.loc[(solar_fields['Mentioned in Supplemental Info']==1)]['Field'].tolist()\n",
    "all_variables=features+['number_of_solar_system_per_household']+['state']\n",
    "\n",
    "solar2=solar[all_variables]\n",
    "\n",
    "#Create binary version of number_of_solar_system_per_household for RF classifier\n",
    "\n",
    "solar2['solar_flag']=solar2['number_of_solar_system_per_household'].apply(lambda x: int(x>0))\n",
    "solar2=solar2.loc[np.isfinite(solar2['number_of_solar_system_per_household'])]\n",
    "\n",
    "#designate independent variable frame\n",
    "independent_vars=solar2.loc[:,~solar2.columns.isin(['number_of_solar_system_per_household','solar_flag'])].groupby('state').transform(lambda x: x.fillna(x.median()))\n",
    "X=independent_vars.values\n",
    "yc=solar2['solar_flag'].values\n",
    "yr=solar2['number_of_solar_system_per_household'].values\n",
    "\n",
    "X_train, X_test, yc_train, yc_test,yr_train,yr_test = train_test_split(X, yc,yr, test_size=0.3, random_state=42)\n",
    "\n",
    "\n",
    "\n",
    "print('training data shape: ',X_train.shape)\n",
    "print('classifier train labels shape: ',yc_train.shape)\n",
    "print('regressor train labels shape: ',yr_train.shape)\n",
    "print('test data shape: ',X_test.shape)\n",
    "print('classifier test labels shape: ',yc_test.shape)\n",
    "print('regressor test labels shape: ',yr_test.shape)"
   ]
  },
  {
   "cell_type": "markdown",
   "metadata": {},
   "source": [
    "## Train the Classifier"
   ]
  },
  {
   "cell_type": "code",
   "execution_count": 18,
   "metadata": {},
   "outputs": [
    {
     "data": {
      "text/plain": [
       "GridSearchCV(cv=3, error_score='raise',\n",
       "       estimator=RandomForestClassifier(bootstrap=True, class_weight=None, criterion='gini',\n",
       "            max_depth=None, max_features='auto', max_leaf_nodes=None,\n",
       "            min_impurity_decrease=0.0, min_impurity_split=None,\n",
       "            min_samples_leaf=1, min_samples_split=2,\n",
       "            min_weight_fraction_leaf=0.0, n_estimators=10, n_jobs=1,\n",
       "            oob_score=False, random_state=None, verbose=0,\n",
       "            warm_start=False),\n",
       "       fit_params=None, iid=True, n_jobs=-1,\n",
       "       param_grid={'max_depth': (15, 20, 30), 'n_estimators': [100, 150, 200]},\n",
       "       pre_dispatch='2*n_jobs', refit=True, return_train_score='warn',\n",
       "       scoring=None, verbose=0)"
      ]
     },
     "execution_count": 18,
     "metadata": {},
     "output_type": "execute_result"
    }
   ],
   "source": [
    "params_dict={'max_depth':(15, 20, 30), 'n_estimators':[100,150,200]}\n",
    "classifier=RandomForestClassifier()\n",
    "clf = GridSearchCV(classifier, params_dict, cv=3,n_jobs=-1)\n",
    "clf.fit(X,yc)"
   ]
  },
  {
   "cell_type": "code",
   "execution_count": 19,
   "metadata": {},
   "outputs": [
    {
     "name": "stderr",
     "output_type": "stream",
     "text": [
      "C:\\Users\\noahw\\Anaconda3\\envs\\ipykernel_py3\\lib\\site-packages\\sklearn\\utils\\deprecation.py:122: FutureWarning: You are accessing a training score ('mean_train_score'), which will not be available by default any more in 0.21. If you need training scores, please set return_train_score=True\n",
      "  warnings.warn(*warn_args, **warn_kwargs)\n",
      "C:\\Users\\noahw\\Anaconda3\\envs\\ipykernel_py3\\lib\\site-packages\\sklearn\\utils\\deprecation.py:122: FutureWarning: You are accessing a training score ('split0_train_score'), which will not be available by default any more in 0.21. If you need training scores, please set return_train_score=True\n",
      "  warnings.warn(*warn_args, **warn_kwargs)\n",
      "C:\\Users\\noahw\\Anaconda3\\envs\\ipykernel_py3\\lib\\site-packages\\sklearn\\utils\\deprecation.py:122: FutureWarning: You are accessing a training score ('split1_train_score'), which will not be available by default any more in 0.21. If you need training scores, please set return_train_score=True\n",
      "  warnings.warn(*warn_args, **warn_kwargs)\n",
      "C:\\Users\\noahw\\Anaconda3\\envs\\ipykernel_py3\\lib\\site-packages\\sklearn\\utils\\deprecation.py:122: FutureWarning: You are accessing a training score ('split2_train_score'), which will not be available by default any more in 0.21. If you need training scores, please set return_train_score=True\n",
      "  warnings.warn(*warn_args, **warn_kwargs)\n",
      "C:\\Users\\noahw\\Anaconda3\\envs\\ipykernel_py3\\lib\\site-packages\\sklearn\\utils\\deprecation.py:122: FutureWarning: You are accessing a training score ('std_train_score'), which will not be available by default any more in 0.21. If you need training scores, please set return_train_score=True\n",
      "  warnings.warn(*warn_args, **warn_kwargs)\n"
     ]
    },
    {
     "data": {
      "text/plain": [
       "{'mean_fit_time': array([  57.39886419,   86.70215297,  118.13012513,   66.8765223 ,\n",
       "         101.37996372,  133.39823429,   69.39873433,   94.48175327,\n",
       "         104.51939106]),\n",
       " 'mean_score_time': array([ 0.60033711,  0.94648743,  1.17688878,  0.7273314 ,  1.00923546,\n",
       "         1.37408272,  0.67787266,  0.87169433,  0.98681275]),\n",
       " 'mean_test_score': array([ 0.76888777,  0.76805172,  0.76876237,  0.7654739 ,  0.76532063,\n",
       "         0.76529276,  0.76268707,  0.76310509,  0.76292395]),\n",
       " 'mean_train_score': array([ 0.94787225,  0.94833905,  0.9480534 ,  0.99036452,  0.99044812,\n",
       "         0.99038542,  0.9999582 ,  0.99997213,  1.        ]),\n",
       " 'param_max_depth': masked_array(data = [15 15 15 20 20 20 30 30 30],\n",
       "              mask = [False False False False False False False False False],\n",
       "        fill_value = ?),\n",
       " 'param_n_estimators': masked_array(data = [100 150 200 100 150 200 100 150 200],\n",
       "              mask = [False False False False False False False False False],\n",
       "        fill_value = ?),\n",
       " 'params': [{'max_depth': 15, 'n_estimators': 100},\n",
       "  {'max_depth': 15, 'n_estimators': 150},\n",
       "  {'max_depth': 15, 'n_estimators': 200},\n",
       "  {'max_depth': 20, 'n_estimators': 100},\n",
       "  {'max_depth': 20, 'n_estimators': 150},\n",
       "  {'max_depth': 20, 'n_estimators': 200},\n",
       "  {'max_depth': 30, 'n_estimators': 100},\n",
       "  {'max_depth': 30, 'n_estimators': 150},\n",
       "  {'max_depth': 30, 'n_estimators': 200}],\n",
       " 'rank_test_score': array([1, 3, 2, 4, 5, 6, 9, 7, 8]),\n",
       " 'split0_test_score': array([ 0.76682552,  0.76594766,  0.76544603,  0.76937547,  0.76699273,\n",
       "         0.76724354,  0.76879023,  0.76728534,  0.76665831]),\n",
       " 'split0_train_score': array([ 0.94760054,  0.94726611,  0.94757963,  0.99071984,  0.99149319,\n",
       "         0.99153499,  1.        ,  1.        ,  1.        ]),\n",
       " 'split1_test_score': array([ 0.76782878,  0.76578045,  0.76778697,  0.76206003,  0.76185102,\n",
       "         0.76126578,  0.76059694,  0.76034612,  0.76105677]),\n",
       " 'split1_train_score': array([ 0.94615835,  0.94609564,  0.9469944 ,  0.98938216,  0.98823259,\n",
       "         0.98771006,  0.9999373 ,  0.9999373 ,  1.        ]),\n",
       " 'split2_test_score': array([ 0.77200903,  0.77242705,  0.77305409,  0.76498621,  0.76711813,\n",
       "         0.76736895,  0.75867402,  0.76168381,  0.76105677]),\n",
       " 'split2_train_score': array([ 0.94985787,  0.95165538,  0.94958616,  0.99099156,  0.99161859,\n",
       "         0.99191121,  0.9999373 ,  0.9999791 ,  1.        ]),\n",
       " 'std_fit_time': array([ 0.90486895,  1.14209179,  0.46805047,  2.25065039,  2.32491081,\n",
       "         1.75700701,  1.29245141,  2.15875334,  0.24362603]),\n",
       " 'std_score_time': array([ 0.04198143,  0.13223163,  0.0605032 ,  0.01899652,  0.06609462,\n",
       "         0.1379299 ,  0.04102133,  0.03071188,  0.04348877]),\n",
       " 'std_test_score': array([ 0.00224474,  0.00309458,  0.00318163,  0.00300636,  0.00245392,\n",
       "         0.00284796,  0.00438641,  0.00300591,  0.00264059]),\n",
       " 'std_train_score': array([  1.52249593e-03,   2.39319201e-03,   1.10984632e-03,\n",
       "          7.03434360e-04,   1.56745533e-03,   1.89799115e-03,\n",
       "          2.95588488e-05,   2.60684543e-05,   0.00000000e+00])}"
      ]
     },
     "execution_count": 19,
     "metadata": {},
     "output_type": "execute_result"
    }
   ],
   "source": [
    "clf.cv_results_"
   ]
  },
  {
   "cell_type": "code",
   "execution_count": 20,
   "metadata": {},
   "outputs": [
    {
     "data": {
      "text/plain": [
       "RandomForestClassifier(bootstrap=True, class_weight=None, criterion='gini',\n",
       "            max_depth=15, max_features='auto', max_leaf_nodes=None,\n",
       "            min_impurity_decrease=0.0, min_impurity_split=None,\n",
       "            min_samples_leaf=1, min_samples_split=2,\n",
       "            min_weight_fraction_leaf=0.0, n_estimators=100, n_jobs=1,\n",
       "            oob_score=False, random_state=None, verbose=0,\n",
       "            warm_start=False)"
      ]
     },
     "execution_count": 20,
     "metadata": {},
     "output_type": "execute_result"
    }
   ],
   "source": [
    "clf.best_estimator_"
   ]
  },
  {
   "cell_type": "code",
   "execution_count": 21,
   "metadata": {},
   "outputs": [
    {
     "data": {
      "text/plain": [
       "0.76888777415489229"
      ]
     },
     "execution_count": 21,
     "metadata": {},
     "output_type": "execute_result"
    }
   ],
   "source": [
    "clf.best_score_"
   ]
  },
  {
   "cell_type": "code",
   "execution_count": 59,
   "metadata": {},
   "outputs": [
    {
     "data": {
      "text/plain": [
       "RandomForestClassifier(bootstrap=True, class_weight=None, criterion='gini',\n",
       "            max_depth=25, max_features='auto', max_leaf_nodes=None,\n",
       "            min_impurity_decrease=0.0, min_impurity_split=None,\n",
       "            min_samples_leaf=1, min_samples_split=2,\n",
       "            min_weight_fraction_leaf=0.0, n_estimators=100, n_jobs=-1,\n",
       "            oob_score=False, random_state=None, verbose=0,\n",
       "            warm_start=False)"
      ]
     },
     "execution_count": 59,
     "metadata": {},
     "output_type": "execute_result"
    }
   ],
   "source": [
    "classifier=RandomForestClassifier(max_depth=25,n_estimators=100, n_jobs=-1)\n",
    "classifier.fit(X_train,yc_train)"
   ]
  },
  {
   "cell_type": "code",
   "execution_count": 60,
   "metadata": {},
   "outputs": [
    {
     "data": {
      "text/plain": [
       "0.80780306549001391"
      ]
     },
     "execution_count": 60,
     "metadata": {},
     "output_type": "execute_result"
    }
   ],
   "source": [
    "classifier.score(X_test,yc_test)"
   ]
  },
  {
   "cell_type": "code",
   "execution_count": 46,
   "metadata": {},
   "outputs": [
    {
     "name": "stdout",
     "output_type": "stream",
     "text": [
      "('population_density', 0.081252234127436582)\n",
      "('heating_fuel_coal_coke_rate', 0.038051572503679791)\n",
      "('housing_unit_median_value', 0.029527141513755323)\n",
      "('race_asian_rate', 0.027728178506559592)\n",
      "('occupancy_vacant_rate', 0.026918870276855203)\n",
      "('housing_unit_median_gross_rent', 0.021552282176967384)\n",
      "('relative_humidity', 0.021169843676909057)\n",
      "('daily_solar_radiation', 0.020809245180654315)\n",
      "('average_household_income', 0.015701815804567931)\n",
      "('education_high_school_graduate_rate', 0.015469313705492782)\n",
      "('occupation_agriculture_rate', 0.015043275885951297)\n",
      "('education_bachelor_rate', 0.014665439525420508)\n",
      "('number_of_years_of_education', 0.01409047921496499)\n",
      "('travel_time_less_than_10_rate', 0.014030473650021483)\n",
      "('transportation_public_rate', 0.013894648541640148)\n",
      "('mortgage_with_rate', 0.013893873208899786)\n",
      "('transportation_car_alone_rate', 0.013598833437498976)\n",
      "('race_white_rate', 0.012816918688231227)\n",
      "('travel_time_10_19_rate', 0.012691837123245609)\n",
      "('occupancy_owner_rate', 0.012511303286344495)\n"
     ]
    }
   ],
   "source": [
    "feature_importances=classifier.feature_importances_\n",
    "features=independent_vars.columns\n",
    "feature_tuples=[(features[i],feature_importances[i]) for i in range(len(features))]\n",
    "sorted_features=sorted(feature_tuples,reverse=True,key=lambda k: k[1])\n",
    "for i in range(0,20):\n",
    "    print(sorted_features[i])"
   ]
  },
  {
   "cell_type": "markdown",
   "metadata": {},
   "source": [
    "### Feature Importances Using Permutation Importance"
   ]
  },
  {
   "cell_type": "code",
   "execution_count": 68,
   "metadata": {
    "collapsed": true
   },
   "outputs": [],
   "source": [
    "import rfpimp as rfp"
   ]
  },
  {
   "cell_type": "code",
   "execution_count": 74,
   "metadata": {},
   "outputs": [
    {
     "data": {
      "text/html": [
       "<div>\n",
       "<style>\n",
       "    .dataframe thead tr:only-child th {\n",
       "        text-align: right;\n",
       "    }\n",
       "\n",
       "    .dataframe thead th {\n",
       "        text-align: left;\n",
       "    }\n",
       "\n",
       "    .dataframe tbody tr th {\n",
       "        vertical-align: top;\n",
       "    }\n",
       "</style>\n",
       "<table border=\"1\" class=\"dataframe\">\n",
       "  <thead>\n",
       "    <tr style=\"text-align: right;\">\n",
       "      <th></th>\n",
       "      <th>Importance</th>\n",
       "    </tr>\n",
       "    <tr>\n",
       "      <th>Feature</th>\n",
       "      <th></th>\n",
       "    </tr>\n",
       "  </thead>\n",
       "  <tbody>\n",
       "    <tr>\n",
       "      <th>population_density</th>\n",
       "      <td>0.0192</td>\n",
       "    </tr>\n",
       "    <tr>\n",
       "      <th>daily_solar_radiation</th>\n",
       "      <td>0.0058</td>\n",
       "    </tr>\n",
       "    <tr>\n",
       "      <th>heating_fuel_coal_coke_rate</th>\n",
       "      <td>0.0052</td>\n",
       "    </tr>\n",
       "    <tr>\n",
       "      <th>relative_humidity</th>\n",
       "      <td>0.0044</td>\n",
       "    </tr>\n",
       "    <tr>\n",
       "      <th>race_asian_rate</th>\n",
       "      <td>0.0042</td>\n",
       "    </tr>\n",
       "    <tr>\n",
       "      <th>race_white_rate</th>\n",
       "      <td>0.0040</td>\n",
       "    </tr>\n",
       "    <tr>\n",
       "      <th>education_high_school_graduate_rate</th>\n",
       "      <td>0.0036</td>\n",
       "    </tr>\n",
       "    <tr>\n",
       "      <th>heating_fuel_electricity_rate</th>\n",
       "      <td>0.0032</td>\n",
       "    </tr>\n",
       "    <tr>\n",
       "      <th>mortgage_with_rate</th>\n",
       "      <td>0.0032</td>\n",
       "    </tr>\n",
       "    <tr>\n",
       "      <th>housing_unit_median_gross_rent</th>\n",
       "      <td>0.0030</td>\n",
       "    </tr>\n",
       "    <tr>\n",
       "      <th>housing_unit_median_value</th>\n",
       "      <td>0.0028</td>\n",
       "    </tr>\n",
       "    <tr>\n",
       "      <th>earth_temperature</th>\n",
       "      <td>0.0028</td>\n",
       "    </tr>\n",
       "    <tr>\n",
       "      <th>occupation_arts_rate</th>\n",
       "      <td>0.0026</td>\n",
       "    </tr>\n",
       "    <tr>\n",
       "      <th>average_household_income</th>\n",
       "      <td>0.0026</td>\n",
       "    </tr>\n",
       "    <tr>\n",
       "      <th>travel_time_20_29_rate</th>\n",
       "      <td>0.0024</td>\n",
       "    </tr>\n",
       "    <tr>\n",
       "      <th>cooling_degree_days</th>\n",
       "      <td>0.0024</td>\n",
       "    </tr>\n",
       "    <tr>\n",
       "      <th>occupation_education_rate</th>\n",
       "      <td>0.0024</td>\n",
       "    </tr>\n",
       "    <tr>\n",
       "      <th>race_black_africa_rate</th>\n",
       "      <td>0.0024</td>\n",
       "    </tr>\n",
       "    <tr>\n",
       "      <th>transportation_car_alone_rate</th>\n",
       "      <td>0.0024</td>\n",
       "    </tr>\n",
       "    <tr>\n",
       "      <th>frost_days</th>\n",
       "      <td>0.0022</td>\n",
       "    </tr>\n",
       "    <tr>\n",
       "      <th>education_doctoral_rate</th>\n",
       "      <td>0.0022</td>\n",
       "    </tr>\n",
       "    <tr>\n",
       "      <th>age_25_34_rate</th>\n",
       "      <td>0.0022</td>\n",
       "    </tr>\n",
       "    <tr>\n",
       "      <th>occupation_manufacturing_rate</th>\n",
       "      <td>0.0020</td>\n",
       "    </tr>\n",
       "    <tr>\n",
       "      <th>occupancy_vacant_rate</th>\n",
       "      <td>0.0020</td>\n",
       "    </tr>\n",
       "    <tr>\n",
       "      <th>voting_2016_dem_percentage</th>\n",
       "      <td>0.0020</td>\n",
       "    </tr>\n",
       "    <tr>\n",
       "      <th>rebate</th>\n",
       "      <td>0.0020</td>\n",
       "    </tr>\n",
       "    <tr>\n",
       "      <th>heating_fuel_gas_rate</th>\n",
       "      <td>0.0018</td>\n",
       "    </tr>\n",
       "    <tr>\n",
       "      <th>occupation_administrative_rate</th>\n",
       "      <td>0.0016</td>\n",
       "    </tr>\n",
       "    <tr>\n",
       "      <th>air_temperature</th>\n",
       "      <td>0.0016</td>\n",
       "    </tr>\n",
       "    <tr>\n",
       "      <th>avg_electricity_retail_rate</th>\n",
       "      <td>0.0016</td>\n",
       "    </tr>\n",
       "    <tr>\n",
       "      <th>...</th>\n",
       "      <td>...</td>\n",
       "    </tr>\n",
       "    <tr>\n",
       "      <th>age_35_44_rate</th>\n",
       "      <td>0.0000</td>\n",
       "    </tr>\n",
       "    <tr>\n",
       "      <th>heating_fuel_other_rate</th>\n",
       "      <td>0.0000</td>\n",
       "    </tr>\n",
       "    <tr>\n",
       "      <th>heating_fuel_solar_rate</th>\n",
       "      <td>0.0000</td>\n",
       "    </tr>\n",
       "    <tr>\n",
       "      <th>education_college_rate</th>\n",
       "      <td>0.0000</td>\n",
       "    </tr>\n",
       "    <tr>\n",
       "      <th>travel_time_60_89_rate</th>\n",
       "      <td>0.0000</td>\n",
       "    </tr>\n",
       "    <tr>\n",
       "      <th>occupation_agriculture_rate</th>\n",
       "      <td>0.0000</td>\n",
       "    </tr>\n",
       "    <tr>\n",
       "      <th>average_household_size</th>\n",
       "      <td>0.0000</td>\n",
       "    </tr>\n",
       "    <tr>\n",
       "      <th>cooperate_tax</th>\n",
       "      <td>-0.0002</td>\n",
       "    </tr>\n",
       "    <tr>\n",
       "      <th>employ_rate</th>\n",
       "      <td>-0.0002</td>\n",
       "    </tr>\n",
       "    <tr>\n",
       "      <th>travel_time_less_than_10_rate</th>\n",
       "      <td>-0.0002</td>\n",
       "    </tr>\n",
       "    <tr>\n",
       "      <th>dropout_16_19_inschool_rate</th>\n",
       "      <td>-0.0002</td>\n",
       "    </tr>\n",
       "    <tr>\n",
       "      <th>age_10_14_rate</th>\n",
       "      <td>-0.0004</td>\n",
       "    </tr>\n",
       "    <tr>\n",
       "      <th>education_professional_school_rate</th>\n",
       "      <td>-0.0004</td>\n",
       "    </tr>\n",
       "    <tr>\n",
       "      <th>elevation</th>\n",
       "      <td>-0.0004</td>\n",
       "    </tr>\n",
       "    <tr>\n",
       "      <th>transportation_public_rate</th>\n",
       "      <td>-0.0006</td>\n",
       "    </tr>\n",
       "    <tr>\n",
       "      <th>race_two_more_rate</th>\n",
       "      <td>-0.0006</td>\n",
       "    </tr>\n",
       "    <tr>\n",
       "      <th>wind_speed</th>\n",
       "      <td>-0.0006</td>\n",
       "    </tr>\n",
       "    <tr>\n",
       "      <th>net_metering</th>\n",
       "      <td>-0.0006</td>\n",
       "    </tr>\n",
       "    <tr>\n",
       "      <th>occupation_retail_rate</th>\n",
       "      <td>-0.0006</td>\n",
       "    </tr>\n",
       "    <tr>\n",
       "      <th>age_median</th>\n",
       "      <td>-0.0008</td>\n",
       "    </tr>\n",
       "    <tr>\n",
       "      <th>travel_time_average</th>\n",
       "      <td>-0.0008</td>\n",
       "    </tr>\n",
       "    <tr>\n",
       "      <th>age_15_17_rate</th>\n",
       "      <td>-0.0008</td>\n",
       "    </tr>\n",
       "    <tr>\n",
       "      <th>heating_fuel_none_rate</th>\n",
       "      <td>-0.0008</td>\n",
       "    </tr>\n",
       "    <tr>\n",
       "      <th>travel_time_10_19_rate</th>\n",
       "      <td>-0.0010</td>\n",
       "    </tr>\n",
       "    <tr>\n",
       "      <th>transportation_motorcycle_rate</th>\n",
       "      <td>-0.0010</td>\n",
       "    </tr>\n",
       "    <tr>\n",
       "      <th>age_18_24_rate</th>\n",
       "      <td>-0.0010</td>\n",
       "    </tr>\n",
       "    <tr>\n",
       "      <th>education_bachelor_rate</th>\n",
       "      <td>-0.0012</td>\n",
       "    </tr>\n",
       "    <tr>\n",
       "      <th>transportation_home_rate</th>\n",
       "      <td>-0.0014</td>\n",
       "    </tr>\n",
       "    <tr>\n",
       "      <th>heating_fuel_fuel_oil_kerosene_rate</th>\n",
       "      <td>-0.0018</td>\n",
       "    </tr>\n",
       "    <tr>\n",
       "      <th>number_of_years_of_education</th>\n",
       "      <td>-0.0020</td>\n",
       "    </tr>\n",
       "  </tbody>\n",
       "</table>\n",
       "<p>95 rows × 1 columns</p>\n",
       "</div>"
      ],
      "text/plain": [
       "                                     Importance\n",
       "Feature                                        \n",
       "population_density                       0.0192\n",
       "daily_solar_radiation                    0.0058\n",
       "heating_fuel_coal_coke_rate              0.0052\n",
       "relative_humidity                        0.0044\n",
       "race_asian_rate                          0.0042\n",
       "race_white_rate                          0.0040\n",
       "education_high_school_graduate_rate      0.0036\n",
       "heating_fuel_electricity_rate            0.0032\n",
       "mortgage_with_rate                       0.0032\n",
       "housing_unit_median_gross_rent           0.0030\n",
       "housing_unit_median_value                0.0028\n",
       "earth_temperature                        0.0028\n",
       "occupation_arts_rate                     0.0026\n",
       "average_household_income                 0.0026\n",
       "travel_time_20_29_rate                   0.0024\n",
       "cooling_degree_days                      0.0024\n",
       "occupation_education_rate                0.0024\n",
       "race_black_africa_rate                   0.0024\n",
       "transportation_car_alone_rate            0.0024\n",
       "frost_days                               0.0022\n",
       "education_doctoral_rate                  0.0022\n",
       "age_25_34_rate                           0.0022\n",
       "occupation_manufacturing_rate            0.0020\n",
       "occupancy_vacant_rate                    0.0020\n",
       "voting_2016_dem_percentage               0.0020\n",
       "rebate                                   0.0020\n",
       "heating_fuel_gas_rate                    0.0018\n",
       "occupation_administrative_rate           0.0016\n",
       "air_temperature                          0.0016\n",
       "avg_electricity_retail_rate              0.0016\n",
       "...                                         ...\n",
       "age_35_44_rate                           0.0000\n",
       "heating_fuel_other_rate                  0.0000\n",
       "heating_fuel_solar_rate                  0.0000\n",
       "education_college_rate                   0.0000\n",
       "travel_time_60_89_rate                   0.0000\n",
       "occupation_agriculture_rate              0.0000\n",
       "average_household_size                   0.0000\n",
       "cooperate_tax                           -0.0002\n",
       "employ_rate                             -0.0002\n",
       "travel_time_less_than_10_rate           -0.0002\n",
       "dropout_16_19_inschool_rate             -0.0002\n",
       "age_10_14_rate                          -0.0004\n",
       "education_professional_school_rate      -0.0004\n",
       "elevation                               -0.0004\n",
       "transportation_public_rate              -0.0006\n",
       "race_two_more_rate                      -0.0006\n",
       "wind_speed                              -0.0006\n",
       "net_metering                            -0.0006\n",
       "occupation_retail_rate                  -0.0006\n",
       "age_median                              -0.0008\n",
       "travel_time_average                     -0.0008\n",
       "age_15_17_rate                          -0.0008\n",
       "heating_fuel_none_rate                  -0.0008\n",
       "travel_time_10_19_rate                  -0.0010\n",
       "transportation_motorcycle_rate          -0.0010\n",
       "age_18_24_rate                          -0.0010\n",
       "education_bachelor_rate                 -0.0012\n",
       "transportation_home_rate                -0.0014\n",
       "heating_fuel_fuel_oil_kerosene_rate     -0.0018\n",
       "number_of_years_of_education            -0.0020\n",
       "\n",
       "[95 rows x 1 columns]"
      ]
     },
     "execution_count": 74,
     "metadata": {},
     "output_type": "execute_result"
    }
   ],
   "source": [
    "rfp.importances(classifier,pd.DataFrame(X_test,columns=features),pd.DataFrame(yc_test,columns=['solar_flag']))"
   ]
  },
  {
   "cell_type": "markdown",
   "metadata": {},
   "source": [
    "## Train the Regressor"
   ]
  },
  {
   "cell_type": "code",
   "execution_count": 26,
   "metadata": {},
   "outputs": [
    {
     "data": {
      "text/plain": [
       "GridSearchCV(cv=3, error_score='raise',\n",
       "       estimator=RandomForestRegressor(bootstrap=True, criterion='mse', max_depth=None,\n",
       "           max_features='auto', max_leaf_nodes=None,\n",
       "           min_impurity_decrease=0.0, min_impurity_split=None,\n",
       "           min_samples_leaf=1, min_samples_split=2,\n",
       "           min_weight_fraction_leaf=0.0, n_estimators=10, n_jobs=1,\n",
       "           oob_score=False, random_state=None, verbose=0, warm_start=False),\n",
       "       fit_params=None, iid=True, n_jobs=-1,\n",
       "       param_grid={'max_depth': (None, 10, 15, 20), 'n_estimators': [100, 150, 200]},\n",
       "       pre_dispatch='2*n_jobs', refit=True, return_train_score='warn',\n",
       "       scoring=None, verbose=0)"
      ]
     },
     "execution_count": 26,
     "metadata": {},
     "output_type": "execute_result"
    }
   ],
   "source": [
    "params_dict={'max_depth':(None, 10, 15,20), 'n_estimators':[100,150,200]}\n",
    "regressor=RandomForestRegressor()\n",
    "clf_r = GridSearchCV(regressor, params_dict, cv=3,n_jobs=-1)\n",
    "clf_r.fit(X,yr)"
   ]
  },
  {
   "cell_type": "code",
   "execution_count": 27,
   "metadata": {},
   "outputs": [
    {
     "data": {
      "text/plain": [
       "RandomForestRegressor(bootstrap=True, criterion='mse', max_depth=None,\n",
       "           max_features='auto', max_leaf_nodes=None,\n",
       "           min_impurity_decrease=0.0, min_impurity_split=None,\n",
       "           min_samples_leaf=1, min_samples_split=2,\n",
       "           min_weight_fraction_leaf=0.0, n_estimators=150, n_jobs=1,\n",
       "           oob_score=False, random_state=None, verbose=0, warm_start=False)"
      ]
     },
     "execution_count": 27,
     "metadata": {},
     "output_type": "execute_result"
    }
   ],
   "source": [
    "clf_r.best_estimator_"
   ]
  },
  {
   "cell_type": "code",
   "execution_count": 28,
   "metadata": {},
   "outputs": [
    {
     "data": {
      "text/plain": [
       "0.18329555143788012"
      ]
     },
     "execution_count": 28,
     "metadata": {},
     "output_type": "execute_result"
    }
   ],
   "source": [
    "clf_r.best_score_"
   ]
  },
  {
   "cell_type": "code",
   "execution_count": 47,
   "metadata": {},
   "outputs": [
    {
     "data": {
      "text/plain": [
       "RandomForestRegressor(bootstrap=True, criterion='mse', max_depth=None,\n",
       "           max_features='auto', max_leaf_nodes=None,\n",
       "           min_impurity_decrease=0.0, min_impurity_split=None,\n",
       "           min_samples_leaf=1, min_samples_split=2,\n",
       "           min_weight_fraction_leaf=0.0, n_estimators=150, n_jobs=-1,\n",
       "           oob_score=False, random_state=None, verbose=0, warm_start=False)"
      ]
     },
     "execution_count": 47,
     "metadata": {},
     "output_type": "execute_result"
    }
   ],
   "source": [
    "regressor=RandomForestRegressor(max_depth=None,n_estimators=150,n_jobs=-1)\n",
    "regressor.fit(X_train,yr_train)"
   ]
  },
  {
   "cell_type": "code",
   "execution_count": 48,
   "metadata": {},
   "outputs": [
    {
     "data": {
      "text/plain": [
       "0.42004730465774254"
      ]
     },
     "execution_count": 48,
     "metadata": {},
     "output_type": "execute_result"
    }
   ],
   "source": [
    "regressor.score(X_test,yr_test)"
   ]
  },
  {
   "cell_type": "markdown",
   "metadata": {},
   "source": [
    "## Feature Importances"
   ]
  },
  {
   "cell_type": "code",
   "execution_count": 49,
   "metadata": {},
   "outputs": [
    {
     "name": "stdout",
     "output_type": "stream",
     "text": [
      "('age_more_than_85_rate', 0.12340178299804885)\n",
      "('daily_solar_radiation', 0.10938378764856163)\n",
      "('occupation_manufacturing_rate', 0.072060978504967413)\n",
      "('age_25_34_rate', 0.052780783428892357)\n",
      "('occupancy_owner_rate', 0.049191561545301597)\n",
      "('education_high_school_graduate_rate', 0.036289482315891887)\n",
      "('population_density', 0.028523913274468439)\n",
      "('average_household_income', 0.021746736678951235)\n",
      "('health_insurance_public_rate', 0.021060905285102034)\n",
      "('occupation_construction_rate', 0.019733963219661345)\n",
      "('household_type_family_rate', 0.016788052288447083)\n",
      "('heating_fuel_gas_rate', 0.015048545899773138)\n",
      "('avg_electricity_retail_rate', 0.014535654871655907)\n",
      "('net_metering', 0.014532832357603071)\n",
      "('frost_days', 0.014372983119111954)\n",
      "('education_college_rate', 0.013505286712900967)\n",
      "('voting_2016_dem_percentage', 0.012535762852915381)\n",
      "('relative_humidity', 0.011840709674098204)\n",
      "('earth_temperature_amplitude', 0.011675508850153013)\n",
      "('average_household_size', 0.011554550068678001)\n"
     ]
    }
   ],
   "source": [
    "feature_importances=regressor.feature_importances_\n",
    "features=independent_vars.columns\n",
    "feature_tuples=[(features[i],feature_importances[i]) for i in range(len(features))]\n",
    "sorted_features=sorted(feature_tuples,reverse=True,key=lambda k: k[1])\n",
    "for i in range(0,20):\n",
    "    print(sorted_features[i])"
   ]
  },
  {
   "cell_type": "markdown",
   "metadata": {},
   "source": [
    "### Feature Importances Using Permutation Importance Calculation"
   ]
  },
  {
   "cell_type": "code",
   "execution_count": 75,
   "metadata": {},
   "outputs": [
    {
     "data": {
      "text/html": [
       "<div>\n",
       "<style>\n",
       "    .dataframe thead tr:only-child th {\n",
       "        text-align: right;\n",
       "    }\n",
       "\n",
       "    .dataframe thead th {\n",
       "        text-align: left;\n",
       "    }\n",
       "\n",
       "    .dataframe tbody tr th {\n",
       "        vertical-align: top;\n",
       "    }\n",
       "</style>\n",
       "<table border=\"1\" class=\"dataframe\">\n",
       "  <thead>\n",
       "    <tr style=\"text-align: right;\">\n",
       "      <th></th>\n",
       "      <th>Importance</th>\n",
       "    </tr>\n",
       "    <tr>\n",
       "      <th>Feature</th>\n",
       "      <th></th>\n",
       "    </tr>\n",
       "  </thead>\n",
       "  <tbody>\n",
       "    <tr>\n",
       "      <th>age_more_than_85_rate</th>\n",
       "      <td>0.542441</td>\n",
       "    </tr>\n",
       "    <tr>\n",
       "      <th>daily_solar_radiation</th>\n",
       "      <td>0.197658</td>\n",
       "    </tr>\n",
       "    <tr>\n",
       "      <th>frost_days</th>\n",
       "      <td>0.082486</td>\n",
       "    </tr>\n",
       "    <tr>\n",
       "      <th>education_high_school_graduate_rate</th>\n",
       "      <td>0.074044</td>\n",
       "    </tr>\n",
       "    <tr>\n",
       "      <th>average_household_income</th>\n",
       "      <td>0.052126</td>\n",
       "    </tr>\n",
       "    <tr>\n",
       "      <th>occupancy_owner_rate</th>\n",
       "      <td>0.051699</td>\n",
       "    </tr>\n",
       "    <tr>\n",
       "      <th>population_density</th>\n",
       "      <td>0.043091</td>\n",
       "    </tr>\n",
       "    <tr>\n",
       "      <th>health_insurance_public_rate</th>\n",
       "      <td>0.036169</td>\n",
       "    </tr>\n",
       "    <tr>\n",
       "      <th>education_college_rate</th>\n",
       "      <td>0.029778</td>\n",
       "    </tr>\n",
       "    <tr>\n",
       "      <th>heating_fuel_gas_rate</th>\n",
       "      <td>0.026034</td>\n",
       "    </tr>\n",
       "    <tr>\n",
       "      <th>household_type_family_rate</th>\n",
       "      <td>0.022956</td>\n",
       "    </tr>\n",
       "    <tr>\n",
       "      <th>avg_electricity_retail_rate</th>\n",
       "      <td>0.021803</td>\n",
       "    </tr>\n",
       "    <tr>\n",
       "      <th>relative_humidity</th>\n",
       "      <td>0.020788</td>\n",
       "    </tr>\n",
       "    <tr>\n",
       "      <th>mortgage_with_rate</th>\n",
       "      <td>0.020019</td>\n",
       "    </tr>\n",
       "    <tr>\n",
       "      <th>voting_2016_gop_percentage</th>\n",
       "      <td>0.017849</td>\n",
       "    </tr>\n",
       "    <tr>\n",
       "      <th>occupation_administrative_rate</th>\n",
       "      <td>0.015306</td>\n",
       "    </tr>\n",
       "    <tr>\n",
       "      <th>earth_temperature</th>\n",
       "      <td>0.014369</td>\n",
       "    </tr>\n",
       "    <tr>\n",
       "      <th>age_75_84_rate</th>\n",
       "      <td>0.013246</td>\n",
       "    </tr>\n",
       "    <tr>\n",
       "      <th>occupation_manufacturing_rate</th>\n",
       "      <td>0.010802</td>\n",
       "    </tr>\n",
       "    <tr>\n",
       "      <th>voting_2016_dem_percentage</th>\n",
       "      <td>0.010530</td>\n",
       "    </tr>\n",
       "    <tr>\n",
       "      <th>age_median</th>\n",
       "      <td>0.006864</td>\n",
       "    </tr>\n",
       "    <tr>\n",
       "      <th>race_black_africa_rate</th>\n",
       "      <td>0.006847</td>\n",
       "    </tr>\n",
       "    <tr>\n",
       "      <th>earth_temperature_amplitude</th>\n",
       "      <td>0.006569</td>\n",
       "    </tr>\n",
       "    <tr>\n",
       "      <th>age_18_24_rate</th>\n",
       "      <td>0.006277</td>\n",
       "    </tr>\n",
       "    <tr>\n",
       "      <th>occupancy_vacant_rate</th>\n",
       "      <td>0.006059</td>\n",
       "    </tr>\n",
       "    <tr>\n",
       "      <th>net_metering</th>\n",
       "      <td>0.005974</td>\n",
       "    </tr>\n",
       "    <tr>\n",
       "      <th>housing_unit_median_value</th>\n",
       "      <td>0.005187</td>\n",
       "    </tr>\n",
       "    <tr>\n",
       "      <th>heating_fuel_electricity_rate</th>\n",
       "      <td>0.005014</td>\n",
       "    </tr>\n",
       "    <tr>\n",
       "      <th>housing_unit_median_gross_rent</th>\n",
       "      <td>0.004705</td>\n",
       "    </tr>\n",
       "    <tr>\n",
       "      <th>transportation_car_alone_rate</th>\n",
       "      <td>0.004543</td>\n",
       "    </tr>\n",
       "    <tr>\n",
       "      <th>...</th>\n",
       "      <td>...</td>\n",
       "    </tr>\n",
       "    <tr>\n",
       "      <th>transportation_walk_rate</th>\n",
       "      <td>0.000261</td>\n",
       "    </tr>\n",
       "    <tr>\n",
       "      <th>heating_fuel_none_rate</th>\n",
       "      <td>0.000127</td>\n",
       "    </tr>\n",
       "    <tr>\n",
       "      <th>occupation_transportation_rate</th>\n",
       "      <td>-0.000135</td>\n",
       "    </tr>\n",
       "    <tr>\n",
       "      <th>age_45_54_rate</th>\n",
       "      <td>-0.000176</td>\n",
       "    </tr>\n",
       "    <tr>\n",
       "      <th>transportation_bicycle_rate</th>\n",
       "      <td>-0.000257</td>\n",
       "    </tr>\n",
       "    <tr>\n",
       "      <th>occupation_education_rate</th>\n",
       "      <td>-0.000453</td>\n",
       "    </tr>\n",
       "    <tr>\n",
       "      <th>employ_rate</th>\n",
       "      <td>-0.000506</td>\n",
       "    </tr>\n",
       "    <tr>\n",
       "      <th>education_bachelor_rate</th>\n",
       "      <td>-0.001086</td>\n",
       "    </tr>\n",
       "    <tr>\n",
       "      <th>occupation_retail_rate</th>\n",
       "      <td>-0.001196</td>\n",
       "    </tr>\n",
       "    <tr>\n",
       "      <th>heating_fuel_other_rate</th>\n",
       "      <td>-0.001284</td>\n",
       "    </tr>\n",
       "    <tr>\n",
       "      <th>health_insurance_none_rate</th>\n",
       "      <td>-0.001349</td>\n",
       "    </tr>\n",
       "    <tr>\n",
       "      <th>education_master_rate</th>\n",
       "      <td>-0.001446</td>\n",
       "    </tr>\n",
       "    <tr>\n",
       "      <th>race_indian_alaska_rate</th>\n",
       "      <td>-0.001667</td>\n",
       "    </tr>\n",
       "    <tr>\n",
       "      <th>age_15_17_rate</th>\n",
       "      <td>-0.001703</td>\n",
       "    </tr>\n",
       "    <tr>\n",
       "      <th>education_professional_school_rate</th>\n",
       "      <td>-0.002247</td>\n",
       "    </tr>\n",
       "    <tr>\n",
       "      <th>occupation_public_rate</th>\n",
       "      <td>-0.002391</td>\n",
       "    </tr>\n",
       "    <tr>\n",
       "      <th>age_65_74_rate</th>\n",
       "      <td>-0.002530</td>\n",
       "    </tr>\n",
       "    <tr>\n",
       "      <th>race_islander_rate</th>\n",
       "      <td>-0.002740</td>\n",
       "    </tr>\n",
       "    <tr>\n",
       "      <th>occupation_agriculture_rate</th>\n",
       "      <td>-0.003573</td>\n",
       "    </tr>\n",
       "    <tr>\n",
       "      <th>occupation_wholesale_rate</th>\n",
       "      <td>-0.003778</td>\n",
       "    </tr>\n",
       "    <tr>\n",
       "      <th>occupation_finance_rate</th>\n",
       "      <td>-0.004096</td>\n",
       "    </tr>\n",
       "    <tr>\n",
       "      <th>transportation_carpool_rate</th>\n",
       "      <td>-0.004663</td>\n",
       "    </tr>\n",
       "    <tr>\n",
       "      <th>occupation_construction_rate</th>\n",
       "      <td>-0.004926</td>\n",
       "    </tr>\n",
       "    <tr>\n",
       "      <th>poverty_family_below_poverty_level_rate</th>\n",
       "      <td>-0.005069</td>\n",
       "    </tr>\n",
       "    <tr>\n",
       "      <th>age_25_34_rate</th>\n",
       "      <td>-0.005299</td>\n",
       "    </tr>\n",
       "    <tr>\n",
       "      <th>age_10_14_rate</th>\n",
       "      <td>-0.005589</td>\n",
       "    </tr>\n",
       "    <tr>\n",
       "      <th>age_55_64_rate</th>\n",
       "      <td>-0.005604</td>\n",
       "    </tr>\n",
       "    <tr>\n",
       "      <th>travel_time_average</th>\n",
       "      <td>-0.010041</td>\n",
       "    </tr>\n",
       "    <tr>\n",
       "      <th>age_35_44_rate</th>\n",
       "      <td>-0.018826</td>\n",
       "    </tr>\n",
       "    <tr>\n",
       "      <th>property_tax</th>\n",
       "      <td>-0.019849</td>\n",
       "    </tr>\n",
       "  </tbody>\n",
       "</table>\n",
       "<p>95 rows × 1 columns</p>\n",
       "</div>"
      ],
      "text/plain": [
       "                                         Importance\n",
       "Feature                                            \n",
       "age_more_than_85_rate                      0.542441\n",
       "daily_solar_radiation                      0.197658\n",
       "frost_days                                 0.082486\n",
       "education_high_school_graduate_rate        0.074044\n",
       "average_household_income                   0.052126\n",
       "occupancy_owner_rate                       0.051699\n",
       "population_density                         0.043091\n",
       "health_insurance_public_rate               0.036169\n",
       "education_college_rate                     0.029778\n",
       "heating_fuel_gas_rate                      0.026034\n",
       "household_type_family_rate                 0.022956\n",
       "avg_electricity_retail_rate                0.021803\n",
       "relative_humidity                          0.020788\n",
       "mortgage_with_rate                         0.020019\n",
       "voting_2016_gop_percentage                 0.017849\n",
       "occupation_administrative_rate             0.015306\n",
       "earth_temperature                          0.014369\n",
       "age_75_84_rate                             0.013246\n",
       "occupation_manufacturing_rate              0.010802\n",
       "voting_2016_dem_percentage                 0.010530\n",
       "age_median                                 0.006864\n",
       "race_black_africa_rate                     0.006847\n",
       "earth_temperature_amplitude                0.006569\n",
       "age_18_24_rate                             0.006277\n",
       "occupancy_vacant_rate                      0.006059\n",
       "net_metering                               0.005974\n",
       "housing_unit_median_value                  0.005187\n",
       "heating_fuel_electricity_rate              0.005014\n",
       "housing_unit_median_gross_rent             0.004705\n",
       "transportation_car_alone_rate              0.004543\n",
       "...                                             ...\n",
       "transportation_walk_rate                   0.000261\n",
       "heating_fuel_none_rate                     0.000127\n",
       "occupation_transportation_rate            -0.000135\n",
       "age_45_54_rate                            -0.000176\n",
       "transportation_bicycle_rate               -0.000257\n",
       "occupation_education_rate                 -0.000453\n",
       "employ_rate                               -0.000506\n",
       "education_bachelor_rate                   -0.001086\n",
       "occupation_retail_rate                    -0.001196\n",
       "heating_fuel_other_rate                   -0.001284\n",
       "health_insurance_none_rate                -0.001349\n",
       "education_master_rate                     -0.001446\n",
       "race_indian_alaska_rate                   -0.001667\n",
       "age_15_17_rate                            -0.001703\n",
       "education_professional_school_rate        -0.002247\n",
       "occupation_public_rate                    -0.002391\n",
       "age_65_74_rate                            -0.002530\n",
       "race_islander_rate                        -0.002740\n",
       "occupation_agriculture_rate               -0.003573\n",
       "occupation_wholesale_rate                 -0.003778\n",
       "occupation_finance_rate                   -0.004096\n",
       "transportation_carpool_rate               -0.004663\n",
       "occupation_construction_rate              -0.004926\n",
       "poverty_family_below_poverty_level_rate   -0.005069\n",
       "age_25_34_rate                            -0.005299\n",
       "age_10_14_rate                            -0.005589\n",
       "age_55_64_rate                            -0.005604\n",
       "travel_time_average                       -0.010041\n",
       "age_35_44_rate                            -0.018826\n",
       "property_tax                              -0.019849\n",
       "\n",
       "[95 rows x 1 columns]"
      ]
     },
     "execution_count": 75,
     "metadata": {},
     "output_type": "execute_result"
    }
   ],
   "source": [
    "rfp.importances(regressor,pd.DataFrame(X_test,columns=features),pd.DataFrame(yr_test,columns=['number_of_solar_system_per_household']))"
   ]
  },
  {
   "cell_type": "markdown",
   "metadata": {},
   "source": [
    "## Put it all Together"
   ]
  },
  {
   "cell_type": "code",
   "execution_count": 50,
   "metadata": {},
   "outputs": [
    {
     "data": {
      "text/plain": [
       "array([1, 1, 1, 1, 0, 1, 1, 0, 1, 1, 1, 1, 1, 0, 0, 1, 1, 1, 1, 0, 0, 1, 1,\n",
       "       1, 1, 0, 1, 1, 1, 1, 1, 0, 1, 1, 1, 1, 1, 0, 0, 0, 0, 1, 1, 1, 1, 1,\n",
       "       0, 1, 1, 0, 1, 1, 1, 1, 1, 1, 1, 1, 0, 1, 1, 1, 1, 1, 1, 1, 1, 0, 1,\n",
       "       1, 1, 1, 1, 1, 1, 1, 1, 1, 0, 1, 1, 1, 1, 0, 1, 0, 1, 0, 1, 1, 1, 1,\n",
       "       1, 1, 1, 0, 1, 1, 1, 1], dtype=int64)"
      ]
     },
     "execution_count": 50,
     "metadata": {},
     "output_type": "execute_result"
    }
   ],
   "source": [
    "classifier_preds=classifier.predict(X_test)\n",
    "classifier_preds[0:100]"
   ]
  },
  {
   "cell_type": "code",
   "execution_count": 51,
   "metadata": {},
   "outputs": [
    {
     "data": {
      "text/plain": [
       "array([  7.63184897e-04,   3.41643126e-02,   5.21087440e-03,\n",
       "         7.13294700e-04,   2.37500290e-04,   3.43188241e-03,\n",
       "         1.17781383e-01,   2.49495925e-02,   8.44087353e-02,\n",
       "         2.67774639e-02,   1.14458618e-03,   1.62076189e-03,\n",
       "         1.32853109e-03,   1.58408605e-04,   4.61278267e-04,\n",
       "         1.41956532e-02,   4.43256144e-02,   2.05605951e-02,\n",
       "         6.46131704e-03,   5.28030101e-04,   3.56837311e-04,\n",
       "         1.22059497e-01,   9.71670656e-03,   1.14557943e-02,\n",
       "         1.78388322e-03,   9.55865575e-04,   3.58159138e-03,\n",
       "         1.74140911e-03,   6.91442337e-03,   1.81767574e-03,\n",
       "         2.58797171e-03,   6.05078847e-04,   2.92438016e-03,\n",
       "         3.37513101e-03,   4.90853281e-03,   3.15760312e-02,\n",
       "         4.68645328e-02,   2.79124037e-04,   5.12004947e-03,\n",
       "         8.63487099e-05,   4.84770551e-04,   3.09784420e-03,\n",
       "         1.53632904e-03,   1.76749954e-03,   1.81397409e-03,\n",
       "         5.85976582e-02,   4.60087820e-04,   1.95697066e-02,\n",
       "         8.12572525e-04,   4.60456567e-04,   1.28047863e-03,\n",
       "         1.87408951e-02,   1.64538962e-03,   1.67300503e-03,\n",
       "         5.55060618e-03,   1.64612674e-03,   4.86662165e-02,\n",
       "         1.28130818e-02,   8.21395713e-04,   1.21752246e-03,\n",
       "         7.10130698e-02,   1.50400715e-02,   3.57625664e-02,\n",
       "         1.27572742e-03,   2.98408787e-03,   7.01924257e-04,\n",
       "         1.30200028e-03,   4.17974333e-04,   2.94002332e-01,\n",
       "         7.63088634e-04,   1.26237798e-03,   4.34472605e-03,\n",
       "         5.08316648e-03,   9.17909425e-03,   1.29341986e-02,\n",
       "         1.09596576e-03,   2.13136763e-03,   1.65373364e-03,\n",
       "         4.54561471e-04,   3.90357388e-03,   6.93205597e-03,\n",
       "         4.64245801e-02,   6.63465761e-04,   6.05610918e-04,\n",
       "         8.64091195e-02,   2.63985650e-04,   3.82775609e-03,\n",
       "         5.14053161e-04,   1.01196858e-03,   1.10761857e-03,\n",
       "         5.16052722e-03,   1.84703920e-02,   1.08830028e-03,\n",
       "         5.94632816e-03,   5.65841476e-02,   2.73987598e-04,\n",
       "         3.30778754e-03,   5.26949281e-02,   9.94024738e-04,\n",
       "         5.77552819e-02])"
      ]
     },
     "execution_count": 51,
     "metadata": {},
     "output_type": "execute_result"
    }
   ],
   "source": [
    "regressor_preds=regressor.predict(X_test)\n",
    "regressor_preds[0:100]"
   ]
  },
  {
   "cell_type": "code",
   "execution_count": 52,
   "metadata": {},
   "outputs": [
    {
     "data": {
      "text/plain": [
       "array([ 0.00076318,  0.03416431,  0.00521087,  0.00071329,  0.        ,\n",
       "        0.00343188,  0.11778138,  0.        ,  0.08440874,  0.02677746,\n",
       "        0.00114459,  0.00162076,  0.00132853,  0.        ,  0.        ,\n",
       "        0.01419565,  0.04432561,  0.0205606 ,  0.00646132,  0.        ,\n",
       "        0.        ,  0.1220595 ,  0.00971671,  0.01145579,  0.00178388,\n",
       "        0.        ,  0.00358159,  0.00174141,  0.00691442,  0.00181768,\n",
       "        0.00258797,  0.        ,  0.00292438,  0.00337513,  0.00490853,\n",
       "        0.03157603,  0.04686453,  0.        ,  0.        ,  0.        ,\n",
       "        0.        ,  0.00309784,  0.00153633,  0.0017675 ,  0.00181397,\n",
       "        0.05859766,  0.        ,  0.01956971,  0.00081257,  0.        ,\n",
       "        0.00128048,  0.0187409 ,  0.00164539,  0.00167301,  0.00555061,\n",
       "        0.00164613,  0.04866622,  0.01281308,  0.        ,  0.00121752,\n",
       "        0.07101307,  0.01504007,  0.03576257,  0.00127573,  0.00298409,\n",
       "        0.00070192,  0.001302  ,  0.        ,  0.29400233,  0.00076309,\n",
       "        0.00126238,  0.00434473,  0.00508317,  0.00917909,  0.0129342 ,\n",
       "        0.00109597,  0.00213137,  0.00165373,  0.        ,  0.00390357,\n",
       "        0.00693206,  0.04642458,  0.00066347,  0.        ,  0.08640912,\n",
       "        0.        ,  0.00382776,  0.        ,  0.00101197,  0.00110762,\n",
       "        0.00516053,  0.01847039,  0.0010883 ,  0.00594633,  0.05658415,\n",
       "        0.        ,  0.00330779,  0.05269493,  0.00099402,  0.05775528])"
      ]
     },
     "execution_count": 52,
     "metadata": {},
     "output_type": "execute_result"
    }
   ],
   "source": [
    "final_preds=regressor_preds*classifier_preds\n",
    "final_preds[0:100]"
   ]
  },
  {
   "cell_type": "code",
   "execution_count": 53,
   "metadata": {
    "collapsed": true
   },
   "outputs": [],
   "source": [
    "from sklearn.metrics import r2_score"
   ]
  },
  {
   "cell_type": "code",
   "execution_count": 36,
   "metadata": {},
   "outputs": [
    {
     "data": {
      "text/plain": [
       "(21530,)"
      ]
     },
     "execution_count": 36,
     "metadata": {},
     "output_type": "execute_result"
    }
   ],
   "source": [
    "yr_test.shape"
   ]
  },
  {
   "cell_type": "code",
   "execution_count": 37,
   "metadata": {},
   "outputs": [
    {
     "data": {
      "text/plain": [
       "(71766,)"
      ]
     },
     "execution_count": 37,
     "metadata": {},
     "output_type": "execute_result"
    }
   ],
   "source": [
    "final_preds.shape"
   ]
  },
  {
   "cell_type": "code",
   "execution_count": 54,
   "metadata": {},
   "outputs": [
    {
     "data": {
      "text/plain": [
       "0.42418118368511337"
      ]
     },
     "execution_count": 54,
     "metadata": {},
     "output_type": "execute_result"
    }
   ],
   "source": [
    "r2_score(yr_test,final_preds)"
   ]
  },
  {
   "cell_type": "markdown",
   "metadata": {},
   "source": [
    "## Write Predictions to Output File"
   ]
  },
  {
   "cell_type": "code",
   "execution_count": 65,
   "metadata": {},
   "outputs": [
    {
     "data": {
      "text/html": [
       "<div>\n",
       "<style>\n",
       "    .dataframe thead tr:only-child th {\n",
       "        text-align: right;\n",
       "    }\n",
       "\n",
       "    .dataframe thead th {\n",
       "        text-align: left;\n",
       "    }\n",
       "\n",
       "    .dataframe tbody tr th {\n",
       "        vertical-align: top;\n",
       "    }\n",
       "</style>\n",
       "<table border=\"1\" class=\"dataframe\">\n",
       "  <thead>\n",
       "    <tr style=\"text-align: right;\">\n",
       "      <th></th>\n",
       "      <th>average_household_income</th>\n",
       "      <th>gini_index</th>\n",
       "      <th>heating_fuel_coal_coke</th>\n",
       "      <th>heating_fuel_electricity</th>\n",
       "      <th>heating_fuel_fuel_oil_kerosene</th>\n",
       "      <th>heating_fuel_gas</th>\n",
       "      <th>heating_fuel_housing_unit_count</th>\n",
       "      <th>heating_fuel_none</th>\n",
       "      <th>heating_fuel_other</th>\n",
       "      <th>heating_fuel_solar</th>\n",
       "      <th>...</th>\n",
       "      <th>net_metering</th>\n",
       "      <th>feedin_tariff</th>\n",
       "      <th>cooperate_tax</th>\n",
       "      <th>property_tax</th>\n",
       "      <th>sales_tax</th>\n",
       "      <th>rebate</th>\n",
       "      <th>avg_electricity_retail_rate</th>\n",
       "      <th>number_of_solar_system_per_household</th>\n",
       "      <th>fips</th>\n",
       "      <th>predicted_solar</th>\n",
       "    </tr>\n",
       "  </thead>\n",
       "  <tbody>\n",
       "    <tr>\n",
       "      <th>0</th>\n",
       "      <td>70352.78987</td>\n",
       "      <td>0.3490</td>\n",
       "      <td>200</td>\n",
       "      <td>448</td>\n",
       "      <td>98</td>\n",
       "      <td>1720</td>\n",
       "      <td>2527</td>\n",
       "      <td>10</td>\n",
       "      <td>51</td>\n",
       "      <td>0</td>\n",
       "      <td>...</td>\n",
       "      <td>34</td>\n",
       "      <td>0</td>\n",
       "      <td>0</td>\n",
       "      <td>25</td>\n",
       "      <td>12</td>\n",
       "      <td>0</td>\n",
       "      <td>9.46</td>\n",
       "      <td>0.000000</td>\n",
       "      <td>27145011200</td>\n",
       "      <td>0.000000</td>\n",
       "    </tr>\n",
       "    <tr>\n",
       "      <th>1</th>\n",
       "      <td>61727.08520</td>\n",
       "      <td>0.4074</td>\n",
       "      <td>20</td>\n",
       "      <td>379</td>\n",
       "      <td>17</td>\n",
       "      <td>1799</td>\n",
       "      <td>2230</td>\n",
       "      <td>0</td>\n",
       "      <td>15</td>\n",
       "      <td>0</td>\n",
       "      <td>...</td>\n",
       "      <td>34</td>\n",
       "      <td>0</td>\n",
       "      <td>0</td>\n",
       "      <td>25</td>\n",
       "      <td>12</td>\n",
       "      <td>0</td>\n",
       "      <td>9.46</td>\n",
       "      <td>0.006726</td>\n",
       "      <td>27145011301</td>\n",
       "      <td>0.001495</td>\n",
       "    </tr>\n",
       "    <tr>\n",
       "      <th>2</th>\n",
       "      <td>71496.88658</td>\n",
       "      <td>0.3926</td>\n",
       "      <td>69</td>\n",
       "      <td>440</td>\n",
       "      <td>45</td>\n",
       "      <td>2098</td>\n",
       "      <td>2698</td>\n",
       "      <td>29</td>\n",
       "      <td>17</td>\n",
       "      <td>0</td>\n",
       "      <td>...</td>\n",
       "      <td>34</td>\n",
       "      <td>0</td>\n",
       "      <td>0</td>\n",
       "      <td>25</td>\n",
       "      <td>12</td>\n",
       "      <td>0</td>\n",
       "      <td>9.46</td>\n",
       "      <td>0.001112</td>\n",
       "      <td>27145011302</td>\n",
       "      <td>0.001445</td>\n",
       "    </tr>\n",
       "    <tr>\n",
       "      <th>3</th>\n",
       "      <td>86840.15275</td>\n",
       "      <td>0.3949</td>\n",
       "      <td>188</td>\n",
       "      <td>442</td>\n",
       "      <td>61</td>\n",
       "      <td>1113</td>\n",
       "      <td>1833</td>\n",
       "      <td>13</td>\n",
       "      <td>16</td>\n",
       "      <td>0</td>\n",
       "      <td>...</td>\n",
       "      <td>34</td>\n",
       "      <td>0</td>\n",
       "      <td>0</td>\n",
       "      <td>25</td>\n",
       "      <td>12</td>\n",
       "      <td>0</td>\n",
       "      <td>9.46</td>\n",
       "      <td>0.000000</td>\n",
       "      <td>27145011304</td>\n",
       "      <td>0.000000</td>\n",
       "    </tr>\n",
       "    <tr>\n",
       "      <th>4</th>\n",
       "      <td>89135.31560</td>\n",
       "      <td>0.4463</td>\n",
       "      <td>96</td>\n",
       "      <td>497</td>\n",
       "      <td>47</td>\n",
       "      <td>1202</td>\n",
       "      <td>1917</td>\n",
       "      <td>31</td>\n",
       "      <td>44</td>\n",
       "      <td>0</td>\n",
       "      <td>...</td>\n",
       "      <td>34</td>\n",
       "      <td>0</td>\n",
       "      <td>0</td>\n",
       "      <td>25</td>\n",
       "      <td>12</td>\n",
       "      <td>0</td>\n",
       "      <td>9.46</td>\n",
       "      <td>0.002087</td>\n",
       "      <td>27145011400</td>\n",
       "      <td>0.001388</td>\n",
       "    </tr>\n",
       "    <tr>\n",
       "      <th>5</th>\n",
       "      <td>62225.90361</td>\n",
       "      <td>0.3847</td>\n",
       "      <td>72</td>\n",
       "      <td>759</td>\n",
       "      <td>81</td>\n",
       "      <td>1695</td>\n",
       "      <td>2656</td>\n",
       "      <td>45</td>\n",
       "      <td>4</td>\n",
       "      <td>0</td>\n",
       "      <td>...</td>\n",
       "      <td>34</td>\n",
       "      <td>0</td>\n",
       "      <td>0</td>\n",
       "      <td>25</td>\n",
       "      <td>12</td>\n",
       "      <td>0</td>\n",
       "      <td>9.46</td>\n",
       "      <td>0.000000</td>\n",
       "      <td>27145011500</td>\n",
       "      <td>0.000000</td>\n",
       "    </tr>\n",
       "    <tr>\n",
       "      <th>6</th>\n",
       "      <td>41068.93617</td>\n",
       "      <td>0.7166</td>\n",
       "      <td>3</td>\n",
       "      <td>222</td>\n",
       "      <td>5</td>\n",
       "      <td>193</td>\n",
       "      <td>470</td>\n",
       "      <td>16</td>\n",
       "      <td>31</td>\n",
       "      <td>0</td>\n",
       "      <td>...</td>\n",
       "      <td>34</td>\n",
       "      <td>0</td>\n",
       "      <td>0</td>\n",
       "      <td>25</td>\n",
       "      <td>12</td>\n",
       "      <td>0</td>\n",
       "      <td>9.46</td>\n",
       "      <td>0.004255</td>\n",
       "      <td>27145011600</td>\n",
       "      <td>0.002721</td>\n",
       "    </tr>\n",
       "    <tr>\n",
       "      <th>7</th>\n",
       "      <td>74073.83367</td>\n",
       "      <td>0.4317</td>\n",
       "      <td>108</td>\n",
       "      <td>382</td>\n",
       "      <td>190</td>\n",
       "      <td>783</td>\n",
       "      <td>1479</td>\n",
       "      <td>3</td>\n",
       "      <td>13</td>\n",
       "      <td>0</td>\n",
       "      <td>...</td>\n",
       "      <td>34</td>\n",
       "      <td>0</td>\n",
       "      <td>0</td>\n",
       "      <td>25</td>\n",
       "      <td>12</td>\n",
       "      <td>0</td>\n",
       "      <td>9.46</td>\n",
       "      <td>0.000000</td>\n",
       "      <td>27145010500</td>\n",
       "      <td>0.000000</td>\n",
       "    </tr>\n",
       "    <tr>\n",
       "      <th>8</th>\n",
       "      <td>69412.19243</td>\n",
       "      <td>0.3824</td>\n",
       "      <td>241</td>\n",
       "      <td>534</td>\n",
       "      <td>156</td>\n",
       "      <td>1735</td>\n",
       "      <td>2723</td>\n",
       "      <td>20</td>\n",
       "      <td>37</td>\n",
       "      <td>0</td>\n",
       "      <td>...</td>\n",
       "      <td>34</td>\n",
       "      <td>0</td>\n",
       "      <td>0</td>\n",
       "      <td>25</td>\n",
       "      <td>12</td>\n",
       "      <td>0</td>\n",
       "      <td>9.46</td>\n",
       "      <td>0.000000</td>\n",
       "      <td>27145011100</td>\n",
       "      <td>0.000000</td>\n",
       "    </tr>\n",
       "    <tr>\n",
       "      <th>9</th>\n",
       "      <td>82502.40707</td>\n",
       "      <td>0.3588</td>\n",
       "      <td>18</td>\n",
       "      <td>734</td>\n",
       "      <td>27</td>\n",
       "      <td>2419</td>\n",
       "      <td>3282</td>\n",
       "      <td>29</td>\n",
       "      <td>55</td>\n",
       "      <td>0</td>\n",
       "      <td>...</td>\n",
       "      <td>34</td>\n",
       "      <td>0</td>\n",
       "      <td>0</td>\n",
       "      <td>25</td>\n",
       "      <td>12</td>\n",
       "      <td>0</td>\n",
       "      <td>9.46</td>\n",
       "      <td>0.002742</td>\n",
       "      <td>27145010102</td>\n",
       "      <td>0.001954</td>\n",
       "    </tr>\n",
       "  </tbody>\n",
       "</table>\n",
       "<p>10 rows × 100 columns</p>\n",
       "</div>"
      ],
      "text/plain": [
       "   average_household_income  gini_index  heating_fuel_coal_coke  \\\n",
       "0               70352.78987      0.3490                     200   \n",
       "1               61727.08520      0.4074                      20   \n",
       "2               71496.88658      0.3926                      69   \n",
       "3               86840.15275      0.3949                     188   \n",
       "4               89135.31560      0.4463                      96   \n",
       "5               62225.90361      0.3847                      72   \n",
       "6               41068.93617      0.7166                       3   \n",
       "7               74073.83367      0.4317                     108   \n",
       "8               69412.19243      0.3824                     241   \n",
       "9               82502.40707      0.3588                      18   \n",
       "\n",
       "   heating_fuel_electricity  heating_fuel_fuel_oil_kerosene  heating_fuel_gas  \\\n",
       "0                       448                              98              1720   \n",
       "1                       379                              17              1799   \n",
       "2                       440                              45              2098   \n",
       "3                       442                              61              1113   \n",
       "4                       497                              47              1202   \n",
       "5                       759                              81              1695   \n",
       "6                       222                               5               193   \n",
       "7                       382                             190               783   \n",
       "8                       534                             156              1735   \n",
       "9                       734                              27              2419   \n",
       "\n",
       "   heating_fuel_housing_unit_count  heating_fuel_none  heating_fuel_other  \\\n",
       "0                             2527                 10                  51   \n",
       "1                             2230                  0                  15   \n",
       "2                             2698                 29                  17   \n",
       "3                             1833                 13                  16   \n",
       "4                             1917                 31                  44   \n",
       "5                             2656                 45                   4   \n",
       "6                              470                 16                  31   \n",
       "7                             1479                  3                  13   \n",
       "8                             2723                 20                  37   \n",
       "9                             3282                 29                  55   \n",
       "\n",
       "   heating_fuel_solar       ...         net_metering  feedin_tariff  \\\n",
       "0                   0       ...                   34              0   \n",
       "1                   0       ...                   34              0   \n",
       "2                   0       ...                   34              0   \n",
       "3                   0       ...                   34              0   \n",
       "4                   0       ...                   34              0   \n",
       "5                   0       ...                   34              0   \n",
       "6                   0       ...                   34              0   \n",
       "7                   0       ...                   34              0   \n",
       "8                   0       ...                   34              0   \n",
       "9                   0       ...                   34              0   \n",
       "\n",
       "   cooperate_tax  property_tax  sales_tax  rebate  \\\n",
       "0              0            25         12       0   \n",
       "1              0            25         12       0   \n",
       "2              0            25         12       0   \n",
       "3              0            25         12       0   \n",
       "4              0            25         12       0   \n",
       "5              0            25         12       0   \n",
       "6              0            25         12       0   \n",
       "7              0            25         12       0   \n",
       "8              0            25         12       0   \n",
       "9              0            25         12       0   \n",
       "\n",
       "   avg_electricity_retail_rate  number_of_solar_system_per_household  \\\n",
       "0                         9.46                              0.000000   \n",
       "1                         9.46                              0.006726   \n",
       "2                         9.46                              0.001112   \n",
       "3                         9.46                              0.000000   \n",
       "4                         9.46                              0.002087   \n",
       "5                         9.46                              0.000000   \n",
       "6                         9.46                              0.004255   \n",
       "7                         9.46                              0.000000   \n",
       "8                         9.46                              0.000000   \n",
       "9                         9.46                              0.002742   \n",
       "\n",
       "          fips  predicted_solar  \n",
       "0  27145011200         0.000000  \n",
       "1  27145011301         0.001495  \n",
       "2  27145011302         0.001445  \n",
       "3  27145011304         0.000000  \n",
       "4  27145011400         0.001388  \n",
       "5  27145011500         0.000000  \n",
       "6  27145011600         0.002721  \n",
       "7  27145010500         0.000000  \n",
       "8  27145011100         0.000000  \n",
       "9  27145010102         0.001954  \n",
       "\n",
       "[10 rows x 100 columns]"
      ]
     },
     "execution_count": 65,
     "metadata": {},
     "output_type": "execute_result"
    }
   ],
   "source": [
    "solar_full=solar[features].replace([np.inf,' '],np.nan)\n",
    "solar_full['number_of_solar_system_per_household']=solar['number_of_solar_system_per_household'].replace(np.inf,np.nan)\n",
    "solar_full['fips']=solar['fips']\n",
    "solar_full=solar_full.loc[np.isfinite(solar_full['number_of_solar_system_per_household'])]\n",
    "solar_full=solar_full.assign(predicted_solar=final_preds)\n",
    "solar_full.head(10)"
   ]
  },
  {
   "cell_type": "code",
   "execution_count": 66,
   "metadata": {},
   "outputs": [
    {
     "data": {
      "text/html": [
       "<div>\n",
       "<style>\n",
       "    .dataframe thead tr:only-child th {\n",
       "        text-align: right;\n",
       "    }\n",
       "\n",
       "    .dataframe thead th {\n",
       "        text-align: left;\n",
       "    }\n",
       "\n",
       "    .dataframe tbody tr th {\n",
       "        vertical-align: top;\n",
       "    }\n",
       "</style>\n",
       "<table border=\"1\" class=\"dataframe\">\n",
       "  <thead>\n",
       "    <tr style=\"text-align: right;\">\n",
       "      <th></th>\n",
       "      <th>number_of_solar_system_per_household</th>\n",
       "      <th>average_household_income</th>\n",
       "      <th>gini_index</th>\n",
       "      <th>heating_fuel_coal_coke</th>\n",
       "      <th>heating_fuel_electricity</th>\n",
       "      <th>heating_fuel_fuel_oil_kerosene</th>\n",
       "      <th>heating_fuel_gas</th>\n",
       "      <th>heating_fuel_housing_unit_count</th>\n",
       "      <th>heating_fuel_none</th>\n",
       "      <th>heating_fuel_other</th>\n",
       "      <th>...</th>\n",
       "      <th>diversity</th>\n",
       "      <th>net_metering</th>\n",
       "      <th>feedin_tariff</th>\n",
       "      <th>cooperate_tax</th>\n",
       "      <th>property_tax</th>\n",
       "      <th>sales_tax</th>\n",
       "      <th>rebate</th>\n",
       "      <th>avg_electricity_retail_rate</th>\n",
       "      <th>fips</th>\n",
       "      <th>predicted_solar</th>\n",
       "    </tr>\n",
       "  </thead>\n",
       "  <tbody>\n",
       "    <tr>\n",
       "      <th>0</th>\n",
       "      <td>0.000000</td>\n",
       "      <td>70352.78987</td>\n",
       "      <td>0.3490</td>\n",
       "      <td>200</td>\n",
       "      <td>448</td>\n",
       "      <td>98</td>\n",
       "      <td>1720</td>\n",
       "      <td>2527</td>\n",
       "      <td>10</td>\n",
       "      <td>51</td>\n",
       "      <td>...</td>\n",
       "      <td>0.046960</td>\n",
       "      <td>34</td>\n",
       "      <td>0</td>\n",
       "      <td>0</td>\n",
       "      <td>25</td>\n",
       "      <td>12</td>\n",
       "      <td>0</td>\n",
       "      <td>9.46</td>\n",
       "      <td>27145011200</td>\n",
       "      <td>0.000000</td>\n",
       "    </tr>\n",
       "    <tr>\n",
       "      <th>1</th>\n",
       "      <td>0.006726</td>\n",
       "      <td>61727.08520</td>\n",
       "      <td>0.4074</td>\n",
       "      <td>20</td>\n",
       "      <td>379</td>\n",
       "      <td>17</td>\n",
       "      <td>1799</td>\n",
       "      <td>2230</td>\n",
       "      <td>0</td>\n",
       "      <td>15</td>\n",
       "      <td>...</td>\n",
       "      <td>0.145934</td>\n",
       "      <td>34</td>\n",
       "      <td>0</td>\n",
       "      <td>0</td>\n",
       "      <td>25</td>\n",
       "      <td>12</td>\n",
       "      <td>0</td>\n",
       "      <td>9.46</td>\n",
       "      <td>27145011301</td>\n",
       "      <td>0.001495</td>\n",
       "    </tr>\n",
       "    <tr>\n",
       "      <th>2</th>\n",
       "      <td>0.001112</td>\n",
       "      <td>71496.88658</td>\n",
       "      <td>0.3926</td>\n",
       "      <td>69</td>\n",
       "      <td>440</td>\n",
       "      <td>45</td>\n",
       "      <td>2098</td>\n",
       "      <td>2698</td>\n",
       "      <td>29</td>\n",
       "      <td>17</td>\n",
       "      <td>...</td>\n",
       "      <td>0.009150</td>\n",
       "      <td>34</td>\n",
       "      <td>0</td>\n",
       "      <td>0</td>\n",
       "      <td>25</td>\n",
       "      <td>12</td>\n",
       "      <td>0</td>\n",
       "      <td>9.46</td>\n",
       "      <td>27145011302</td>\n",
       "      <td>0.001445</td>\n",
       "    </tr>\n",
       "    <tr>\n",
       "      <th>3</th>\n",
       "      <td>0.000000</td>\n",
       "      <td>86840.15275</td>\n",
       "      <td>0.3949</td>\n",
       "      <td>188</td>\n",
       "      <td>442</td>\n",
       "      <td>61</td>\n",
       "      <td>1113</td>\n",
       "      <td>1833</td>\n",
       "      <td>13</td>\n",
       "      <td>16</td>\n",
       "      <td>...</td>\n",
       "      <td>0.187334</td>\n",
       "      <td>34</td>\n",
       "      <td>0</td>\n",
       "      <td>0</td>\n",
       "      <td>25</td>\n",
       "      <td>12</td>\n",
       "      <td>0</td>\n",
       "      <td>9.46</td>\n",
       "      <td>27145011304</td>\n",
       "      <td>0.000000</td>\n",
       "    </tr>\n",
       "    <tr>\n",
       "      <th>4</th>\n",
       "      <td>0.002087</td>\n",
       "      <td>89135.31560</td>\n",
       "      <td>0.4463</td>\n",
       "      <td>96</td>\n",
       "      <td>497</td>\n",
       "      <td>47</td>\n",
       "      <td>1202</td>\n",
       "      <td>1917</td>\n",
       "      <td>31</td>\n",
       "      <td>44</td>\n",
       "      <td>...</td>\n",
       "      <td>0.090766</td>\n",
       "      <td>34</td>\n",
       "      <td>0</td>\n",
       "      <td>0</td>\n",
       "      <td>25</td>\n",
       "      <td>12</td>\n",
       "      <td>0</td>\n",
       "      <td>9.46</td>\n",
       "      <td>27145011400</td>\n",
       "      <td>0.001388</td>\n",
       "    </tr>\n",
       "    <tr>\n",
       "      <th>5</th>\n",
       "      <td>0.000000</td>\n",
       "      <td>62225.90361</td>\n",
       "      <td>0.3847</td>\n",
       "      <td>72</td>\n",
       "      <td>759</td>\n",
       "      <td>81</td>\n",
       "      <td>1695</td>\n",
       "      <td>2656</td>\n",
       "      <td>45</td>\n",
       "      <td>4</td>\n",
       "      <td>...</td>\n",
       "      <td>0.081981</td>\n",
       "      <td>34</td>\n",
       "      <td>0</td>\n",
       "      <td>0</td>\n",
       "      <td>25</td>\n",
       "      <td>12</td>\n",
       "      <td>0</td>\n",
       "      <td>9.46</td>\n",
       "      <td>27145011500</td>\n",
       "      <td>0.000000</td>\n",
       "    </tr>\n",
       "    <tr>\n",
       "      <th>6</th>\n",
       "      <td>0.004255</td>\n",
       "      <td>41068.93617</td>\n",
       "      <td>0.7166</td>\n",
       "      <td>3</td>\n",
       "      <td>222</td>\n",
       "      <td>5</td>\n",
       "      <td>193</td>\n",
       "      <td>470</td>\n",
       "      <td>16</td>\n",
       "      <td>31</td>\n",
       "      <td>...</td>\n",
       "      <td>0.470443</td>\n",
       "      <td>34</td>\n",
       "      <td>0</td>\n",
       "      <td>0</td>\n",
       "      <td>25</td>\n",
       "      <td>12</td>\n",
       "      <td>0</td>\n",
       "      <td>9.46</td>\n",
       "      <td>27145011600</td>\n",
       "      <td>0.002721</td>\n",
       "    </tr>\n",
       "    <tr>\n",
       "      <th>7</th>\n",
       "      <td>0.000000</td>\n",
       "      <td>74073.83367</td>\n",
       "      <td>0.4317</td>\n",
       "      <td>108</td>\n",
       "      <td>382</td>\n",
       "      <td>190</td>\n",
       "      <td>783</td>\n",
       "      <td>1479</td>\n",
       "      <td>3</td>\n",
       "      <td>13</td>\n",
       "      <td>...</td>\n",
       "      <td>0.008239</td>\n",
       "      <td>34</td>\n",
       "      <td>0</td>\n",
       "      <td>0</td>\n",
       "      <td>25</td>\n",
       "      <td>12</td>\n",
       "      <td>0</td>\n",
       "      <td>9.46</td>\n",
       "      <td>27145010500</td>\n",
       "      <td>0.000000</td>\n",
       "    </tr>\n",
       "    <tr>\n",
       "      <th>8</th>\n",
       "      <td>0.000000</td>\n",
       "      <td>69412.19243</td>\n",
       "      <td>0.3824</td>\n",
       "      <td>241</td>\n",
       "      <td>534</td>\n",
       "      <td>156</td>\n",
       "      <td>1735</td>\n",
       "      <td>2723</td>\n",
       "      <td>20</td>\n",
       "      <td>37</td>\n",
       "      <td>...</td>\n",
       "      <td>0.029574</td>\n",
       "      <td>34</td>\n",
       "      <td>0</td>\n",
       "      <td>0</td>\n",
       "      <td>25</td>\n",
       "      <td>12</td>\n",
       "      <td>0</td>\n",
       "      <td>9.46</td>\n",
       "      <td>27145011100</td>\n",
       "      <td>0.000000</td>\n",
       "    </tr>\n",
       "    <tr>\n",
       "      <th>9</th>\n",
       "      <td>0.002742</td>\n",
       "      <td>82502.40707</td>\n",
       "      <td>0.3588</td>\n",
       "      <td>18</td>\n",
       "      <td>734</td>\n",
       "      <td>27</td>\n",
       "      <td>2419</td>\n",
       "      <td>3282</td>\n",
       "      <td>29</td>\n",
       "      <td>55</td>\n",
       "      <td>...</td>\n",
       "      <td>0.120052</td>\n",
       "      <td>34</td>\n",
       "      <td>0</td>\n",
       "      <td>0</td>\n",
       "      <td>25</td>\n",
       "      <td>12</td>\n",
       "      <td>0</td>\n",
       "      <td>9.46</td>\n",
       "      <td>27145010102</td>\n",
       "      <td>0.001954</td>\n",
       "    </tr>\n",
       "  </tbody>\n",
       "</table>\n",
       "<p>10 rows × 100 columns</p>\n",
       "</div>"
      ],
      "text/plain": [
       "   number_of_solar_system_per_household  average_household_income  gini_index  \\\n",
       "0                              0.000000               70352.78987      0.3490   \n",
       "1                              0.006726               61727.08520      0.4074   \n",
       "2                              0.001112               71496.88658      0.3926   \n",
       "3                              0.000000               86840.15275      0.3949   \n",
       "4                              0.002087               89135.31560      0.4463   \n",
       "5                              0.000000               62225.90361      0.3847   \n",
       "6                              0.004255               41068.93617      0.7166   \n",
       "7                              0.000000               74073.83367      0.4317   \n",
       "8                              0.000000               69412.19243      0.3824   \n",
       "9                              0.002742               82502.40707      0.3588   \n",
       "\n",
       "   heating_fuel_coal_coke  heating_fuel_electricity  \\\n",
       "0                     200                       448   \n",
       "1                      20                       379   \n",
       "2                      69                       440   \n",
       "3                     188                       442   \n",
       "4                      96                       497   \n",
       "5                      72                       759   \n",
       "6                       3                       222   \n",
       "7                     108                       382   \n",
       "8                     241                       534   \n",
       "9                      18                       734   \n",
       "\n",
       "   heating_fuel_fuel_oil_kerosene  heating_fuel_gas  \\\n",
       "0                              98              1720   \n",
       "1                              17              1799   \n",
       "2                              45              2098   \n",
       "3                              61              1113   \n",
       "4                              47              1202   \n",
       "5                              81              1695   \n",
       "6                               5               193   \n",
       "7                             190               783   \n",
       "8                             156              1735   \n",
       "9                              27              2419   \n",
       "\n",
       "   heating_fuel_housing_unit_count  heating_fuel_none  heating_fuel_other  \\\n",
       "0                             2527                 10                  51   \n",
       "1                             2230                  0                  15   \n",
       "2                             2698                 29                  17   \n",
       "3                             1833                 13                  16   \n",
       "4                             1917                 31                  44   \n",
       "5                             2656                 45                   4   \n",
       "6                              470                 16                  31   \n",
       "7                             1479                  3                  13   \n",
       "8                             2723                 20                  37   \n",
       "9                             3282                 29                  55   \n",
       "\n",
       "        ...         diversity  net_metering  feedin_tariff  cooperate_tax  \\\n",
       "0       ...          0.046960            34              0              0   \n",
       "1       ...          0.145934            34              0              0   \n",
       "2       ...          0.009150            34              0              0   \n",
       "3       ...          0.187334            34              0              0   \n",
       "4       ...          0.090766            34              0              0   \n",
       "5       ...          0.081981            34              0              0   \n",
       "6       ...          0.470443            34              0              0   \n",
       "7       ...          0.008239            34              0              0   \n",
       "8       ...          0.029574            34              0              0   \n",
       "9       ...          0.120052            34              0              0   \n",
       "\n",
       "   property_tax  sales_tax  rebate  avg_electricity_retail_rate         fips  \\\n",
       "0            25         12       0                         9.46  27145011200   \n",
       "1            25         12       0                         9.46  27145011301   \n",
       "2            25         12       0                         9.46  27145011302   \n",
       "3            25         12       0                         9.46  27145011304   \n",
       "4            25         12       0                         9.46  27145011400   \n",
       "5            25         12       0                         9.46  27145011500   \n",
       "6            25         12       0                         9.46  27145011600   \n",
       "7            25         12       0                         9.46  27145010500   \n",
       "8            25         12       0                         9.46  27145011100   \n",
       "9            25         12       0                         9.46  27145010102   \n",
       "\n",
       "   predicted_solar  \n",
       "0         0.000000  \n",
       "1         0.001495  \n",
       "2         0.001445  \n",
       "3         0.000000  \n",
       "4         0.001388  \n",
       "5         0.000000  \n",
       "6         0.002721  \n",
       "7         0.000000  \n",
       "8         0.000000  \n",
       "9         0.001954  \n",
       "\n",
       "[10 rows x 100 columns]"
      ]
     },
     "execution_count": 66,
     "metadata": {},
     "output_type": "execute_result"
    }
   ],
   "source": [
    "relevant_fields=['number_of_solar_system_per_household']+features+['fips']\n",
    "final_frame=pd.merge(solar[relevant_fields],solar_full[['fips','predicted_solar']],on=['fips'],how='left')\n",
    "final_frame.head(10)"
   ]
  },
  {
   "cell_type": "code",
   "execution_count": 67,
   "metadata": {
    "collapsed": true
   },
   "outputs": [],
   "source": [
    "final_frame.to_csv('baseline_model_predictions.csv')"
   ]
  },
  {
   "cell_type": "markdown",
   "metadata": {
    "collapsed": true
   },
   "source": [
    "# Try Other Decision Tree Algorithms"
   ]
  },
  {
   "cell_type": "markdown",
   "metadata": {},
   "source": [
    "### Gradient Boosting Classifier"
   ]
  },
  {
   "cell_type": "code",
   "execution_count": 13,
   "metadata": {
    "collapsed": true
   },
   "outputs": [],
   "source": [
    "from sklearn.ensemble import GradientBoostingClassifier\n",
    "from sklearn.ensemble import GradientBoostingRegressor\n",
    "from sklearn.metrics import r2_score"
   ]
  },
  {
   "cell_type": "code",
   "execution_count": 7,
   "metadata": {},
   "outputs": [
    {
     "data": {
      "text/plain": [
       "GradientBoostingClassifier(criterion='friedman_mse', init=None,\n",
       "              learning_rate=0.1, loss='deviance', max_depth=3,\n",
       "              max_features=None, max_leaf_nodes=None,\n",
       "              min_impurity_decrease=0.0, min_impurity_split=None,\n",
       "              min_samples_leaf=1, min_samples_split=2,\n",
       "              min_weight_fraction_leaf=0.0, n_estimators=100,\n",
       "              presort='auto', random_state=None, subsample=1.0, verbose=0,\n",
       "              warm_start=False)"
      ]
     },
     "execution_count": 7,
     "metadata": {},
     "output_type": "execute_result"
    }
   ],
   "source": [
    "classifier=GradientBoostingClassifier()\n",
    "classifier.fit(X_train,yc_train)"
   ]
  },
  {
   "cell_type": "code",
   "execution_count": 8,
   "metadata": {},
   "outputs": [
    {
     "data": {
      "text/plain": [
       "0.81379470506270324"
      ]
     },
     "execution_count": 8,
     "metadata": {},
     "output_type": "execute_result"
    }
   ],
   "source": [
    "classifier.score(X_test,yc_test)"
   ]
  },
  {
   "cell_type": "code",
   "execution_count": 11,
   "metadata": {},
   "outputs": [
    {
     "data": {
      "text/plain": [
       "GradientBoostingRegressor(alpha=0.9, criterion='friedman_mse', init=None,\n",
       "             learning_rate=0.1, loss='ls', max_depth=3, max_features=None,\n",
       "             max_leaf_nodes=None, min_impurity_decrease=0.0,\n",
       "             min_impurity_split=None, min_samples_leaf=1,\n",
       "             min_samples_split=2, min_weight_fraction_leaf=0.0,\n",
       "             n_estimators=100, presort='auto', random_state=None,\n",
       "             subsample=1.0, verbose=0, warm_start=False)"
      ]
     },
     "execution_count": 11,
     "metadata": {},
     "output_type": "execute_result"
    }
   ],
   "source": [
    "regressor=GradientBoostingRegressor()\n",
    "regressor.fit(X_train,yr_train)"
   ]
  },
  {
   "cell_type": "code",
   "execution_count": 12,
   "metadata": {},
   "outputs": [
    {
     "data": {
      "text/plain": [
       "0.32123964790412141"
      ]
     },
     "execution_count": 12,
     "metadata": {},
     "output_type": "execute_result"
    }
   ],
   "source": [
    "regressor.score(X_test,yr_test)"
   ]
  },
  {
   "cell_type": "code",
   "execution_count": 14,
   "metadata": {},
   "outputs": [
    {
     "data": {
      "text/plain": [
       "0.32472191340330459"
      ]
     },
     "execution_count": 14,
     "metadata": {},
     "output_type": "execute_result"
    }
   ],
   "source": [
    "regressor_preds=regressor.predict(X_test)\n",
    "classifier_preds=classifier.predict(X_test)\n",
    "final_preds=regressor_preds*classifier_preds\n",
    "r2_score(yr_test,final_preds)"
   ]
  },
  {
   "cell_type": "markdown",
   "metadata": {},
   "source": [
    "## XGBoost"
   ]
  },
  {
   "cell_type": "code",
   "execution_count": 15,
   "metadata": {
    "collapsed": true
   },
   "outputs": [],
   "source": [
    "from xgboost import XGBClassifier\n",
    "from xgboost import XGBRegressor\n",
    "from sklearn.metrics import r2_score"
   ]
  },
  {
   "cell_type": "code",
   "execution_count": 16,
   "metadata": {},
   "outputs": [
    {
     "data": {
      "text/plain": [
       "XGBClassifier(base_score=0.5, booster='gbtree', colsample_bylevel=1,\n",
       "       colsample_bytree=1, gamma=0, learning_rate=0.1, max_delta_step=0,\n",
       "       max_depth=3, min_child_weight=1, missing=None, n_estimators=100,\n",
       "       n_jobs=1, nthread=None, objective='binary:logistic', random_state=0,\n",
       "       reg_alpha=0, reg_lambda=1, scale_pos_weight=1, seed=None,\n",
       "       silent=True, subsample=1)"
      ]
     },
     "execution_count": 16,
     "metadata": {},
     "output_type": "execute_result"
    }
   ],
   "source": [
    "classifier=XGBClassifier()\n",
    "classifier.fit(X_train,yc_train)"
   ]
  },
  {
   "cell_type": "code",
   "execution_count": 17,
   "metadata": {},
   "outputs": [
    {
     "data": {
      "text/plain": [
       "0.81216906641895026"
      ]
     },
     "execution_count": 17,
     "metadata": {},
     "output_type": "execute_result"
    }
   ],
   "source": [
    "classifier.score(X_test,yc_test)"
   ]
  },
  {
   "cell_type": "code",
   "execution_count": 18,
   "metadata": {},
   "outputs": [
    {
     "data": {
      "text/plain": [
       "XGBRegressor(base_score=0.5, booster='gbtree', colsample_bylevel=1,\n",
       "       colsample_bytree=1, gamma=0, learning_rate=0.1, max_delta_step=0,\n",
       "       max_depth=3, min_child_weight=1, missing=None, n_estimators=100,\n",
       "       n_jobs=1, nthread=None, objective='reg:linear', random_state=0,\n",
       "       reg_alpha=0, reg_lambda=1, scale_pos_weight=1, seed=None,\n",
       "       silent=True, subsample=1)"
      ]
     },
     "execution_count": 18,
     "metadata": {},
     "output_type": "execute_result"
    }
   ],
   "source": [
    "regressor=XGBRegressor()\n",
    "regressor.fit(X_train,yr_train)"
   ]
  },
  {
   "cell_type": "code",
   "execution_count": 19,
   "metadata": {},
   "outputs": [
    {
     "data": {
      "text/plain": [
       "0.30330564225161372"
      ]
     },
     "execution_count": 19,
     "metadata": {},
     "output_type": "execute_result"
    }
   ],
   "source": [
    "regressor.score(X_test,yr_test)"
   ]
  },
  {
   "cell_type": "code",
   "execution_count": 20,
   "metadata": {},
   "outputs": [
    {
     "data": {
      "text/plain": [
       "0.27814778838778842"
      ]
     },
     "execution_count": 20,
     "metadata": {},
     "output_type": "execute_result"
    }
   ],
   "source": [
    "regressor_preds=regressor.predict(X_test)\n",
    "classifier_preds=classifier.predict(X_test)\n",
    "final_preds=regressor_preds*classifier_preds\n",
    "r2_score(yr_test,final_preds)"
   ]
  },
  {
   "cell_type": "markdown",
   "metadata": {},
   "source": [
    "## Adaboost"
   ]
  },
  {
   "cell_type": "code",
   "execution_count": 21,
   "metadata": {
    "collapsed": true
   },
   "outputs": [],
   "source": [
    "from sklearn.ensemble import AdaBoostClassifier\n",
    "from sklearn.ensemble import AdaBoostRegressor\n",
    "from sklearn.metrics import r2_score"
   ]
  },
  {
   "cell_type": "code",
   "execution_count": 22,
   "metadata": {},
   "outputs": [
    {
     "data": {
      "text/plain": [
       "AdaBoostClassifier(algorithm='SAMME.R', base_estimator=None,\n",
       "          learning_rate=1.0, n_estimators=100, random_state=None)"
      ]
     },
     "execution_count": 22,
     "metadata": {},
     "output_type": "execute_result"
    }
   ],
   "source": [
    "classifier=AdaBoostClassifier(n_estimators=100)\n",
    "classifier.fit(X_train,yc_train)"
   ]
  },
  {
   "cell_type": "code",
   "execution_count": 23,
   "metadata": {},
   "outputs": [
    {
     "data": {
      "text/plain": [
       "0.80780306549001391"
      ]
     },
     "execution_count": 23,
     "metadata": {},
     "output_type": "execute_result"
    }
   ],
   "source": [
    "classifier.score(X_test,yc_test)"
   ]
  },
  {
   "cell_type": "code",
   "execution_count": 24,
   "metadata": {},
   "outputs": [
    {
     "data": {
      "text/plain": [
       "AdaBoostRegressor(base_estimator=None, learning_rate=1.0, loss='linear',\n",
       "         n_estimators=100, random_state=None)"
      ]
     },
     "execution_count": 24,
     "metadata": {},
     "output_type": "execute_result"
    }
   ],
   "source": [
    "regressor=AdaBoostRegressor(n_estimators=100)\n",
    "regressor.fit(X_train,yr_train)"
   ]
  },
  {
   "cell_type": "code",
   "execution_count": 25,
   "metadata": {},
   "outputs": [
    {
     "data": {
      "text/plain": [
       "-35.643734164492642"
      ]
     },
     "execution_count": 25,
     "metadata": {},
     "output_type": "execute_result"
    }
   ],
   "source": [
    "regressor.score(X_test,yr_test)"
   ]
  },
  {
   "cell_type": "code",
   "execution_count": 26,
   "metadata": {},
   "outputs": [
    {
     "data": {
      "text/plain": [
       "-28.201460540731961"
      ]
     },
     "execution_count": 26,
     "metadata": {},
     "output_type": "execute_result"
    }
   ],
   "source": [
    "regressor_preds=regressor.predict(X_test)\n",
    "classifier_preds=classifier.predict(X_test)\n",
    "final_preds=regressor_preds*classifier_preds\n",
    "r2_score(yr_test,final_preds)"
   ]
  },
  {
   "cell_type": "markdown",
   "metadata": {},
   "source": [
    "## Random Forest"
   ]
  },
  {
   "cell_type": "code",
   "execution_count": 27,
   "metadata": {},
   "outputs": [
    {
     "data": {
      "text/plain": [
       "RandomForestClassifier(bootstrap=True, class_weight=None, criterion='gini',\n",
       "            max_depth=None, max_features='auto', max_leaf_nodes=None,\n",
       "            min_impurity_decrease=0.0, min_impurity_split=None,\n",
       "            min_samples_leaf=1, min_samples_split=2,\n",
       "            min_weight_fraction_leaf=0.0, n_estimators=10, n_jobs=-1,\n",
       "            oob_score=False, random_state=None, verbose=0,\n",
       "            warm_start=False)"
      ]
     },
     "execution_count": 27,
     "metadata": {},
     "output_type": "execute_result"
    }
   ],
   "source": [
    "classifier=RandomForestClassifier(n_jobs=-1)\n",
    "classifier.fit(X_train,yc_train)"
   ]
  },
  {
   "cell_type": "code",
   "execution_count": 28,
   "metadata": {},
   "outputs": [
    {
     "data": {
      "text/plain": [
       "0.79131444496052017"
      ]
     },
     "execution_count": 28,
     "metadata": {},
     "output_type": "execute_result"
    }
   ],
   "source": [
    "classifier.score(X_test,yc_test)"
   ]
  },
  {
   "cell_type": "code",
   "execution_count": 29,
   "metadata": {},
   "outputs": [
    {
     "data": {
      "text/plain": [
       "RandomForestRegressor(bootstrap=True, criterion='mse', max_depth=None,\n",
       "           max_features='auto', max_leaf_nodes=None,\n",
       "           min_impurity_decrease=0.0, min_impurity_split=None,\n",
       "           min_samples_leaf=1, min_samples_split=2,\n",
       "           min_weight_fraction_leaf=0.0, n_estimators=10, n_jobs=-1,\n",
       "           oob_score=False, random_state=None, verbose=0, warm_start=False)"
      ]
     },
     "execution_count": 29,
     "metadata": {},
     "output_type": "execute_result"
    }
   ],
   "source": [
    "regressor=RandomForestRegressor(n_jobs=-1)\n",
    "regressor.fit(X_train,yr_train)"
   ]
  },
  {
   "cell_type": "code",
   "execution_count": 30,
   "metadata": {},
   "outputs": [
    {
     "data": {
      "text/plain": [
       "0.36700101017966047"
      ]
     },
     "execution_count": 30,
     "metadata": {},
     "output_type": "execute_result"
    }
   ],
   "source": [
    "regressor.score(X_test,yr_test)"
   ]
  },
  {
   "cell_type": "code",
   "execution_count": 31,
   "metadata": {},
   "outputs": [
    {
     "data": {
      "text/plain": [
       "0.42858626503555475"
      ]
     },
     "execution_count": 31,
     "metadata": {},
     "output_type": "execute_result"
    }
   ],
   "source": [
    "regressor_preds=regressor.predict(X_test)\n",
    "classifier_preds=classifier.predict(X_test)\n",
    "final_preds=regressor_preds*classifier_preds\n",
    "r2_score(yr_test,final_preds)"
   ]
  },
  {
   "cell_type": "code",
   "execution_count": null,
   "metadata": {
    "collapsed": true
   },
   "outputs": [],
   "source": []
  }
 ],
 "metadata": {
  "kernelspec": {
   "display_name": "Python 3",
   "language": "python",
   "name": "python3"
  },
  "language_info": {
   "codemirror_mode": {
    "name": "ipython",
    "version": 3
   },
   "file_extension": ".py",
   "mimetype": "text/x-python",
   "name": "python",
   "nbconvert_exporter": "python",
   "pygments_lexer": "ipython3",
   "version": "3.6.3"
  }
 },
 "nbformat": 4,
 "nbformat_minor": 2
}
