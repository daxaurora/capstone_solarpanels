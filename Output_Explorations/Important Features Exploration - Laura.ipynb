{
 "cells": [
  {
   "cell_type": "markdown",
   "metadata": {},
   "source": [
    "# Predicting Solar Panel Adoption - Important Features\n",
    "#### UC Berkeley MIDS\n",
    "`Team: Gabriel Hudson, Noah Levy, Laura Williams`"
   ]
  },
  {
   "cell_type": "markdown",
   "metadata": {},
   "source": [
    "This notebook takes a closer look at some of the variables that our models indicated were the most important features contributing to the model."
   ]
  },
  {
   "cell_type": "code",
   "execution_count": 1,
   "metadata": {
    "collapsed": true
   },
   "outputs": [],
   "source": [
    "# imports\n",
    "import pandas as pd\n",
    "import numpy as np\n",
    "import seaborn as sns\n",
    "import matplotlib.pyplot as plt\n",
    "\n",
    "%matplotlib inline"
   ]
  },
  {
   "cell_type": "code",
   "execution_count": 4,
   "metadata": {
    "collapsed": true
   },
   "outputs": [],
   "source": [
    "# load curated dataset used to create models\n",
    "deepsolar = pd.read_csv('../Datasets/deepsolar_LW1.csv', index_col=0)"
   ]
  },
  {
   "cell_type": "code",
   "execution_count": 5,
   "metadata": {},
   "outputs": [
    {
     "name": "stdout",
     "output_type": "stream",
     "text": [
      "Dataset rows and dimensions: (71305, 108)\n"
     ]
    }
   ],
   "source": [
    "print(\"Dataset rows and dimensions:\", deepsolar.shape)"
   ]
  },
  {
   "cell_type": "code",
   "execution_count": 6,
   "metadata": {},
   "outputs": [
    {
     "data": {
      "text/html": [
       "<div>\n",
       "<style>\n",
       "    .dataframe thead tr:only-child th {\n",
       "        text-align: right;\n",
       "    }\n",
       "\n",
       "    .dataframe thead th {\n",
       "        text-align: left;\n",
       "    }\n",
       "\n",
       "    .dataframe tbody tr th {\n",
       "        vertical-align: top;\n",
       "    }\n",
       "</style>\n",
       "<table border=\"1\" class=\"dataframe\">\n",
       "  <thead>\n",
       "    <tr style=\"text-align: right;\">\n",
       "      <th></th>\n",
       "      <th>average_household_income</th>\n",
       "      <th>county</th>\n",
       "      <th>gini_index</th>\n",
       "      <th>land_area</th>\n",
       "      <th>per_capita_income</th>\n",
       "      <th>population_density</th>\n",
       "      <th>state</th>\n",
       "      <th>total_area</th>\n",
       "      <th>water_area</th>\n",
       "      <th>education_less_than_high_school_rate</th>\n",
       "      <th>...</th>\n",
       "      <th>number_of_solar_system_per_household</th>\n",
       "      <th>incentive_count_residential</th>\n",
       "      <th>incentive_residential_state_level</th>\n",
       "      <th>net_metering</th>\n",
       "      <th>feedin_tariff</th>\n",
       "      <th>cooperate_tax</th>\n",
       "      <th>property_tax</th>\n",
       "      <th>sales_tax</th>\n",
       "      <th>rebate</th>\n",
       "      <th>avg_electricity_retail_rate</th>\n",
       "    </tr>\n",
       "  </thead>\n",
       "  <tbody>\n",
       "    <tr>\n",
       "      <th>0</th>\n",
       "      <td>70352.789869</td>\n",
       "      <td>Stearns County</td>\n",
       "      <td>0.3490</td>\n",
       "      <td>147.73120</td>\n",
       "      <td>26999.0</td>\n",
       "      <td>44.52005</td>\n",
       "      <td>mn</td>\n",
       "      <td>154.37190</td>\n",
       "      <td>6.640769</td>\n",
       "      <td>0.073879</td>\n",
       "      <td>...</td>\n",
       "      <td>0.000000</td>\n",
       "      <td>34</td>\n",
       "      <td>11</td>\n",
       "      <td>34</td>\n",
       "      <td>0</td>\n",
       "      <td>0</td>\n",
       "      <td>25</td>\n",
       "      <td>12</td>\n",
       "      <td>0</td>\n",
       "      <td>9.46</td>\n",
       "    </tr>\n",
       "    <tr>\n",
       "      <th>1</th>\n",
       "      <td>61727.085202</td>\n",
       "      <td>Stearns County</td>\n",
       "      <td>0.4074</td>\n",
       "      <td>16.61679</td>\n",
       "      <td>20951.0</td>\n",
       "      <td>482.64430</td>\n",
       "      <td>mn</td>\n",
       "      <td>16.69968</td>\n",
       "      <td>0.082887</td>\n",
       "      <td>0.062836</td>\n",
       "      <td>...</td>\n",
       "      <td>0.006726</td>\n",
       "      <td>34</td>\n",
       "      <td>11</td>\n",
       "      <td>34</td>\n",
       "      <td>0</td>\n",
       "      <td>0</td>\n",
       "      <td>25</td>\n",
       "      <td>12</td>\n",
       "      <td>0</td>\n",
       "      <td>9.46</td>\n",
       "    </tr>\n",
       "    <tr>\n",
       "      <th>2</th>\n",
       "      <td>71496.886583</td>\n",
       "      <td>Stearns County</td>\n",
       "      <td>0.3926</td>\n",
       "      <td>37.44482</td>\n",
       "      <td>28021.0</td>\n",
       "      <td>186.16730</td>\n",
       "      <td>mn</td>\n",
       "      <td>39.33050</td>\n",
       "      <td>1.885683</td>\n",
       "      <td>0.064509</td>\n",
       "      <td>...</td>\n",
       "      <td>0.001112</td>\n",
       "      <td>34</td>\n",
       "      <td>11</td>\n",
       "      <td>34</td>\n",
       "      <td>0</td>\n",
       "      <td>0</td>\n",
       "      <td>25</td>\n",
       "      <td>12</td>\n",
       "      <td>0</td>\n",
       "      <td>9.46</td>\n",
       "    </tr>\n",
       "    <tr>\n",
       "      <th>3</th>\n",
       "      <td>86840.152755</td>\n",
       "      <td>Stearns County</td>\n",
       "      <td>0.3949</td>\n",
       "      <td>75.21147</td>\n",
       "      <td>29275.0</td>\n",
       "      <td>84.13610</td>\n",
       "      <td>mn</td>\n",
       "      <td>81.04071</td>\n",
       "      <td>5.829235</td>\n",
       "      <td>0.066840</td>\n",
       "      <td>...</td>\n",
       "      <td>0.000000</td>\n",
       "      <td>34</td>\n",
       "      <td>11</td>\n",
       "      <td>34</td>\n",
       "      <td>0</td>\n",
       "      <td>0</td>\n",
       "      <td>25</td>\n",
       "      <td>12</td>\n",
       "      <td>0</td>\n",
       "      <td>9.46</td>\n",
       "    </tr>\n",
       "    <tr>\n",
       "      <th>4</th>\n",
       "      <td>89135.315597</td>\n",
       "      <td>Stearns County</td>\n",
       "      <td>0.4463</td>\n",
       "      <td>44.00151</td>\n",
       "      <td>32770.0</td>\n",
       "      <td>119.63230</td>\n",
       "      <td>mn</td>\n",
       "      <td>44.60017</td>\n",
       "      <td>0.598656</td>\n",
       "      <td>0.048686</td>\n",
       "      <td>...</td>\n",
       "      <td>0.002087</td>\n",
       "      <td>34</td>\n",
       "      <td>11</td>\n",
       "      <td>34</td>\n",
       "      <td>0</td>\n",
       "      <td>0</td>\n",
       "      <td>25</td>\n",
       "      <td>12</td>\n",
       "      <td>0</td>\n",
       "      <td>9.46</td>\n",
       "    </tr>\n",
       "  </tbody>\n",
       "</table>\n",
       "<p>5 rows × 108 columns</p>\n",
       "</div>"
      ],
      "text/plain": [
       "   average_household_income          county  gini_index  land_area  \\\n",
       "0              70352.789869  Stearns County      0.3490  147.73120   \n",
       "1              61727.085202  Stearns County      0.4074   16.61679   \n",
       "2              71496.886583  Stearns County      0.3926   37.44482   \n",
       "3              86840.152755  Stearns County      0.3949   75.21147   \n",
       "4              89135.315597  Stearns County      0.4463   44.00151   \n",
       "\n",
       "   per_capita_income  population_density state  total_area  water_area  \\\n",
       "0            26999.0            44.52005    mn   154.37190    6.640769   \n",
       "1            20951.0           482.64430    mn    16.69968    0.082887   \n",
       "2            28021.0           186.16730    mn    39.33050    1.885683   \n",
       "3            29275.0            84.13610    mn    81.04071    5.829235   \n",
       "4            32770.0           119.63230    mn    44.60017    0.598656   \n",
       "\n",
       "   education_less_than_high_school_rate             ...               \\\n",
       "0                              0.073879             ...                \n",
       "1                              0.062836             ...                \n",
       "2                              0.064509             ...                \n",
       "3                              0.066840             ...                \n",
       "4                              0.048686             ...                \n",
       "\n",
       "   number_of_solar_system_per_household  incentive_count_residential  \\\n",
       "0                              0.000000                           34   \n",
       "1                              0.006726                           34   \n",
       "2                              0.001112                           34   \n",
       "3                              0.000000                           34   \n",
       "4                              0.002087                           34   \n",
       "\n",
       "   incentive_residential_state_level  net_metering  feedin_tariff  \\\n",
       "0                                 11            34              0   \n",
       "1                                 11            34              0   \n",
       "2                                 11            34              0   \n",
       "3                                 11            34              0   \n",
       "4                                 11            34              0   \n",
       "\n",
       "   cooperate_tax  property_tax  sales_tax  rebate  avg_electricity_retail_rate  \n",
       "0              0            25         12       0                         9.46  \n",
       "1              0            25         12       0                         9.46  \n",
       "2              0            25         12       0                         9.46  \n",
       "3              0            25         12       0                         9.46  \n",
       "4              0            25         12       0                         9.46  \n",
       "\n",
       "[5 rows x 108 columns]"
      ]
     },
     "execution_count": 6,
     "metadata": {},
     "output_type": "execute_result"
    }
   ],
   "source": [
    "deepsolar.head()"
   ]
  },
  {
   "cell_type": "markdown",
   "metadata": {},
   "source": [
    "### age_more_than_85_rate\n",
    "This variable was returned by the random forest model as one of the most important features contributing to the model.  However, it's intuitively more likely that some other confounding variable contributes to this variable's apparent importance, not that a census tract having a high rate of population of 85 is a genuine predictor of solar panel adoption."
   ]
  },
  {
   "cell_type": "markdown",
   "metadata": {},
   "source": [
    "There are dramatically fewer census tracts with `age_more_than_85_rate` above 5% than there are other age range rates."
   ]
  },
  {
   "cell_type": "code",
   "execution_count": 7,
   "metadata": {},
   "outputs": [
    {
     "name": "stdout",
     "output_type": "stream",
     "text": [
      "3993\n",
      "25413\n",
      "58270\n",
      "70353\n",
      "70230\n",
      "69234\n",
      "63623\n"
     ]
    }
   ],
   "source": [
    "print(deepsolar[deepsolar['age_more_than_85_rate'] > .05].shape[0])\n",
    "print(deepsolar[deepsolar['age_75_84_rate'] > 0.05].shape[0])\n",
    "print(deepsolar[deepsolar['age_65_74_rate'] > 0.05].shape[0])\n",
    "print(deepsolar[deepsolar['age_45_54_rate'] > 0.05].shape[0])\n",
    "print(deepsolar[deepsolar['age_35_44_rate'] > 0.05].shape[0])\n",
    "print(deepsolar[deepsolar['age_25_34_rate'] > 0.05].shape[0])\n",
    "print(deepsolar[deepsolar['age_18_24_rate'] > 0.05].shape[0])"
   ]
  },
  {
   "cell_type": "markdown",
   "metadata": {},
   "source": [
    "Histograms confirm negative skew. Other age variables also have this negative skew, but `age_more_than_85_rate` also has an irregularity at the positive end of the histogram."
   ]
  },
  {
   "cell_type": "code",
   "execution_count": 18,
   "metadata": {},
   "outputs": [
    {
     "data": {
      "image/png": "[encoded data removed]",
      "text/plain": [
       "<matplotlib.figure.Figure at 0x11cf8cbe0>"
      ]
     },
     "metadata": {},
     "output_type": "display_data"
    }
   ],
   "source": [
    "# histograms - using log to better see structure\n",
    "age_variables = ['age_more_than_85_rate', 'age_75_84_rate', 'age_65_74_rate', 'age_45_54_rate', \n",
    "                 'age_35_44_rate', 'age_25_34_rate', 'age_18_24_rate']\n",
    "deepsolar[age_variables].hist(figsize=(20,20), log=True, range=(0,1))\n",
    "plt.show()"
   ]
  },
  {
   "cell_type": "markdown",
   "metadata": {},
   "source": [
    "This variable is not highly correlated with any other variable."
   ]
  },
  {
   "cell_type": "code",
   "execution_count": 9,
   "metadata": {},
   "outputs": [
    {
     "data": {
      "text/plain": [
       "age_more_than_85_rate                      1.000000\n",
       "age_75_84_rate                             0.626207\n",
       "age_median                                 0.517923\n",
       "age_65_74_rate                             0.403273\n",
       "health_insurance_public_rate               0.223245\n",
       "age_55_64_rate                             0.212372\n",
       "race_white_rate                            0.178661\n",
       "travel_time_less_than_10_rate              0.173140\n",
       "gini_index                                 0.151230\n",
       "per_capita_income                          0.150160\n",
       "occupation_education_rate                  0.116836\n",
       "number_of_years_of_education               0.116609\n",
       "education_professional_school_rate         0.114575\n",
       "occupation_finance_rate                    0.109584\n",
       "transportation_home_rate                   0.097627\n",
       "sales_tax                                  0.095616\n",
       "occupancy_vacant_rate                      0.091875\n",
       "employ_rate                                0.087333\n",
       "education_master_rate                      0.079683\n",
       "lon                                        0.074207\n",
       "relative_humidity                          0.073722\n",
       "transportation_car_alone_rate              0.072631\n",
       "education_doctoral_rate                    0.068197\n",
       "travel_time_10_19_rate                     0.061376\n",
       "education_bachelor_rate                    0.057096\n",
       "atmospheric_pressure                       0.053582\n",
       "heating_fuel_fuel_oil_kerosene_rate        0.049616\n",
       "avg_electricity_retail_rate                0.048309\n",
       "electricity_price_residential              0.046795\n",
       "net_metering                               0.045969\n",
       "                                             ...   \n",
       "voting_2016_dem_win                       -0.052660\n",
       "elevation                                 -0.054185\n",
       "transportation_public_rate                -0.057265\n",
       "travel_time_60_89_rate                    -0.060702\n",
       "travel_time_20_29_rate                    -0.064029\n",
       "population_density                        -0.065484\n",
       "occupation_transportation_rate            -0.072962\n",
       "cooling_design_temperature                -0.073690\n",
       "travel_time_40_59_rate                    -0.081609\n",
       "age_45_54_rate                            -0.083801\n",
       "occupation_construction_rate              -0.093701\n",
       "race_black_africa_rate                    -0.105319\n",
       "race_two_more_rate                        -0.113633\n",
       "transportation_carpool_rate               -0.114920\n",
       "travel_time_average                       -0.120011\n",
       "travel_time_30_39_rate                    -0.127129\n",
       "education_less_than_high_school_rate      -0.151368\n",
       "poverty_family_below_poverty_level_rate   -0.151400\n",
       "race_other_rate                           -0.158189\n",
       "age_18_24_rate                            -0.170776\n",
       "age_15_17_rate                            -0.188232\n",
       "diversity                                 -0.199641\n",
       "health_insurance_none_rate                -0.202613\n",
       "household_type_family_rate                -0.223136\n",
       "age_25_34_rate                            -0.228522\n",
       "age_10_14_rate                            -0.244496\n",
       "mortgage_with_rate                        -0.246363\n",
       "age_5_9_rate                              -0.276759\n",
       "age_35_44_rate                            -0.304962\n",
       "average_household_size                    -0.359650\n",
       "Name: age_more_than_85_rate, Length: 106, dtype: float64"
      ]
     },
     "execution_count": 9,
     "metadata": {},
     "output_type": "execute_result"
    }
   ],
   "source": [
    "deepsolar.corr().loc['age_more_than_85_rate'].sort_values(ascending=False)"
   ]
  }
 ],
 "metadata": {
  "kernelspec": {
   "display_name": "Python 3",
   "language": "python",
   "name": "python3"
  },
  "language_info": {
   "codemirror_mode": {
    "name": "ipython",
    "version": 3
   },
   "file_extension": ".py",
   "mimetype": "text/x-python",
   "name": "python",
   "nbconvert_exporter": "python",
   "pygments_lexer": "ipython3",
   "version": "3.6.1"
  }
 },
 "nbformat": 4,
 "nbformat_minor": 2
}
